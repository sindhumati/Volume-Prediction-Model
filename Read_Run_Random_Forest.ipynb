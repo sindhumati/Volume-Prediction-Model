{
 "cells": [
  {
   "cell_type": "code",
   "execution_count": 1,
   "id": "8b729c67",
   "metadata": {},
   "outputs": [],
   "source": [
    "from numpy import int64\n",
    "import numpy as np\n",
    "import pandas as pd\n",
    "from pandas import read_csv\n",
    "from keras.models import Sequential\n",
    "from keras.layers import Dense\n",
    "from keras.wrappers.scikit_learn import KerasRegressor\n",
    "from sklearn.model_selection import cross_val_score\n",
    "from sklearn.model_selection import KFold\n",
    "from sklearn.pipeline import Pipeline\n",
    "from sklearn.model_selection import train_test_split\n",
    "import seaborn as sns\n",
    "from sklearn.ensemble import RandomForestRegressor\n",
    "from sklearn.metrics import mean_squared_error, mean_absolute_error, r2_score\n",
    "import datetime"
   ]
  },
  {
   "cell_type": "code",
   "execution_count": 2,
   "id": "126a8024",
   "metadata": {},
   "outputs": [
    {
     "data": {
      "text/plain": [
       "Index(['id_physician', 'Medialength.9', 'Medialength.8', 'Medialength.7',\n",
       "       'Medialength.6', 'Medialength.5', 'Medialength.4', 'Medialength.3',\n",
       "       'Medialength.29', 'Medialength.28',\n",
       "       ...\n",
       "       'Appointments.10', 'Appointments.1', 'Appointments.0',\n",
       "       'Appointments.-7', 'Appointments.-6', 'Appointments.-5',\n",
       "       'Appointments.-4', 'Appointments.-3', 'Appointments.-2',\n",
       "       'Appointments.-1'],\n",
       "      dtype='object', length=112)"
      ]
     },
     "execution_count": 2,
     "metadata": {},
     "output_type": "execute_result"
    }
   ],
   "source": [
    "Oct_stacked=pd.read_csv(\"Oct_data.tsv\",sep=\"\\t\",low_memory=False)\n",
    "Oct_stacked.columns.sort_values(ascending=False)"
   ]
  },
  {
   "cell_type": "code",
   "execution_count": 3,
   "id": "707f71d7",
   "metadata": {},
   "outputs": [
    {
     "data": {
      "text/plain": [
       "Index(['id_physician', 'Encounters.4', 'Encounters.6', 'Encounters.7',\n",
       "       'Encounters.13', 'Encounters.14', 'Encounters.18', 'Encounters.20',\n",
       "       'Encounters.21', 'Encounters.25',\n",
       "       ...\n",
       "       'Appointments.15', 'Appointments.23', 'Encounters.-6', 'Encounters.-5',\n",
       "       'Medialength.-6', 'Medialength.-5', 'Encounters.9', 'Medialength.9',\n",
       "       'Appointments.9', 'Current_Day.empty'],\n",
       "      dtype='object', length=112)"
      ]
     },
     "execution_count": 3,
     "metadata": {},
     "output_type": "execute_result"
    }
   ],
   "source": [
    "Oct_stacked.dropna(subset=\"EncounterDate.empty\",inplace=True)\n",
    "Oct_stacked=Oct_stacked[Oct_stacked[\"EncounterDate.empty\"]!=\"empty\"]\n",
    "Oct_stacked.columns"
   ]
  },
  {
   "cell_type": "code",
   "execution_count": 4,
   "id": "362c75e6",
   "metadata": {},
   "outputs": [],
   "source": [
    "predicted_encounters=['%s.%s'%(\"Encounters\",day)\n",
    "                     for day in range(-1,-8,-1)]\n",
    "predicted_medialength= ['%s.%s'%(\"Medialength\",day)\n",
    "                     for day in range(-1,-8,-1)]\n",
    "predicted_encounters_in_Oct_stacked=[column for column in predicted_encounters if column in Oct_stacked]\n"
   ]
  },
  {
   "cell_type": "code",
   "execution_count": 5,
   "id": "3ceb5746",
   "metadata": {},
   "outputs": [
    {
     "data": {
      "text/plain": [
       "(['Encounters.-1',\n",
       "  'Encounters.-2',\n",
       "  'Encounters.-3',\n",
       "  'Encounters.-4',\n",
       "  'Encounters.-5',\n",
       "  'Encounters.-6',\n",
       "  'Encounters.-7'],\n",
       " ['Medialength.-1',\n",
       "  'Medialength.-2',\n",
       "  'Medialength.-3',\n",
       "  'Medialength.-4',\n",
       "  'Medialength.-5',\n",
       "  'Medialength.-6',\n",
       "  'Medialength.-7'])"
      ]
     },
     "execution_count": 5,
     "metadata": {},
     "output_type": "execute_result"
    }
   ],
   "source": [
    "predicted_encounters,predicted_medialength"
   ]
  },
  {
   "cell_type": "code",
   "execution_count": 6,
   "id": "ef2e3d3c",
   "metadata": {},
   "outputs": [
    {
     "data": {
      "text/plain": [
       "Index(['id_physician', 'Encounters.4', 'Encounters.6', 'Encounters.7',\n",
       "       'Encounters.13', 'Encounters.14', 'Encounters.18', 'Encounters.20',\n",
       "       'Encounters.21', 'Encounters.25', 'Encounters.27', 'Encounters.28',\n",
       "       'Medialength.4', 'Medialength.6', 'Medialength.7', 'Medialength.13',\n",
       "       'Medialength.14', 'Medialength.18', 'Medialength.20', 'Medialength.21',\n",
       "       'Medialength.25', 'Medialength.27', 'Medialength.28', 'Appointments.-7',\n",
       "       'Appointments.-3', 'Appointments.-1', 'Appointments.0',\n",
       "       'Appointments.4', 'Appointments.6', 'Appointments.7', 'Appointments.13',\n",
       "       'Appointments.14', 'Appointments.18', 'Appointments.20',\n",
       "       'Appointments.21', 'Appointments.25', 'Appointments.27',\n",
       "       'Appointments.28', 'Encounters.5', 'Encounters.11', 'Medialength.5',\n",
       "       'Medialength.11', 'Appointments.-4', 'Appointments.5',\n",
       "       'Appointments.11', 'Encounters.3', 'Encounters.10', 'Encounters.12',\n",
       "       'Encounters.17', 'Encounters.19', 'Encounters.26', 'Medialength.3',\n",
       "       'Medialength.10', 'Medialength.12', 'Medialength.17', 'Medialength.19',\n",
       "       'Medialength.26', 'Appointments.3', 'Appointments.10',\n",
       "       'Appointments.12', 'Appointments.17', 'Appointments.19',\n",
       "       'Appointments.26', 'Encounters.16', 'Encounters.24', 'Encounters.29',\n",
       "       'Medialength.16', 'Medialength.24', 'Medialength.29', 'Appointments.-2',\n",
       "       'Appointments.16', 'Appointments.24', 'Appointments.29', 'Encounters.8',\n",
       "       'Medialength.8', 'Appointments.8', 'Encounters.1', 'Encounters.22',\n",
       "       'Medialength.1', 'Medialength.22', 'Appointments.1', 'Appointments.22',\n",
       "       'Encounters.2', 'Encounters.15', 'Encounters.23', 'Medialength.2',\n",
       "       'Medialength.15', 'Medialength.23', 'Appointments.-6',\n",
       "       'Appointments.-5', 'Appointments.2', 'Appointments.15',\n",
       "       'Appointments.23', 'Encounters.9', 'Medialength.9', 'Appointments.9',\n",
       "       'Current_Day.empty'],\n",
       "      dtype='object')"
      ]
     },
     "execution_count": 6,
     "metadata": {},
     "output_type": "execute_result"
    }
   ],
   "source": [
    "train_pred=Oct_stacked[pd.to_datetime(Oct_stacked[\"EncounterDate.empty\"]).dt.date<datetime.date(2022,10,22)]\n",
    "test_pred= Oct_stacked[pd.to_datetime(Oct_stacked[\"EncounterDate.empty\"]).dt.date>datetime.date(2022,10,22)]\n",
    "\n",
    "X_train_pred =train_pred.drop(columns= predicted_encounters + predicted_medialength,errors=\"ignore\")\n",
    "X_train_pred= X_train_pred.drop(['EncounterDate.empty'], axis=1)\n",
    "Y_train_pred_7=train_pred[predicted_encounters_in_Oct_stacked]\n",
    "X_test_pred=test_pred.drop(columns=predicted_encounters + predicted_medialength,errors=\"ignore\")\n",
    "X_test_pred= X_test_pred.drop(['EncounterDate.empty'], axis=1)\n",
    "Y_test_pred_7=test_pred[predicted_encounters_in_Oct_stacked]\n",
    "# Oct_stacked.columns\n",
    "X_test_pred.columns"
   ]
  },
  {
   "cell_type": "code",
   "execution_count": 7,
   "id": "83802231",
   "metadata": {},
   "outputs": [
    {
     "name": "stdout",
     "output_type": "stream",
     "text": [
      "['Encounters.-1', 'Encounters.-2', 'Encounters.-3', 'Encounters.-4', 'Encounters.-5', 'Encounters.-6', 'Encounters.-7']\n"
     ]
    }
   ],
   "source": [
    "print(predicted_encounters_in_Oct_stacked)"
   ]
  },
  {
   "cell_type": "code",
   "execution_count": 8,
   "id": "375b0d21",
   "metadata": {},
   "outputs": [],
   "source": [
    "def random_forest_day(X_train_pred,Y_train_pred_7,X_test_pred,Y_test_pred_7,day):\n",
    "\n",
    "    Enc_day=\"Encounters.%d\"%day\n",
    "    LX_train_pred=X_train_pred.copy()\n",
    "    LX_train_pred.fillna(value=0,inplace=True)\n",
    "\n",
    "    LX_test_pred=X_test_pred.copy()\n",
    "    LX_test_pred.fillna(value=0,inplace=True)\n",
    "\n",
    "    LY_train_pred=Y_train_pred_7[Enc_day].copy()\n",
    "\n",
    "    LY_train_pred.columns=[day]\n",
    "    LY_train_pred.fillna(value=0,inplace=True)\n",
    "    \n",
    "    LY_test_pred=Y_test_pred_7.copy()\n",
    "    LY_test_pred.fillna(value=0,inplace=True)\n",
    "\n",
    "    model = RandomForestRegressor(n_estimators=100,\n",
    "                                  criterion='squared_error',\n",
    "                                  random_state=None,\n",
    "                                  max_samples= None,\n",
    "                                  max_features= 0.8 ,\n",
    "                                  max_depth=60)\n",
    "\n",
    "    model.fit(LX_train_pred, LY_train_pred)\n",
    "    print(LX_test_pred)\n",
    "    y_pred_RF = model.predict(LX_test_pred)\n",
    "    y_pred_RF_df=pd.DataFrame({Enc_day+\"_predicted\":y_pred_RF},index=LX_test_pred.index)\n",
    "    df_result=pd.concat([LX_test_pred,LY_test_pred,y_pred_RF_df],axis=1,join = 'outer')\n",
    "\n",
    "    return df_result"
   ]
  },
  {
   "cell_type": "code",
   "execution_count": 9,
   "id": "2f0f6eaa",
   "metadata": {},
   "outputs": [
    {
     "name": "stdout",
     "output_type": "stream",
     "text": [
      "       id_physician  Encounters.4  Encounters.6  Encounters.7  Encounters.13  \\\n",
      "36407           165           0.0          50.0           0.0           45.0   \n",
      "36408           676           0.0          40.0           0.0           43.0   \n",
      "36409           678          43.0          33.0           0.0            0.0   \n",
      "36410           689          27.0           1.0           0.0           29.0   \n",
      "36411           702           0.0          42.0           0.0           39.0   \n",
      "...             ...           ...           ...           ...            ...   \n",
      "56285         73060           0.0           0.0           0.0            0.0   \n",
      "56286         73062           0.0           0.0           0.0            0.0   \n",
      "56287         73068           0.0           0.0           0.0            0.0   \n",
      "56288         73089           0.0           0.0           0.0            0.0   \n",
      "56289         73147           0.0           0.0           0.0            0.0   \n",
      "\n",
      "       Encounters.14  Encounters.18  Encounters.20  Encounters.21  \\\n",
      "36407            0.0            0.0           43.0            0.0   \n",
      "36408            0.0           28.0           41.0            0.0   \n",
      "36409            0.0           37.0           31.0            0.0   \n",
      "36410            0.0           31.0           27.0            0.0   \n",
      "36411            0.0            0.0           33.0            0.0   \n",
      "...              ...            ...            ...            ...   \n",
      "56285            0.0            0.0            0.0            0.0   \n",
      "56286            0.0            0.0            0.0            0.0   \n",
      "56287            0.0            0.0            0.0            0.0   \n",
      "56288            0.0            0.0            0.0            0.0   \n",
      "56289            0.0            0.0            0.0            0.0   \n",
      "\n",
      "       Encounters.25  ...  Medialength.23  Appointments.-6  Appointments.-5  \\\n",
      "36407            0.0  ...             0.0              0.0              0.0   \n",
      "36408            0.0  ...             0.0              0.0              0.0   \n",
      "36409           41.0  ...      19088000.0              0.0              0.0   \n",
      "36410           30.0  ...      15380000.0              0.0              0.0   \n",
      "36411            0.0  ...             0.0              0.0              0.0   \n",
      "...              ...  ...             ...              ...              ...   \n",
      "56285            0.0  ...             0.0              0.0              0.0   \n",
      "56286            0.0  ...             0.0              0.0              0.0   \n",
      "56287            0.0  ...             0.0              0.0              0.0   \n",
      "56288            0.0  ...             0.0              0.0              0.0   \n",
      "56289            0.0  ...             0.0              0.0              0.0   \n",
      "\n",
      "       Appointments.2  Appointments.15  Appointments.23  Encounters.9  \\\n",
      "36407             0.0              0.0              0.0           0.0   \n",
      "36408             0.0              0.0              0.0          37.0   \n",
      "36409             0.0              0.0              0.0           0.0   \n",
      "36410             0.0              0.0              0.0           3.0   \n",
      "36411             0.0              0.0              0.0           0.0   \n",
      "...               ...              ...              ...           ...   \n",
      "56285             0.0              0.0              0.0           0.0   \n",
      "56286             0.0              0.0              0.0           0.0   \n",
      "56287             0.0              0.0              0.0           0.0   \n",
      "56288             0.0              0.0              0.0           0.0   \n",
      "56289             0.0              0.0              0.0           0.0   \n",
      "\n",
      "       Medialength.9  Appointments.9  Current_Day.empty  \n",
      "36407            0.0             0.0                 23  \n",
      "36408     16865000.0             0.0                 23  \n",
      "36409            0.0             0.0                 23  \n",
      "36410       336000.0             0.0                 23  \n",
      "36411            0.0             0.0                 23  \n",
      "...              ...             ...                ...  \n",
      "56285            0.0             0.0                 29  \n",
      "56286            0.0             0.0                 29  \n",
      "56287            0.0             0.0                 29  \n",
      "56288            0.0             0.0                 29  \n",
      "56289            0.0             0.0                 29  \n",
      "\n",
      "[19883 rows x 97 columns]\n"
     ]
    }
   ],
   "source": [
    "Result_day1=random_forest_day(X_train_pred,Y_train_pred_7,X_test_pred,Y_test_pred_7,day=-1)"
   ]
  },
  {
   "cell_type": "code",
   "execution_count": 10,
   "id": "cc08189b",
   "metadata": {},
   "outputs": [
    {
     "data": {
      "text/plain": [
       "((33576, 97), (33576, 7), (19883, 97), (19883, 7), (19883, 105))"
      ]
     },
     "execution_count": 10,
     "metadata": {},
     "output_type": "execute_result"
    }
   ],
   "source": [
    "X_train_pred.shape,Y_train_pred_7.shape,X_test_pred.shape,Y_test_pred_7.shape,Result_day1.shape"
   ]
  },
  {
   "cell_type": "code",
   "execution_count": 11,
   "id": "ffaf1e30",
   "metadata": {},
   "outputs": [
    {
     "data": {
      "text/html": [
       "<div>\n",
       "<style scoped>\n",
       "    .dataframe tbody tr th:only-of-type {\n",
       "        vertical-align: middle;\n",
       "    }\n",
       "\n",
       "    .dataframe tbody tr th {\n",
       "        vertical-align: top;\n",
       "    }\n",
       "\n",
       "    .dataframe thead th {\n",
       "        text-align: right;\n",
       "    }\n",
       "</style>\n",
       "<table border=\"1\" class=\"dataframe\">\n",
       "  <thead>\n",
       "    <tr style=\"text-align: right;\">\n",
       "      <th></th>\n",
       "      <th>id_physician</th>\n",
       "      <th>Encounters.4</th>\n",
       "      <th>Encounters.6</th>\n",
       "      <th>Encounters.7</th>\n",
       "      <th>Encounters.13</th>\n",
       "      <th>Encounters.14</th>\n",
       "      <th>Encounters.18</th>\n",
       "      <th>Encounters.20</th>\n",
       "      <th>Encounters.21</th>\n",
       "      <th>Encounters.25</th>\n",
       "      <th>...</th>\n",
       "      <th>Appointments.9</th>\n",
       "      <th>Current_Day.empty</th>\n",
       "      <th>Encounters.-1</th>\n",
       "      <th>Encounters.-2</th>\n",
       "      <th>Encounters.-3</th>\n",
       "      <th>Encounters.-4</th>\n",
       "      <th>Encounters.-5</th>\n",
       "      <th>Encounters.-6</th>\n",
       "      <th>Encounters.-7</th>\n",
       "      <th>Encounters.-1_predicted</th>\n",
       "    </tr>\n",
       "  </thead>\n",
       "  <tbody>\n",
       "    <tr>\n",
       "      <th>56282</th>\n",
       "      <td>73051</td>\n",
       "      <td>0.0</td>\n",
       "      <td>0.0</td>\n",
       "      <td>0.0</td>\n",
       "      <td>0.0</td>\n",
       "      <td>0.0</td>\n",
       "      <td>0.0</td>\n",
       "      <td>0.0</td>\n",
       "      <td>0.0</td>\n",
       "      <td>0.0</td>\n",
       "      <td>...</td>\n",
       "      <td>0.0</td>\n",
       "      <td>29</td>\n",
       "      <td>0.0</td>\n",
       "      <td>0.0</td>\n",
       "      <td>0.0</td>\n",
       "      <td>0.0</td>\n",
       "      <td>0.0</td>\n",
       "      <td>0.0</td>\n",
       "      <td>0.0</td>\n",
       "      <td>0.16</td>\n",
       "    </tr>\n",
       "    <tr>\n",
       "      <th>56283</th>\n",
       "      <td>73053</td>\n",
       "      <td>0.0</td>\n",
       "      <td>0.0</td>\n",
       "      <td>0.0</td>\n",
       "      <td>0.0</td>\n",
       "      <td>0.0</td>\n",
       "      <td>0.0</td>\n",
       "      <td>0.0</td>\n",
       "      <td>0.0</td>\n",
       "      <td>0.0</td>\n",
       "      <td>...</td>\n",
       "      <td>0.0</td>\n",
       "      <td>29</td>\n",
       "      <td>0.0</td>\n",
       "      <td>0.0</td>\n",
       "      <td>0.0</td>\n",
       "      <td>0.0</td>\n",
       "      <td>0.0</td>\n",
       "      <td>0.0</td>\n",
       "      <td>0.0</td>\n",
       "      <td>0.04</td>\n",
       "    </tr>\n",
       "    <tr>\n",
       "      <th>56284</th>\n",
       "      <td>73055</td>\n",
       "      <td>0.0</td>\n",
       "      <td>0.0</td>\n",
       "      <td>0.0</td>\n",
       "      <td>0.0</td>\n",
       "      <td>0.0</td>\n",
       "      <td>0.0</td>\n",
       "      <td>0.0</td>\n",
       "      <td>0.0</td>\n",
       "      <td>0.0</td>\n",
       "      <td>...</td>\n",
       "      <td>0.0</td>\n",
       "      <td>29</td>\n",
       "      <td>0.0</td>\n",
       "      <td>0.0</td>\n",
       "      <td>0.0</td>\n",
       "      <td>0.0</td>\n",
       "      <td>0.0</td>\n",
       "      <td>0.0</td>\n",
       "      <td>0.0</td>\n",
       "      <td>0.12</td>\n",
       "    </tr>\n",
       "    <tr>\n",
       "      <th>56285</th>\n",
       "      <td>73060</td>\n",
       "      <td>0.0</td>\n",
       "      <td>0.0</td>\n",
       "      <td>0.0</td>\n",
       "      <td>0.0</td>\n",
       "      <td>0.0</td>\n",
       "      <td>0.0</td>\n",
       "      <td>0.0</td>\n",
       "      <td>0.0</td>\n",
       "      <td>0.0</td>\n",
       "      <td>...</td>\n",
       "      <td>0.0</td>\n",
       "      <td>29</td>\n",
       "      <td>0.0</td>\n",
       "      <td>0.0</td>\n",
       "      <td>0.0</td>\n",
       "      <td>0.0</td>\n",
       "      <td>0.0</td>\n",
       "      <td>0.0</td>\n",
       "      <td>0.0</td>\n",
       "      <td>0.16</td>\n",
       "    </tr>\n",
       "    <tr>\n",
       "      <th>56286</th>\n",
       "      <td>73062</td>\n",
       "      <td>0.0</td>\n",
       "      <td>0.0</td>\n",
       "      <td>0.0</td>\n",
       "      <td>0.0</td>\n",
       "      <td>0.0</td>\n",
       "      <td>0.0</td>\n",
       "      <td>0.0</td>\n",
       "      <td>0.0</td>\n",
       "      <td>0.0</td>\n",
       "      <td>...</td>\n",
       "      <td>0.0</td>\n",
       "      <td>29</td>\n",
       "      <td>0.0</td>\n",
       "      <td>0.0</td>\n",
       "      <td>0.0</td>\n",
       "      <td>0.0</td>\n",
       "      <td>0.0</td>\n",
       "      <td>0.0</td>\n",
       "      <td>0.0</td>\n",
       "      <td>0.16</td>\n",
       "    </tr>\n",
       "    <tr>\n",
       "      <th>56287</th>\n",
       "      <td>73068</td>\n",
       "      <td>0.0</td>\n",
       "      <td>0.0</td>\n",
       "      <td>0.0</td>\n",
       "      <td>0.0</td>\n",
       "      <td>0.0</td>\n",
       "      <td>0.0</td>\n",
       "      <td>0.0</td>\n",
       "      <td>0.0</td>\n",
       "      <td>0.0</td>\n",
       "      <td>...</td>\n",
       "      <td>0.0</td>\n",
       "      <td>29</td>\n",
       "      <td>0.0</td>\n",
       "      <td>0.0</td>\n",
       "      <td>0.0</td>\n",
       "      <td>0.0</td>\n",
       "      <td>0.0</td>\n",
       "      <td>0.0</td>\n",
       "      <td>0.0</td>\n",
       "      <td>0.12</td>\n",
       "    </tr>\n",
       "    <tr>\n",
       "      <th>56288</th>\n",
       "      <td>73089</td>\n",
       "      <td>0.0</td>\n",
       "      <td>0.0</td>\n",
       "      <td>0.0</td>\n",
       "      <td>0.0</td>\n",
       "      <td>0.0</td>\n",
       "      <td>0.0</td>\n",
       "      <td>0.0</td>\n",
       "      <td>0.0</td>\n",
       "      <td>0.0</td>\n",
       "      <td>...</td>\n",
       "      <td>0.0</td>\n",
       "      <td>29</td>\n",
       "      <td>0.0</td>\n",
       "      <td>0.0</td>\n",
       "      <td>0.0</td>\n",
       "      <td>0.0</td>\n",
       "      <td>0.0</td>\n",
       "      <td>0.0</td>\n",
       "      <td>0.0</td>\n",
       "      <td>0.12</td>\n",
       "    </tr>\n",
       "    <tr>\n",
       "      <th>56289</th>\n",
       "      <td>73147</td>\n",
       "      <td>0.0</td>\n",
       "      <td>0.0</td>\n",
       "      <td>0.0</td>\n",
       "      <td>0.0</td>\n",
       "      <td>0.0</td>\n",
       "      <td>0.0</td>\n",
       "      <td>0.0</td>\n",
       "      <td>0.0</td>\n",
       "      <td>0.0</td>\n",
       "      <td>...</td>\n",
       "      <td>0.0</td>\n",
       "      <td>29</td>\n",
       "      <td>0.0</td>\n",
       "      <td>0.0</td>\n",
       "      <td>0.0</td>\n",
       "      <td>0.0</td>\n",
       "      <td>0.0</td>\n",
       "      <td>0.0</td>\n",
       "      <td>0.0</td>\n",
       "      <td>0.12</td>\n",
       "    </tr>\n",
       "  </tbody>\n",
       "</table>\n",
       "<p>8 rows × 105 columns</p>\n",
       "</div>"
      ],
      "text/plain": [
       "       id_physician  Encounters.4  Encounters.6  Encounters.7  Encounters.13  \\\n",
       "56282         73051           0.0           0.0           0.0            0.0   \n",
       "56283         73053           0.0           0.0           0.0            0.0   \n",
       "56284         73055           0.0           0.0           0.0            0.0   \n",
       "56285         73060           0.0           0.0           0.0            0.0   \n",
       "56286         73062           0.0           0.0           0.0            0.0   \n",
       "56287         73068           0.0           0.0           0.0            0.0   \n",
       "56288         73089           0.0           0.0           0.0            0.0   \n",
       "56289         73147           0.0           0.0           0.0            0.0   \n",
       "\n",
       "       Encounters.14  Encounters.18  Encounters.20  Encounters.21  \\\n",
       "56282            0.0            0.0            0.0            0.0   \n",
       "56283            0.0            0.0            0.0            0.0   \n",
       "56284            0.0            0.0            0.0            0.0   \n",
       "56285            0.0            0.0            0.0            0.0   \n",
       "56286            0.0            0.0            0.0            0.0   \n",
       "56287            0.0            0.0            0.0            0.0   \n",
       "56288            0.0            0.0            0.0            0.0   \n",
       "56289            0.0            0.0            0.0            0.0   \n",
       "\n",
       "       Encounters.25  ...  Appointments.9  Current_Day.empty  Encounters.-1  \\\n",
       "56282            0.0  ...             0.0                 29            0.0   \n",
       "56283            0.0  ...             0.0                 29            0.0   \n",
       "56284            0.0  ...             0.0                 29            0.0   \n",
       "56285            0.0  ...             0.0                 29            0.0   \n",
       "56286            0.0  ...             0.0                 29            0.0   \n",
       "56287            0.0  ...             0.0                 29            0.0   \n",
       "56288            0.0  ...             0.0                 29            0.0   \n",
       "56289            0.0  ...             0.0                 29            0.0   \n",
       "\n",
       "       Encounters.-2  Encounters.-3  Encounters.-4  Encounters.-5  \\\n",
       "56282            0.0            0.0            0.0            0.0   \n",
       "56283            0.0            0.0            0.0            0.0   \n",
       "56284            0.0            0.0            0.0            0.0   \n",
       "56285            0.0            0.0            0.0            0.0   \n",
       "56286            0.0            0.0            0.0            0.0   \n",
       "56287            0.0            0.0            0.0            0.0   \n",
       "56288            0.0            0.0            0.0            0.0   \n",
       "56289            0.0            0.0            0.0            0.0   \n",
       "\n",
       "       Encounters.-6  Encounters.-7  Encounters.-1_predicted  \n",
       "56282            0.0            0.0                     0.16  \n",
       "56283            0.0            0.0                     0.04  \n",
       "56284            0.0            0.0                     0.12  \n",
       "56285            0.0            0.0                     0.16  \n",
       "56286            0.0            0.0                     0.16  \n",
       "56287            0.0            0.0                     0.12  \n",
       "56288            0.0            0.0                     0.12  \n",
       "56289            0.0            0.0                     0.12  \n",
       "\n",
       "[8 rows x 105 columns]"
      ]
     },
     "execution_count": 11,
     "metadata": {},
     "output_type": "execute_result"
    }
   ],
   "source": [
    "Result_day1.tail(8)"
   ]
  },
  {
   "cell_type": "code",
   "execution_count": 12,
   "id": "6df814ec",
   "metadata": {},
   "outputs": [
    {
     "name": "stdout",
     "output_type": "stream",
     "text": [
      "False\n"
     ]
    }
   ],
   "source": [
    "print(Result_day1.isnull().values.any())"
   ]
  },
  {
   "cell_type": "code",
   "execution_count": 13,
   "id": "085f7754",
   "metadata": {},
   "outputs": [
    {
     "name": "stdout",
     "output_type": "stream",
     "text": [
      "Index(['id_physician', 'Encounters.4', 'Encounters.6', 'Encounters.7',\n",
      "       'Encounters.13', 'Encounters.14', 'Encounters.18', 'Encounters.20',\n",
      "       'Encounters.21', 'Encounters.25',\n",
      "       ...\n",
      "       'Appointments.9', 'Current_Day.empty', 'Encounters.-1', 'Encounters.-2',\n",
      "       'Encounters.-3', 'Encounters.-4', 'Encounters.-5', 'Encounters.-6',\n",
      "       'Encounters.-7', 'Encounters.-1_predicted'],\n",
      "      dtype='object', length=105)\n"
     ]
    }
   ],
   "source": [
    "print(Result_day1.columns)"
   ]
  },
  {
   "cell_type": "code",
   "execution_count": 14,
   "id": "b38b2632",
   "metadata": {},
   "outputs": [],
   "source": [
    "#Evaluate per day\n",
    "def Oct_test_day(Y_test_pred_7,day):\n",
    "        \n",
    "    Enc_day=\"Encounters.%d\"%day\n",
    "    LY_test_pred= Y_test_pred_7[Enc_day].copy()\n",
    "    LY_test_pred.columns=[day]\n",
    "    LY_test_pred.fillna(value=0,inplace=True)\n",
    "    return LY_test_pred"
   ]
  },
  {
   "cell_type": "code",
   "execution_count": 15,
   "id": "ea0a12d6",
   "metadata": {},
   "outputs": [],
   "source": [
    "y_test_pred_day_M1=Oct_test_day(Y_test_pred_7,day=-1)\n",
    "y_test_pred_day_M7=Oct_test_day(Y_test_pred_7,day=-7)"
   ]
  },
  {
   "cell_type": "code",
   "execution_count": 16,
   "id": "b62bee78",
   "metadata": {},
   "outputs": [],
   "source": [
    "def evaluate(Y_test_pred, y_pred_RF):\n",
    "        print(\"Type of Y_test_pred:\",type(Y_test_pred))\n",
    "        print(\"Type of y_pred_RF:\",type(y_pred_RF))\n",
    "        print(\"Y_test_pred null value:\",Y_test_pred.isnull().values.any())\n",
    "#       print(\"y_pred_RF null value:\",y_pred_RF.isnull().values.any())\n",
    "        print(\"y_pred_RF null value:\",sum(np.isnan(y_pred_RF)))\n",
    "        mse_RF = mean_squared_error(Y_test_pred, y_pred_RF)\n",
    "        mae_RF = mean_absolute_error(Y_test_pred, y_pred_RF)\n",
    "        R_sqr_score=r2_score(Y_test_pred,y_pred_RF)\n",
    "        print('Mean squared error using Random Forest: ', mse_RF)\n",
    "        print('Mean absolute error using Random Forest: ', mae_RF)\n",
    "        print('R2 score:',R_sqr_score) \n",
    "        \n",
    "        return mse_RF,mae_RF,R_sqr_score"
   ]
  },
  {
   "cell_type": "code",
   "execution_count": 17,
   "id": "b7e06548",
   "metadata": {},
   "outputs": [
    {
     "name": "stdout",
     "output_type": "stream",
     "text": [
      "Type of Y_test_pred: <class 'pandas.core.series.Series'>\n",
      "Type of y_pred_RF: <class 'pandas.core.series.Series'>\n",
      "Y_test_pred null value: False\n",
      "y_pred_RF null value: 0\n",
      "Mean squared error using Random Forest:  59.599327817733744\n",
      "Mean absolute error using Random Forest:  3.9277774983654385\n",
      "R2 score: -2.690798398805193\n"
     ]
    },
    {
     "data": {
      "text/plain": [
       "(59.599327817733744, 3.9277774983654385, -2.690798398805193)"
      ]
     },
     "execution_count": 17,
     "metadata": {},
     "output_type": "execute_result"
    }
   ],
   "source": [
    "evaluate(Result_day1.iloc[:,-2],Result_day1.iloc[:,-1])\n",
    "# evaluate(y_test_pred_day_M7[-2],Result_day1[-1])\n",
    "\n",
    "# print(y_test_pred_day_M7.query('Encounters.-1'==0).shape)\n",
    "# print(y_pred_RF_list[0].query('Encounters.-1'==0).shape)\n",
    "# sum(y_test_pred_day_M1==0)\n",
    "# print(sum(y_test_pred_day_M1==0))\n",
    "# print(sum(y_pred_RF_df<0.5))\n",
    "# print(y_pred_RF_df.shape)"
   ]
  },
  {
   "cell_type": "code",
   "execution_count": 18,
   "id": "5671108f",
   "metadata": {},
   "outputs": [
    {
     "data": {
      "text/plain": [
       "pandas.core.series.Series"
      ]
     },
     "execution_count": 18,
     "metadata": {},
     "output_type": "execute_result"
    }
   ],
   "source": [
    "type(y_test_pred_day_M7)"
   ]
  },
  {
   "cell_type": "code",
   "execution_count": 19,
   "id": "33d556e2",
   "metadata": {},
   "outputs": [
    {
     "ename": "NameError",
     "evalue": "name 'y_pred_RF_dict' is not defined",
     "output_type": "error",
     "traceback": [
      "\u001b[1;31m---------------------------------------------------------------------------\u001b[0m",
      "\u001b[1;31mNameError\u001b[0m                                 Traceback (most recent call last)",
      "Input \u001b[1;32mIn [19]\u001b[0m, in \u001b[0;36m<cell line: 1>\u001b[1;34m()\u001b[0m\n\u001b[1;32m----> 1\u001b[0m sns\u001b[38;5;241m.\u001b[39mjointplot(x\u001b[38;5;241m=\u001b[39my_test_pred_day_M7,y\u001b[38;5;241m=\u001b[39m\u001b[43my_pred_RF_dict\u001b[49m[\u001b[38;5;241m-\u001b[39m\u001b[38;5;241m7\u001b[39m])\n",
      "\u001b[1;31mNameError\u001b[0m: name 'y_pred_RF_dict' is not defined"
     ]
    }
   ],
   "source": [
    "# sns.jointplot(x=y_test_pred_day_M7,y=y_pred_RF_dict[-7])"
   ]
  },
  {
   "cell_type": "code",
   "execution_count": 20,
   "id": "e8342f2f",
   "metadata": {},
   "outputs": [],
   "source": [
    "# sns.jointplot(x=y_test_pred_day_M7,y=y_pred_RF_dict[-1])"
   ]
  },
  {
   "cell_type": "code",
   "execution_count": 21,
   "id": "a530de10",
   "metadata": {},
   "outputs": [
    {
     "data": {
      "text/plain": [
       "Index(['Appointments.-1', 'Appointments.-2', 'Appointments.-3',\n",
       "       'Appointments.-4', 'Appointments.-5', 'Appointments.-6',\n",
       "       'Appointments.-7', 'Appointments.0', 'Appointments.1',\n",
       "       'Appointments.10', 'Appointments.11', 'Appointments.12',\n",
       "       'Appointments.13', 'Appointments.14', 'Appointments.15',\n",
       "       'Appointments.16', 'Appointments.17', 'Appointments.18',\n",
       "       'Appointments.19', 'Appointments.2', 'Appointments.20',\n",
       "       'Appointments.21', 'Appointments.22', 'Appointments.23',\n",
       "       'Appointments.24', 'Appointments.25', 'Appointments.26',\n",
       "       'Appointments.27', 'Appointments.28', 'Appointments.29',\n",
       "       'Appointments.3', 'Appointments.4', 'Appointments.5', 'Appointments.6',\n",
       "       'Appointments.7', 'Appointments.8', 'Appointments.9',\n",
       "       'Current_Day.empty', 'Encounters.1', 'Encounters.10', 'Encounters.11',\n",
       "       'Encounters.12', 'Encounters.13', 'Encounters.14', 'Encounters.15',\n",
       "       'Encounters.16', 'Encounters.17', 'Encounters.18', 'Encounters.19',\n",
       "       'Encounters.2', 'Encounters.20', 'Encounters.21', 'Encounters.22',\n",
       "       'Encounters.23', 'Encounters.24', 'Encounters.25', 'Encounters.26',\n",
       "       'Encounters.27', 'Encounters.28', 'Encounters.29', 'Encounters.3',\n",
       "       'Encounters.4', 'Encounters.5', 'Encounters.6', 'Encounters.7',\n",
       "       'Encounters.8', 'Encounters.9', 'Medialength.1', 'Medialength.10',\n",
       "       'Medialength.11', 'Medialength.12', 'Medialength.13', 'Medialength.14',\n",
       "       'Medialength.15', 'Medialength.16', 'Medialength.17', 'Medialength.18',\n",
       "       'Medialength.19', 'Medialength.2', 'Medialength.20', 'Medialength.21',\n",
       "       'Medialength.22', 'Medialength.23', 'Medialength.24', 'Medialength.25',\n",
       "       'Medialength.26', 'Medialength.27', 'Medialength.28', 'Medialength.29',\n",
       "       'Medialength.3', 'Medialength.4', 'Medialength.5', 'Medialength.6',\n",
       "       'Medialength.7', 'Medialength.8', 'Medialength.9', 'id_physician'],\n",
       "      dtype='object')"
      ]
     },
     "execution_count": 21,
     "metadata": {},
     "output_type": "execute_result"
    }
   ],
   "source": [
    "X_test_pred.columns.sort_values()"
   ]
  },
  {
   "cell_type": "code",
   "execution_count": 22,
   "id": "4a8fed53",
   "metadata": {},
   "outputs": [],
   "source": [
    "def evaluate_subset(Xyp,query_str,day):\n",
    "\n",
    "    \n",
    "    Xyp_subset=Xyp.query(query_str).copy()\n",
    "    print(\"Xyp subset:\",Xyp_subset.isnull().values.any())\n",
    "    print(\"Xyp_shape:\",Xyp_subset.shape)\n",
    "    print(\"Test for infinity:\" ,Xyp_subset[np.isfinite(Xyp_subset).all(1)])\n",
    "    \n",
    "    Xyp_subset.replace([np.inf, -np.inf], np.nan, inplace=True)\n",
    "    print(\"Test for infinity:\" ,Xyp_subset[np.isfinite(Xyp_subset).all(1)])\n",
    "    print(\"Xyp y_pred_RF:\",Xyp[\"y_pred_RF_df\"].to_numpy())\n",
    "    print(\"Y_test_pred:\",Xyp[\"Y_test_pred_df\"])\n",
    "   \n",
    "    evaluate(Xyp.iloc[:,-2],Xyp.iloc[:,-1])\n",
    "    \n",
    "  \n",
    "             \n",
    " #concatinate above 3 dataframe into new dataframe(Xyp)----> done "
   ]
  },
  {
   "cell_type": "code",
   "execution_count": 23,
   "id": "7a148b73",
   "metadata": {},
   "outputs": [
    {
     "name": "stdout",
     "output_type": "stream",
     "text": [
      "Xyp subset: False\n",
      "Xyp_shape: (19883, 105)\n",
      "Test for infinity:        id_physician  Encounters.4  Encounters.6  Encounters.7  Encounters.13  \\\n",
      "36407           165           0.0          50.0           0.0           45.0   \n",
      "36408           676           0.0          40.0           0.0           43.0   \n",
      "36409           678          43.0          33.0           0.0            0.0   \n",
      "36410           689          27.0           1.0           0.0           29.0   \n",
      "36411           702           0.0          42.0           0.0           39.0   \n",
      "...             ...           ...           ...           ...            ...   \n",
      "56285         73060           0.0           0.0           0.0            0.0   \n",
      "56286         73062           0.0           0.0           0.0            0.0   \n",
      "56287         73068           0.0           0.0           0.0            0.0   \n",
      "56288         73089           0.0           0.0           0.0            0.0   \n",
      "56289         73147           0.0           0.0           0.0            0.0   \n",
      "\n",
      "       Encounters.14  Encounters.18  Encounters.20  Encounters.21  \\\n",
      "36407            0.0            0.0           43.0            0.0   \n",
      "36408            0.0           28.0           41.0            0.0   \n",
      "36409            0.0           37.0           31.0            0.0   \n",
      "36410            0.0           31.0           27.0            0.0   \n",
      "36411            0.0            0.0           33.0            0.0   \n",
      "...              ...            ...            ...            ...   \n",
      "56285            0.0            0.0            0.0            0.0   \n",
      "56286            0.0            0.0            0.0            0.0   \n",
      "56287            0.0            0.0            0.0            0.0   \n",
      "56288            0.0            0.0            0.0            0.0   \n",
      "56289            0.0            0.0            0.0            0.0   \n",
      "\n",
      "       Encounters.25  ...  Appointments.9  Current_Day.empty  Encounters.-1  \\\n",
      "36407            0.0  ...             0.0                 23            0.0   \n",
      "36408            0.0  ...             0.0                 23           35.0   \n",
      "36409           41.0  ...             0.0                 23           40.0   \n",
      "36410           30.0  ...             0.0                 23           35.0   \n",
      "36411            0.0  ...             0.0                 23           40.0   \n",
      "...              ...  ...             ...                ...            ...   \n",
      "56285            0.0  ...             0.0                 29            0.0   \n",
      "56286            0.0  ...             0.0                 29            0.0   \n",
      "56287            0.0  ...             0.0                 29            0.0   \n",
      "56288            0.0  ...             0.0                 29            0.0   \n",
      "56289            0.0  ...             0.0                 29            0.0   \n",
      "\n",
      "       Encounters.-2  Encounters.-3  Encounters.-4  Encounters.-5  \\\n",
      "36407            0.0            0.0            0.0            0.0   \n",
      "36408           32.0            0.0           41.0            0.0   \n",
      "36409            0.0           36.0            0.0           38.0   \n",
      "36410            0.0           40.0            0.0           21.0   \n",
      "36411           16.0            0.0           39.0            2.0   \n",
      "...              ...            ...            ...            ...   \n",
      "56285            0.0            0.0            0.0            0.0   \n",
      "56286            0.0            0.0            0.0            0.0   \n",
      "56287            0.0            0.0            0.0            0.0   \n",
      "56288            0.0            0.0            0.0            0.0   \n",
      "56289            0.0            0.0            0.0            0.0   \n",
      "\n",
      "       Encounters.-6  Encounters.-7  Encounters.-1_predicted  \n",
      "36407            0.0            0.0                    32.03  \n",
      "36408            0.0            0.0                    37.29  \n",
      "36409            0.0            0.0                    28.25  \n",
      "36410            0.0            0.0                    22.46  \n",
      "36411            0.0            0.0                    31.66  \n",
      "...              ...            ...                      ...  \n",
      "56285            0.0            0.0                     0.16  \n",
      "56286            0.0            0.0                     0.16  \n",
      "56287            0.0            0.0                     0.12  \n",
      "56288            0.0            0.0                     0.12  \n",
      "56289            0.0            0.0                     0.12  \n",
      "\n",
      "[19883 rows x 105 columns]\n",
      "Test for infinity:        id_physician  Encounters.4  Encounters.6  Encounters.7  Encounters.13  \\\n",
      "36407           165           0.0          50.0           0.0           45.0   \n",
      "36408           676           0.0          40.0           0.0           43.0   \n",
      "36409           678          43.0          33.0           0.0            0.0   \n",
      "36410           689          27.0           1.0           0.0           29.0   \n",
      "36411           702           0.0          42.0           0.0           39.0   \n",
      "...             ...           ...           ...           ...            ...   \n",
      "56285         73060           0.0           0.0           0.0            0.0   \n",
      "56286         73062           0.0           0.0           0.0            0.0   \n",
      "56287         73068           0.0           0.0           0.0            0.0   \n",
      "56288         73089           0.0           0.0           0.0            0.0   \n",
      "56289         73147           0.0           0.0           0.0            0.0   \n",
      "\n",
      "       Encounters.14  Encounters.18  Encounters.20  Encounters.21  \\\n",
      "36407            0.0            0.0           43.0            0.0   \n",
      "36408            0.0           28.0           41.0            0.0   \n",
      "36409            0.0           37.0           31.0            0.0   \n",
      "36410            0.0           31.0           27.0            0.0   \n",
      "36411            0.0            0.0           33.0            0.0   \n",
      "...              ...            ...            ...            ...   \n",
      "56285            0.0            0.0            0.0            0.0   \n",
      "56286            0.0            0.0            0.0            0.0   \n",
      "56287            0.0            0.0            0.0            0.0   \n",
      "56288            0.0            0.0            0.0            0.0   \n",
      "56289            0.0            0.0            0.0            0.0   \n",
      "\n",
      "       Encounters.25  ...  Appointments.9  Current_Day.empty  Encounters.-1  \\\n",
      "36407            0.0  ...             0.0                 23            0.0   \n",
      "36408            0.0  ...             0.0                 23           35.0   \n",
      "36409           41.0  ...             0.0                 23           40.0   \n",
      "36410           30.0  ...             0.0                 23           35.0   \n",
      "36411            0.0  ...             0.0                 23           40.0   \n",
      "...              ...  ...             ...                ...            ...   \n",
      "56285            0.0  ...             0.0                 29            0.0   \n",
      "56286            0.0  ...             0.0                 29            0.0   \n",
      "56287            0.0  ...             0.0                 29            0.0   \n",
      "56288            0.0  ...             0.0                 29            0.0   \n",
      "56289            0.0  ...             0.0                 29            0.0   \n",
      "\n",
      "       Encounters.-2  Encounters.-3  Encounters.-4  Encounters.-5  \\\n",
      "36407            0.0            0.0            0.0            0.0   \n",
      "36408           32.0            0.0           41.0            0.0   \n",
      "36409            0.0           36.0            0.0           38.0   \n",
      "36410            0.0           40.0            0.0           21.0   \n",
      "36411           16.0            0.0           39.0            2.0   \n",
      "...              ...            ...            ...            ...   \n",
      "56285            0.0            0.0            0.0            0.0   \n",
      "56286            0.0            0.0            0.0            0.0   \n",
      "56287            0.0            0.0            0.0            0.0   \n",
      "56288            0.0            0.0            0.0            0.0   \n",
      "56289            0.0            0.0            0.0            0.0   \n",
      "\n",
      "       Encounters.-6  Encounters.-7  Encounters.-1_predicted  \n",
      "36407            0.0            0.0                    32.03  \n",
      "36408            0.0            0.0                    37.29  \n",
      "36409            0.0            0.0                    28.25  \n",
      "36410            0.0            0.0                    22.46  \n",
      "36411            0.0            0.0                    31.66  \n",
      "...              ...            ...                      ...  \n",
      "56285            0.0            0.0                     0.16  \n",
      "56286            0.0            0.0                     0.16  \n",
      "56287            0.0            0.0                     0.12  \n",
      "56288            0.0            0.0                     0.12  \n",
      "56289            0.0            0.0                     0.12  \n",
      "\n",
      "[19883 rows x 105 columns]\n"
     ]
    },
    {
     "ename": "KeyError",
     "evalue": "'y_pred_RF_df'",
     "output_type": "error",
     "traceback": [
      "\u001b[1;31m---------------------------------------------------------------------------\u001b[0m",
      "\u001b[1;31mKeyError\u001b[0m                                  Traceback (most recent call last)",
      "File \u001b[1;32m~\\Anaconda3\\lib\\site-packages\\pandas\\core\\indexes\\base.py:3621\u001b[0m, in \u001b[0;36mIndex.get_loc\u001b[1;34m(self, key, method, tolerance)\u001b[0m\n\u001b[0;32m   3620\u001b[0m \u001b[38;5;28;01mtry\u001b[39;00m:\n\u001b[1;32m-> 3621\u001b[0m     \u001b[38;5;28;01mreturn\u001b[39;00m \u001b[38;5;28;43mself\u001b[39;49m\u001b[38;5;241;43m.\u001b[39;49m\u001b[43m_engine\u001b[49m\u001b[38;5;241;43m.\u001b[39;49m\u001b[43mget_loc\u001b[49m\u001b[43m(\u001b[49m\u001b[43mcasted_key\u001b[49m\u001b[43m)\u001b[49m\n\u001b[0;32m   3622\u001b[0m \u001b[38;5;28;01mexcept\u001b[39;00m \u001b[38;5;167;01mKeyError\u001b[39;00m \u001b[38;5;28;01mas\u001b[39;00m err:\n",
      "File \u001b[1;32m~\\Anaconda3\\lib\\site-packages\\pandas\\_libs\\index.pyx:136\u001b[0m, in \u001b[0;36mpandas._libs.index.IndexEngine.get_loc\u001b[1;34m()\u001b[0m\n",
      "File \u001b[1;32m~\\Anaconda3\\lib\\site-packages\\pandas\\_libs\\index.pyx:163\u001b[0m, in \u001b[0;36mpandas._libs.index.IndexEngine.get_loc\u001b[1;34m()\u001b[0m\n",
      "File \u001b[1;32mpandas\\_libs\\hashtable_class_helper.pxi:5198\u001b[0m, in \u001b[0;36mpandas._libs.hashtable.PyObjectHashTable.get_item\u001b[1;34m()\u001b[0m\n",
      "File \u001b[1;32mpandas\\_libs\\hashtable_class_helper.pxi:5206\u001b[0m, in \u001b[0;36mpandas._libs.hashtable.PyObjectHashTable.get_item\u001b[1;34m()\u001b[0m\n",
      "\u001b[1;31mKeyError\u001b[0m: 'y_pred_RF_df'",
      "\nThe above exception was the direct cause of the following exception:\n",
      "\u001b[1;31mKeyError\u001b[0m                                  Traceback (most recent call last)",
      "Input \u001b[1;32mIn [23]\u001b[0m, in \u001b[0;36m<cell line: 1>\u001b[1;34m()\u001b[0m\n\u001b[1;32m----> 1\u001b[0m \u001b[43mevaluate_subset\u001b[49m\u001b[43m(\u001b[49m\u001b[43mResult_day1\u001b[49m\u001b[43m,\u001b[49m\u001b[43mquery_str\u001b[49m\u001b[38;5;241;43m=\u001b[39;49m\u001b[38;5;124;43m\"\u001b[39;49m\u001b[38;5;124;43mid_physician==id_physician\u001b[39;49m\u001b[38;5;124;43m\"\u001b[39;49m\u001b[43m,\u001b[49m\u001b[43mday\u001b[49m\u001b[38;5;241;43m=\u001b[39;49m\u001b[38;5;241;43m-\u001b[39;49m\u001b[38;5;241;43m1\u001b[39;49m\u001b[43m)\u001b[49m\n",
      "Input \u001b[1;32mIn [22]\u001b[0m, in \u001b[0;36mevaluate_subset\u001b[1;34m(Xyp, query_str, day)\u001b[0m\n\u001b[0;32m      9\u001b[0m Xyp_subset\u001b[38;5;241m.\u001b[39mreplace([np\u001b[38;5;241m.\u001b[39minf, \u001b[38;5;241m-\u001b[39mnp\u001b[38;5;241m.\u001b[39minf], np\u001b[38;5;241m.\u001b[39mnan, inplace\u001b[38;5;241m=\u001b[39m\u001b[38;5;28;01mTrue\u001b[39;00m)\n\u001b[0;32m     10\u001b[0m \u001b[38;5;28mprint\u001b[39m(\u001b[38;5;124m\"\u001b[39m\u001b[38;5;124mTest for infinity:\u001b[39m\u001b[38;5;124m\"\u001b[39m ,Xyp_subset[np\u001b[38;5;241m.\u001b[39misfinite(Xyp_subset)\u001b[38;5;241m.\u001b[39mall(\u001b[38;5;241m1\u001b[39m)])\n\u001b[1;32m---> 11\u001b[0m \u001b[38;5;28mprint\u001b[39m(\u001b[38;5;124m\"\u001b[39m\u001b[38;5;124mXyp y_pred_RF:\u001b[39m\u001b[38;5;124m\"\u001b[39m,\u001b[43mXyp\u001b[49m\u001b[43m[\u001b[49m\u001b[38;5;124;43m\"\u001b[39;49m\u001b[38;5;124;43my_pred_RF_df\u001b[39;49m\u001b[38;5;124;43m\"\u001b[39;49m\u001b[43m]\u001b[49m\u001b[38;5;241m.\u001b[39mto_numpy())\n\u001b[0;32m     12\u001b[0m \u001b[38;5;28mprint\u001b[39m(\u001b[38;5;124m\"\u001b[39m\u001b[38;5;124mY_test_pred:\u001b[39m\u001b[38;5;124m\"\u001b[39m,Xyp[\u001b[38;5;124m\"\u001b[39m\u001b[38;5;124mY_test_pred_df\u001b[39m\u001b[38;5;124m\"\u001b[39m])\n\u001b[0;32m     14\u001b[0m evaluate(Xyp\u001b[38;5;241m.\u001b[39miloc[:,\u001b[38;5;241m-\u001b[39m\u001b[38;5;241m2\u001b[39m],Xyp\u001b[38;5;241m.\u001b[39miloc[:,\u001b[38;5;241m-\u001b[39m\u001b[38;5;241m1\u001b[39m])\n",
      "File \u001b[1;32m~\\Anaconda3\\lib\\site-packages\\pandas\\core\\frame.py:3505\u001b[0m, in \u001b[0;36mDataFrame.__getitem__\u001b[1;34m(self, key)\u001b[0m\n\u001b[0;32m   3503\u001b[0m \u001b[38;5;28;01mif\u001b[39;00m \u001b[38;5;28mself\u001b[39m\u001b[38;5;241m.\u001b[39mcolumns\u001b[38;5;241m.\u001b[39mnlevels \u001b[38;5;241m>\u001b[39m \u001b[38;5;241m1\u001b[39m:\n\u001b[0;32m   3504\u001b[0m     \u001b[38;5;28;01mreturn\u001b[39;00m \u001b[38;5;28mself\u001b[39m\u001b[38;5;241m.\u001b[39m_getitem_multilevel(key)\n\u001b[1;32m-> 3505\u001b[0m indexer \u001b[38;5;241m=\u001b[39m \u001b[38;5;28;43mself\u001b[39;49m\u001b[38;5;241;43m.\u001b[39;49m\u001b[43mcolumns\u001b[49m\u001b[38;5;241;43m.\u001b[39;49m\u001b[43mget_loc\u001b[49m\u001b[43m(\u001b[49m\u001b[43mkey\u001b[49m\u001b[43m)\u001b[49m\n\u001b[0;32m   3506\u001b[0m \u001b[38;5;28;01mif\u001b[39;00m is_integer(indexer):\n\u001b[0;32m   3507\u001b[0m     indexer \u001b[38;5;241m=\u001b[39m [indexer]\n",
      "File \u001b[1;32m~\\Anaconda3\\lib\\site-packages\\pandas\\core\\indexes\\base.py:3623\u001b[0m, in \u001b[0;36mIndex.get_loc\u001b[1;34m(self, key, method, tolerance)\u001b[0m\n\u001b[0;32m   3621\u001b[0m     \u001b[38;5;28;01mreturn\u001b[39;00m \u001b[38;5;28mself\u001b[39m\u001b[38;5;241m.\u001b[39m_engine\u001b[38;5;241m.\u001b[39mget_loc(casted_key)\n\u001b[0;32m   3622\u001b[0m \u001b[38;5;28;01mexcept\u001b[39;00m \u001b[38;5;167;01mKeyError\u001b[39;00m \u001b[38;5;28;01mas\u001b[39;00m err:\n\u001b[1;32m-> 3623\u001b[0m     \u001b[38;5;28;01mraise\u001b[39;00m \u001b[38;5;167;01mKeyError\u001b[39;00m(key) \u001b[38;5;28;01mfrom\u001b[39;00m \u001b[38;5;21;01merr\u001b[39;00m\n\u001b[0;32m   3624\u001b[0m \u001b[38;5;28;01mexcept\u001b[39;00m \u001b[38;5;167;01mTypeError\u001b[39;00m:\n\u001b[0;32m   3625\u001b[0m     \u001b[38;5;66;03m# If we have a listlike key, _check_indexing_error will raise\u001b[39;00m\n\u001b[0;32m   3626\u001b[0m     \u001b[38;5;66;03m#  InvalidIndexError. Otherwise we fall through and re-raise\u001b[39;00m\n\u001b[0;32m   3627\u001b[0m     \u001b[38;5;66;03m#  the TypeError.\u001b[39;00m\n\u001b[0;32m   3628\u001b[0m     \u001b[38;5;28mself\u001b[39m\u001b[38;5;241m.\u001b[39m_check_indexing_error(key)\n",
      "\u001b[1;31mKeyError\u001b[0m: 'y_pred_RF_df'"
     ]
    }
   ],
   "source": [
    "evaluate_subset(Result_day1,query_str=\"id_physician==id_physician\",day=-1)"
   ]
  },
  {
   "cell_type": "code",
   "execution_count": 25,
   "id": "32c7d42e",
   "metadata": {},
   "outputs": [],
   "source": [
    "def compute_appointment_only_baseline(X_test_pred,Y_test_pred_7,day):\n",
    "    Enc_day=\"Encounters.%d\"%day\n",
    "    App_day=\"Appointments.%d\"%day\n",
    "    One_App=X_test_pred[App_day].fillna(0)\n",
    "    Onc_Enc=Y_test_pred_7[Enc_day].fillna(0)\n",
    "    df_result=pd.concat([X_test_pred,Onc_Enc,One_App],axis=1,join = 'outer')\n",
    "\n",
    "    return df_result"
   ]
  },
  {
   "cell_type": "code",
   "execution_count": 26,
   "id": "2f34c880",
   "metadata": {
    "scrolled": true
   },
   "outputs": [],
   "source": [
    "Appointment_only_day1=compute_appointment_only_baseline(X_test_pred,Y_test_pred_7,day=-1)\n",
    "Appointment_only_day7=compute_appointment_only_baseline(X_test_pred,Y_test_pred_7,day=-7)"
   ]
  },
  {
   "cell_type": "code",
   "execution_count": 27,
   "id": "7c3dc81b",
   "metadata": {},
   "outputs": [
    {
     "name": "stdout",
     "output_type": "stream",
     "text": [
      "Xyp subset: True\n",
      "Xyp_shape: (19883, 99)\n",
      "Test for infinity: Empty DataFrame\n",
      "Columns: [id_physician, Encounters.4, Encounters.6, Encounters.7, Encounters.13, Encounters.14, Encounters.18, Encounters.20, Encounters.21, Encounters.25, Encounters.27, Encounters.28, Medialength.4, Medialength.6, Medialength.7, Medialength.13, Medialength.14, Medialength.18, Medialength.20, Medialength.21, Medialength.25, Medialength.27, Medialength.28, Appointments.-7, Appointments.-3, Appointments.-1, Appointments.0, Appointments.4, Appointments.6, Appointments.7, Appointments.13, Appointments.14, Appointments.18, Appointments.20, Appointments.21, Appointments.25, Appointments.27, Appointments.28, Encounters.5, Encounters.11, Medialength.5, Medialength.11, Appointments.-4, Appointments.5, Appointments.11, Encounters.3, Encounters.10, Encounters.12, Encounters.17, Encounters.19, Encounters.26, Medialength.3, Medialength.10, Medialength.12, Medialength.17, Medialength.19, Medialength.26, Appointments.3, Appointments.10, Appointments.12, Appointments.17, Appointments.19, Appointments.26, Encounters.16, Encounters.24, Encounters.29, Medialength.16, Medialength.24, Medialength.29, Appointments.-2, Appointments.16, Appointments.24, Appointments.29, Encounters.8, Medialength.8, Appointments.8, Encounters.1, Encounters.22, Medialength.1, Medialength.22, Appointments.1, Appointments.22, Encounters.2, Encounters.15, Encounters.23, Medialength.2, Medialength.15, Medialength.23, Appointments.-6, Appointments.-5, Appointments.2, Appointments.15, Appointments.23, Encounters.9, Medialength.9, Appointments.9, Current_Day.empty, Encounters.-1, Appointments.-1]\n",
      "Index: []\n",
      "\n",
      "[0 rows x 99 columns]\n",
      "Test for infinity: Empty DataFrame\n",
      "Columns: [id_physician, Encounters.4, Encounters.6, Encounters.7, Encounters.13, Encounters.14, Encounters.18, Encounters.20, Encounters.21, Encounters.25, Encounters.27, Encounters.28, Medialength.4, Medialength.6, Medialength.7, Medialength.13, Medialength.14, Medialength.18, Medialength.20, Medialength.21, Medialength.25, Medialength.27, Medialength.28, Appointments.-7, Appointments.-3, Appointments.-1, Appointments.0, Appointments.4, Appointments.6, Appointments.7, Appointments.13, Appointments.14, Appointments.18, Appointments.20, Appointments.21, Appointments.25, Appointments.27, Appointments.28, Encounters.5, Encounters.11, Medialength.5, Medialength.11, Appointments.-4, Appointments.5, Appointments.11, Encounters.3, Encounters.10, Encounters.12, Encounters.17, Encounters.19, Encounters.26, Medialength.3, Medialength.10, Medialength.12, Medialength.17, Medialength.19, Medialength.26, Appointments.3, Appointments.10, Appointments.12, Appointments.17, Appointments.19, Appointments.26, Encounters.16, Encounters.24, Encounters.29, Medialength.16, Medialength.24, Medialength.29, Appointments.-2, Appointments.16, Appointments.24, Appointments.29, Encounters.8, Medialength.8, Appointments.8, Encounters.1, Encounters.22, Medialength.1, Medialength.22, Appointments.1, Appointments.22, Encounters.2, Encounters.15, Encounters.23, Medialength.2, Medialength.15, Medialength.23, Appointments.-6, Appointments.-5, Appointments.2, Appointments.15, Appointments.23, Encounters.9, Medialength.9, Appointments.9, Current_Day.empty, Encounters.-1, Appointments.-1]\n",
      "Index: []\n",
      "\n",
      "[0 rows x 99 columns]\n"
     ]
    },
    {
     "ename": "KeyError",
     "evalue": "'y_pred_RF_df'",
     "output_type": "error",
     "traceback": [
      "\u001b[1;31m---------------------------------------------------------------------------\u001b[0m",
      "\u001b[1;31mKeyError\u001b[0m                                  Traceback (most recent call last)",
      "File \u001b[1;32m~\\Anaconda3\\lib\\site-packages\\pandas\\core\\indexes\\base.py:3621\u001b[0m, in \u001b[0;36mIndex.get_loc\u001b[1;34m(self, key, method, tolerance)\u001b[0m\n\u001b[0;32m   3620\u001b[0m \u001b[38;5;28;01mtry\u001b[39;00m:\n\u001b[1;32m-> 3621\u001b[0m     \u001b[38;5;28;01mreturn\u001b[39;00m \u001b[38;5;28;43mself\u001b[39;49m\u001b[38;5;241;43m.\u001b[39;49m\u001b[43m_engine\u001b[49m\u001b[38;5;241;43m.\u001b[39;49m\u001b[43mget_loc\u001b[49m\u001b[43m(\u001b[49m\u001b[43mcasted_key\u001b[49m\u001b[43m)\u001b[49m\n\u001b[0;32m   3622\u001b[0m \u001b[38;5;28;01mexcept\u001b[39;00m \u001b[38;5;167;01mKeyError\u001b[39;00m \u001b[38;5;28;01mas\u001b[39;00m err:\n",
      "File \u001b[1;32m~\\Anaconda3\\lib\\site-packages\\pandas\\_libs\\index.pyx:136\u001b[0m, in \u001b[0;36mpandas._libs.index.IndexEngine.get_loc\u001b[1;34m()\u001b[0m\n",
      "File \u001b[1;32m~\\Anaconda3\\lib\\site-packages\\pandas\\_libs\\index.pyx:160\u001b[0m, in \u001b[0;36mpandas._libs.index.IndexEngine.get_loc\u001b[1;34m()\u001b[0m\n",
      "File \u001b[1;32m~\\Anaconda3\\lib\\site-packages\\pandas\\_libs\\index.pyx:201\u001b[0m, in \u001b[0;36mpandas._libs.index.IndexEngine._get_loc_duplicates\u001b[1;34m()\u001b[0m\n",
      "File \u001b[1;32m~\\Anaconda3\\lib\\site-packages\\pandas\\_libs\\index.pyx:209\u001b[0m, in \u001b[0;36mpandas._libs.index.IndexEngine._maybe_get_bool_indexer\u001b[1;34m()\u001b[0m\n",
      "File \u001b[1;32m~\\Anaconda3\\lib\\site-packages\\pandas\\_libs\\index.pyx:107\u001b[0m, in \u001b[0;36mpandas._libs.index._unpack_bool_indexer\u001b[1;34m()\u001b[0m\n",
      "\u001b[1;31mKeyError\u001b[0m: 'y_pred_RF_df'",
      "\nThe above exception was the direct cause of the following exception:\n",
      "\u001b[1;31mKeyError\u001b[0m                                  Traceback (most recent call last)",
      "Input \u001b[1;32mIn [27]\u001b[0m, in \u001b[0;36m<cell line: 1>\u001b[1;34m()\u001b[0m\n\u001b[1;32m----> 1\u001b[0m \u001b[43mevaluate_subset\u001b[49m\u001b[43m(\u001b[49m\u001b[43mAppointment_only_day1\u001b[49m\u001b[43m,\u001b[49m\u001b[43mquery_str\u001b[49m\u001b[38;5;241;43m=\u001b[39;49m\u001b[38;5;124;43m\"\u001b[39;49m\u001b[38;5;124;43mid_physician==id_physician\u001b[39;49m\u001b[38;5;124;43m\"\u001b[39;49m\u001b[43m,\u001b[49m\u001b[43mday\u001b[49m\u001b[38;5;241;43m=\u001b[39;49m\u001b[38;5;241;43m-\u001b[39;49m\u001b[38;5;241;43m1\u001b[39;49m\u001b[43m)\u001b[49m\n\u001b[0;32m      2\u001b[0m evaluate_subset(Appointment_only_day7,query_str\u001b[38;5;241m=\u001b[39m\u001b[38;5;124m\"\u001b[39m\u001b[38;5;124mid_physician==id_physician\u001b[39m\u001b[38;5;124m\"\u001b[39m,day\u001b[38;5;241m=\u001b[39m\u001b[38;5;241m-\u001b[39m\u001b[38;5;241m7\u001b[39m)\n",
      "Input \u001b[1;32mIn [22]\u001b[0m, in \u001b[0;36mevaluate_subset\u001b[1;34m(Xyp, query_str, day)\u001b[0m\n\u001b[0;32m      9\u001b[0m Xyp_subset\u001b[38;5;241m.\u001b[39mreplace([np\u001b[38;5;241m.\u001b[39minf, \u001b[38;5;241m-\u001b[39mnp\u001b[38;5;241m.\u001b[39minf], np\u001b[38;5;241m.\u001b[39mnan, inplace\u001b[38;5;241m=\u001b[39m\u001b[38;5;28;01mTrue\u001b[39;00m)\n\u001b[0;32m     10\u001b[0m \u001b[38;5;28mprint\u001b[39m(\u001b[38;5;124m\"\u001b[39m\u001b[38;5;124mTest for infinity:\u001b[39m\u001b[38;5;124m\"\u001b[39m ,Xyp_subset[np\u001b[38;5;241m.\u001b[39misfinite(Xyp_subset)\u001b[38;5;241m.\u001b[39mall(\u001b[38;5;241m1\u001b[39m)])\n\u001b[1;32m---> 11\u001b[0m \u001b[38;5;28mprint\u001b[39m(\u001b[38;5;124m\"\u001b[39m\u001b[38;5;124mXyp y_pred_RF:\u001b[39m\u001b[38;5;124m\"\u001b[39m,\u001b[43mXyp\u001b[49m\u001b[43m[\u001b[49m\u001b[38;5;124;43m\"\u001b[39;49m\u001b[38;5;124;43my_pred_RF_df\u001b[39;49m\u001b[38;5;124;43m\"\u001b[39;49m\u001b[43m]\u001b[49m\u001b[38;5;241m.\u001b[39mto_numpy())\n\u001b[0;32m     12\u001b[0m \u001b[38;5;28mprint\u001b[39m(\u001b[38;5;124m\"\u001b[39m\u001b[38;5;124mY_test_pred:\u001b[39m\u001b[38;5;124m\"\u001b[39m,Xyp[\u001b[38;5;124m\"\u001b[39m\u001b[38;5;124mY_test_pred_df\u001b[39m\u001b[38;5;124m\"\u001b[39m])\n\u001b[0;32m     14\u001b[0m evaluate(Xyp\u001b[38;5;241m.\u001b[39miloc[:,\u001b[38;5;241m-\u001b[39m\u001b[38;5;241m2\u001b[39m],Xyp\u001b[38;5;241m.\u001b[39miloc[:,\u001b[38;5;241m-\u001b[39m\u001b[38;5;241m1\u001b[39m])\n",
      "File \u001b[1;32m~\\Anaconda3\\lib\\site-packages\\pandas\\core\\frame.py:3505\u001b[0m, in \u001b[0;36mDataFrame.__getitem__\u001b[1;34m(self, key)\u001b[0m\n\u001b[0;32m   3503\u001b[0m \u001b[38;5;28;01mif\u001b[39;00m \u001b[38;5;28mself\u001b[39m\u001b[38;5;241m.\u001b[39mcolumns\u001b[38;5;241m.\u001b[39mnlevels \u001b[38;5;241m>\u001b[39m \u001b[38;5;241m1\u001b[39m:\n\u001b[0;32m   3504\u001b[0m     \u001b[38;5;28;01mreturn\u001b[39;00m \u001b[38;5;28mself\u001b[39m\u001b[38;5;241m.\u001b[39m_getitem_multilevel(key)\n\u001b[1;32m-> 3505\u001b[0m indexer \u001b[38;5;241m=\u001b[39m \u001b[38;5;28;43mself\u001b[39;49m\u001b[38;5;241;43m.\u001b[39;49m\u001b[43mcolumns\u001b[49m\u001b[38;5;241;43m.\u001b[39;49m\u001b[43mget_loc\u001b[49m\u001b[43m(\u001b[49m\u001b[43mkey\u001b[49m\u001b[43m)\u001b[49m\n\u001b[0;32m   3506\u001b[0m \u001b[38;5;28;01mif\u001b[39;00m is_integer(indexer):\n\u001b[0;32m   3507\u001b[0m     indexer \u001b[38;5;241m=\u001b[39m [indexer]\n",
      "File \u001b[1;32m~\\Anaconda3\\lib\\site-packages\\pandas\\core\\indexes\\base.py:3623\u001b[0m, in \u001b[0;36mIndex.get_loc\u001b[1;34m(self, key, method, tolerance)\u001b[0m\n\u001b[0;32m   3621\u001b[0m     \u001b[38;5;28;01mreturn\u001b[39;00m \u001b[38;5;28mself\u001b[39m\u001b[38;5;241m.\u001b[39m_engine\u001b[38;5;241m.\u001b[39mget_loc(casted_key)\n\u001b[0;32m   3622\u001b[0m \u001b[38;5;28;01mexcept\u001b[39;00m \u001b[38;5;167;01mKeyError\u001b[39;00m \u001b[38;5;28;01mas\u001b[39;00m err:\n\u001b[1;32m-> 3623\u001b[0m     \u001b[38;5;28;01mraise\u001b[39;00m \u001b[38;5;167;01mKeyError\u001b[39;00m(key) \u001b[38;5;28;01mfrom\u001b[39;00m \u001b[38;5;21;01merr\u001b[39;00m\n\u001b[0;32m   3624\u001b[0m \u001b[38;5;28;01mexcept\u001b[39;00m \u001b[38;5;167;01mTypeError\u001b[39;00m:\n\u001b[0;32m   3625\u001b[0m     \u001b[38;5;66;03m# If we have a listlike key, _check_indexing_error will raise\u001b[39;00m\n\u001b[0;32m   3626\u001b[0m     \u001b[38;5;66;03m#  InvalidIndexError. Otherwise we fall through and re-raise\u001b[39;00m\n\u001b[0;32m   3627\u001b[0m     \u001b[38;5;66;03m#  the TypeError.\u001b[39;00m\n\u001b[0;32m   3628\u001b[0m     \u001b[38;5;28mself\u001b[39m\u001b[38;5;241m.\u001b[39m_check_indexing_error(key)\n",
      "\u001b[1;31mKeyError\u001b[0m: 'y_pred_RF_df'"
     ]
    }
   ],
   "source": [
    "evaluate_subset(Appointment_only_day1,query_str=\"id_physician==id_physician\",day=-1)\n",
    "evaluate_subset(Appointment_only_day7,query_str=\"id_physician==id_physician\",day=-7)"
   ]
  },
  {
   "cell_type": "code",
   "execution_count": 28,
   "id": "4ef70e9d",
   "metadata": {},
   "outputs": [],
   "source": [
    "def compute_max_baseline(X_test_pred,Y_test_pred_7,day):\n",
    "    \n",
    "    df_result=pd.concat([LX_test_pred,LY_test_pred,y_pred_RF_df],axis=1,join = 'outer')\n",
    "\n",
    "    return df_result"
   ]
  },
  {
   "cell_type": "code",
   "execution_count": 29,
   "id": "cc6e2d4e",
   "metadata": {},
   "outputs": [
    {
     "ename": "NameError",
     "evalue": "name 'LX_test_pred' is not defined",
     "output_type": "error",
     "traceback": [
      "\u001b[1;31m---------------------------------------------------------------------------\u001b[0m",
      "\u001b[1;31mNameError\u001b[0m                                 Traceback (most recent call last)",
      "Input \u001b[1;32mIn [29]\u001b[0m, in \u001b[0;36m<cell line: 1>\u001b[1;34m()\u001b[0m\n\u001b[1;32m----> 1\u001b[0m max_preds_day_M1\u001b[38;5;241m=\u001b[39m\u001b[43mcompute_max_baseline\u001b[49m\u001b[43m(\u001b[49m\u001b[43mX_test_pred\u001b[49m\u001b[43m,\u001b[49m\u001b[43mY_test_pred_7\u001b[49m\u001b[43m,\u001b[49m\u001b[43mday\u001b[49m\u001b[38;5;241;43m=\u001b[39;49m\u001b[38;5;241;43m-\u001b[39;49m\u001b[38;5;241;43m1\u001b[39;49m\u001b[43m)\u001b[49m\n\u001b[0;32m      2\u001b[0m max_preds_day_M7\u001b[38;5;241m=\u001b[39mcompute_max_baseline(X_test_pred,Y_test_pred_7,day\u001b[38;5;241m=\u001b[39m\u001b[38;5;241m-\u001b[39m\u001b[38;5;241m7\u001b[39m)\n",
      "Input \u001b[1;32mIn [28]\u001b[0m, in \u001b[0;36mcompute_max_baseline\u001b[1;34m(X_test_pred, Y_test_pred_7, day)\u001b[0m\n\u001b[0;32m      1\u001b[0m \u001b[38;5;28;01mdef\u001b[39;00m \u001b[38;5;21mcompute_max_baseline\u001b[39m(X_test_pred,Y_test_pred_7,day):\n\u001b[1;32m----> 3\u001b[0m     df_result\u001b[38;5;241m=\u001b[39mpd\u001b[38;5;241m.\u001b[39mconcat([\u001b[43mLX_test_pred\u001b[49m,LY_test_pred,y_pred_RF_df],axis\u001b[38;5;241m=\u001b[39m\u001b[38;5;241m1\u001b[39m,join \u001b[38;5;241m=\u001b[39m \u001b[38;5;124m'\u001b[39m\u001b[38;5;124mouter\u001b[39m\u001b[38;5;124m'\u001b[39m)\n\u001b[0;32m      5\u001b[0m     \u001b[38;5;28;01mreturn\u001b[39;00m df_result\n",
      "\u001b[1;31mNameError\u001b[0m: name 'LX_test_pred' is not defined"
     ]
    }
   ],
   "source": [
    "max_preds_day_M1=compute_max_baseline(X_test_pred,Y_test_pred_7,day=-1)\n",
    "max_preds_day_M7=compute_max_baseline(X_test_pred,Y_test_pred_7,day=-7)"
   ]
  },
  {
   "cell_type": "code",
   "execution_count": 24,
   "id": "eb21cefa",
   "metadata": {},
   "outputs": [
    {
     "ename": "NameError",
     "evalue": "name 'max_preds_day_M1' is not defined",
     "output_type": "error",
     "traceback": [
      "\u001b[1;31m---------------------------------------------------------------------------\u001b[0m",
      "\u001b[1;31mNameError\u001b[0m                                 Traceback (most recent call last)",
      "Input \u001b[1;32mIn [24]\u001b[0m, in \u001b[0;36m<cell line: 1>\u001b[1;34m()\u001b[0m\n\u001b[1;32m----> 1\u001b[0m evaluate_subset(\u001b[43mmax_preds_day_M1\u001b[49m,query_str\u001b[38;5;241m=\u001b[39m\u001b[38;5;124m\"\u001b[39m\u001b[38;5;124mid_physician==id_physician\u001b[39m\u001b[38;5;124m\"\u001b[39m,day\u001b[38;5;241m=\u001b[39m\u001b[38;5;241m-\u001b[39m\u001b[38;5;241m1\u001b[39m)\n\u001b[0;32m      2\u001b[0m evaluate_subset(max_preds_day_M7,query_str\u001b[38;5;241m=\u001b[39m\u001b[38;5;124m\"\u001b[39m\u001b[38;5;124mid_physician==id_physician\u001b[39m\u001b[38;5;124m\"\u001b[39m,day\u001b[38;5;241m=\u001b[39m\u001b[38;5;241m-\u001b[39m\u001b[38;5;241m7\u001b[39m)\n",
      "\u001b[1;31mNameError\u001b[0m: name 'max_preds_day_M1' is not defined"
     ]
    }
   ],
   "source": [
    "evaluate_subset(max_preds_day_M1,query_str=\"id_physician==id_physician\",day=-1)\n",
    "evaluate_subset(max_preds_day_M7,query_str=\"id_physician==id_physician\",day=-7)"
   ]
  },
  {
   "cell_type": "code",
   "execution_count": null,
   "id": "8c9d4f41",
   "metadata": {},
   "outputs": [],
   "source": []
  },
  {
   "cell_type": "code",
   "execution_count": null,
   "id": "8896910e",
   "metadata": {},
   "outputs": [],
   "source": []
  }
 ],
 "metadata": {
  "kernelspec": {
   "display_name": "Python 3 (ipykernel)",
   "language": "python",
   "name": "python3"
  },
  "language_info": {
   "codemirror_mode": {
    "name": "ipython",
    "version": 3
   },
   "file_extension": ".py",
   "mimetype": "text/x-python",
   "name": "python",
   "nbconvert_exporter": "python",
   "pygments_lexer": "ipython3",
   "version": "3.9.12"
  }
 },
 "nbformat": 4,
 "nbformat_minor": 5
}
