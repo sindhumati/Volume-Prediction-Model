{
 "cells": [
  {
   "cell_type": "code",
   "execution_count": 1,
   "id": "1a6b12be",
   "metadata": {},
   "outputs": [],
   "source": [
    "from numpy import int64\n",
    "import numpy as np\n",
    "import pandas as pd\n",
    "from pandas import read_csv\n",
    "from keras.models import Sequential\n",
    "from keras.layers import Dense\n",
    "from keras.wrappers.scikit_learn import KerasRegressor\n",
    "from sklearn.model_selection import cross_val_score\n",
    "from sklearn.model_selection import KFold\n",
    "from sklearn.pipeline import Pipeline\n",
    "from sklearn.model_selection import train_test_split\n",
    "import seaborn as sns\n",
    "from sklearn.ensemble import RandomForestRegressor\n",
    "from sklearn.metrics import mean_squared_error, mean_absolute_error, r2_score"
   ]
  },
  {
   "cell_type": "code",
   "execution_count": 2,
   "id": "2b39efbb",
   "metadata": {},
   "outputs": [
    {
     "name": "stdout",
     "output_type": "stream",
     "text": [
      "Requirement already satisfied: pandas in c:\\users\\sindhumati.panigrahi\\anaconda3\\lib\\site-packages (1.5.3)\n",
      "Requirement already satisfied: numpy>=1.20.3 in c:\\users\\sindhumati.panigrahi\\anaconda3\\lib\\site-packages (from pandas) (1.21.5)\n",
      "Requirement already satisfied: python-dateutil>=2.8.1 in c:\\users\\sindhumati.panigrahi\\anaconda3\\lib\\site-packages (from pandas) (2.8.2)\n",
      "Requirement already satisfied: pytz>=2020.1 in c:\\users\\sindhumati.panigrahi\\anaconda3\\lib\\site-packages (from pandas) (2021.3)\n",
      "Requirement already satisfied: six>=1.5 in c:\\users\\sindhumati.panigrahi\\anaconda3\\lib\\site-packages (from python-dateutil>=2.8.1->pandas) (1.16.0)\n",
      "Note: you may need to restart the kernel to use updated packages.\n"
     ]
    }
   ],
   "source": [
    "pip install --upgrade pandas"
   ]
  },
  {
   "cell_type": "code",
   "execution_count": 3,
   "id": "bc341241",
   "metadata": {},
   "outputs": [],
   "source": [
    "#pip install Keras"
   ]
  },
  {
   "cell_type": "code",
   "execution_count": 4,
   "id": "0b720545",
   "metadata": {},
   "outputs": [],
   "source": [
    "#pip install tensorflow"
   ]
  },
  {
   "cell_type": "code",
   "execution_count": 5,
   "id": "91922fcc",
   "metadata": {},
   "outputs": [],
   "source": [
    "No_history_days= 28\n",
    "No_prediction_days=7\n",
    "Test_year=2023\n",
    "Test_month=3\n",
    "Test_day=6"
   ]
  },
  {
   "cell_type": "code",
   "execution_count": 6,
   "id": "02c03ee1",
   "metadata": {},
   "outputs": [],
   "source": [
    "df = read_csv(\"VolumeHistory_2022_12_2023_02.csv\",encoding='cp1252',parse_dates=True,dtype={\"id_physician\":str})\n",
    "# df.dtypes\n",
    "df.dropna(how='all',inplace=True)"
   ]
  },
  {
   "cell_type": "code",
   "execution_count": 7,
   "id": "37f8f1ea",
   "metadata": {},
   "outputs": [],
   "source": [
    "phy_info=df[[\"id_physician\",\"physician_company\", \"physician_classification\"]].drop_duplicates()\n"
   ]
  },
  {
   "cell_type": "code",
   "execution_count": 8,
   "id": "8ae752f7",
   "metadata": {},
   "outputs": [],
   "source": [
    "# Group the data frame by AppointmentType and extract a number of stats from each group\n",
    "df=df.groupby(\n",
    "   ['id_physician','EncounterDate']\n",
    ").agg(\n",
    "    \n",
    "         Encounters=('Encounters','sum'),    # get the sum Encounter per group\n",
    "         Medialength=('medialen','sum') ,  # get the sum Medialength per group\n",
    "         Appointments=('Actuals', \"sum\") # get the sum of Appointments per group\n",
    "    \n",
    ").reset_index()"
   ]
  },
  {
   "cell_type": "code",
   "execution_count": 9,
   "id": "cbd812b1",
   "metadata": {},
   "outputs": [
    {
     "data": {
      "text/plain": [
       "(103826, 7)"
      ]
     },
     "execution_count": 9,
     "metadata": {},
     "output_type": "execute_result"
    }
   ],
   "source": [
    "df2=df.merge(phy_info, on =\"id_physician\") \n",
    "df2.shape"
   ]
  },
  {
   "cell_type": "code",
   "execution_count": 10,
   "id": "6fcc7bd3",
   "metadata": {},
   "outputs": [],
   "source": [
    "df2.drop(columns = \"physician_company\", inplace = True)"
   ]
  },
  {
   "cell_type": "code",
   "execution_count": 11,
   "id": "5ab6227b",
   "metadata": {},
   "outputs": [
    {
     "data": {
      "text/plain": [
       "(100719, 6)"
      ]
     },
     "execution_count": 11,
     "metadata": {},
     "output_type": "execute_result"
    }
   ],
   "source": [
    "df2.drop_duplicates(keep=\"first\",inplace=True)\n",
    "df2.shape"
   ]
  },
  {
   "cell_type": "code",
   "execution_count": 12,
   "id": "15039307",
   "metadata": {},
   "outputs": [],
   "source": [
    "phy_sample=df2[\"id_physician\"].drop_duplicates().sample(n=500)"
   ]
  },
  {
   "cell_type": "code",
   "execution_count": 13,
   "id": "441fcba5",
   "metadata": {},
   "outputs": [],
   "source": [
    "df2=df2.merge(phy_sample,on = \"id_physician\",validate=\"m:1\")"
   ]
  },
  {
   "cell_type": "code",
   "execution_count": 14,
   "id": "38cb0457",
   "metadata": {},
   "outputs": [],
   "source": [
    "# print(len(df2[pd.isnull(df2).any(axis=1)]))"
   ]
  },
  {
   "cell_type": "code",
   "execution_count": 15,
   "id": "d64e7142",
   "metadata": {},
   "outputs": [
    {
     "name": "stdout",
     "output_type": "stream",
     "text": [
      "420\n"
     ]
    }
   ],
   "source": [
    "print(len(df2[df2.isna().any(axis=1)]))"
   ]
  },
  {
   "cell_type": "code",
   "execution_count": 16,
   "id": "6560d997",
   "metadata": {},
   "outputs": [],
   "source": [
    "df2.dropna(how='all',inplace=True)"
   ]
  },
  {
   "cell_type": "code",
   "execution_count": 17,
   "id": "004aab58",
   "metadata": {},
   "outputs": [
    {
     "data": {
      "text/plain": [
       "(12361, 6)"
      ]
     },
     "execution_count": 17,
     "metadata": {},
     "output_type": "execute_result"
    }
   ],
   "source": [
    "df2.shape"
   ]
  },
  {
   "cell_type": "code",
   "execution_count": 18,
   "id": "b686194d",
   "metadata": {},
   "outputs": [
    {
     "name": "stderr",
     "output_type": "stream",
     "text": [
      "C:\\Users\\sindhumati.panigrahi\\Anaconda3\\lib\\site-packages\\seaborn\\distributions.py:2619: FutureWarning: `distplot` is a deprecated function and will be removed in a future version. Please adapt your code to use either `displot` (a figure-level function with similar flexibility) or `histplot` (an axes-level function for histograms).\n",
      "  warnings.warn(msg, FutureWarning)\n"
     ]
    },
    {
     "data": {
      "text/plain": [
       "<AxesSubplot:xlabel='Encounters', ylabel='Density'>"
      ]
     },
     "execution_count": 18,
     "metadata": {},
     "output_type": "execute_result"
    },
    {
     "data": {
      "image/png": "[encoded data removed]",
      "text/plain": [
       "<Figure size 432x288 with 1 Axes>"
      ]
     },
     "metadata": {
      "needs_background": "light"
     },
     "output_type": "display_data"
    }
   ],
   "source": [
    "sns.distplot(df['Encounters'])"
   ]
  },
  {
   "cell_type": "code",
   "execution_count": 19,
   "id": "6a16357d",
   "metadata": {},
   "outputs": [
    {
     "name": "stderr",
     "output_type": "stream",
     "text": [
      "C:\\Users\\sindhumati.panigrahi\\Anaconda3\\lib\\site-packages\\seaborn\\distributions.py:2619: FutureWarning: `distplot` is a deprecated function and will be removed in a future version. Please adapt your code to use either `displot` (a figure-level function with similar flexibility) or `histplot` (an axes-level function for histograms).\n",
      "  warnings.warn(msg, FutureWarning)\n"
     ]
    },
    {
     "data": {
      "text/plain": [
       "<AxesSubplot:xlabel='Encounters', ylabel='Density'>"
      ]
     },
     "execution_count": 19,
     "metadata": {},
     "output_type": "execute_result"
    },
    {
     "data": {
      "image/png": "[encoded data removed]",
      "text/plain": [
       "<Figure size 432x288 with 1 Axes>"
      ]
     },
     "metadata": {
      "needs_background": "light"
     },
     "output_type": "display_data"
    }
   ],
   "source": [
    "sns.distplot(np.log(df['Encounters']))"
   ]
  },
  {
   "cell_type": "code",
   "execution_count": 20,
   "id": "5305f691",
   "metadata": {
    "scrolled": true
   },
   "outputs": [
    {
     "data": {
      "text/plain": [
       "<AxesSubplot:>"
      ]
     },
     "execution_count": 20,
     "metadata": {},
     "output_type": "execute_result"
    },
    {
     "data": {
      "image/png": "[encoded data removed]",
      "text/plain": [
       "<Figure size 432x288 with 1 Axes>"
      ]
     },
     "metadata": {
      "needs_background": "light"
     },
     "output_type": "display_data"
    }
   ],
   "source": [
    "df2['physician_classification'].value_counts().plot(kind='bar')"
   ]
  },
  {
   "cell_type": "code",
   "execution_count": 21,
   "id": "54b7a9c2",
   "metadata": {
    "scrolled": true
   },
   "outputs": [
    {
     "data": {
      "image/png": "[encoded data removed]",
      "text/plain": [
       "<Figure size 432x288 with 1 Axes>"
      ]
     },
     "metadata": {
      "needs_background": "light"
     },
     "output_type": "display_data"
    }
   ],
   "source": [
    "from matplotlib import pyplot as plt\n",
    "sns.barplot(x=df2['physician_classification'],y=df2['Encounters'])\n",
    "plt.xticks(rotation='vertical')\n",
    "plt.show()"
   ]
  },
  {
   "cell_type": "code",
   "execution_count": 22,
   "id": "058afdd7",
   "metadata": {
    "scrolled": true
   },
   "outputs": [
    {
     "name": "stderr",
     "output_type": "stream",
     "text": [
      "C:\\Users\\sindhumati.panigrahi\\AppData\\Local\\Temp\\ipykernel_18320\\1778878097.py:1: FutureWarning: The default value of numeric_only in DataFrame.corr is deprecated. In a future version, it will default to False. Select only valid columns or specify the value of numeric_only to silence this warning.\n",
      "  df2.corr()\n"
     ]
    },
    {
     "data": {
      "text/html": [
       "<div>\n",
       "<style scoped>\n",
       "    .dataframe tbody tr th:only-of-type {\n",
       "        vertical-align: middle;\n",
       "    }\n",
       "\n",
       "    .dataframe tbody tr th {\n",
       "        vertical-align: top;\n",
       "    }\n",
       "\n",
       "    .dataframe thead th {\n",
       "        text-align: right;\n",
       "    }\n",
       "</style>\n",
       "<table border=\"1\" class=\"dataframe\">\n",
       "  <thead>\n",
       "    <tr style=\"text-align: right;\">\n",
       "      <th></th>\n",
       "      <th>Encounters</th>\n",
       "      <th>Medialength</th>\n",
       "      <th>Appointments</th>\n",
       "    </tr>\n",
       "  </thead>\n",
       "  <tbody>\n",
       "    <tr>\n",
       "      <th>Encounters</th>\n",
       "      <td>1.000000</td>\n",
       "      <td>0.515977</td>\n",
       "      <td>0.460124</td>\n",
       "    </tr>\n",
       "    <tr>\n",
       "      <th>Medialength</th>\n",
       "      <td>0.515977</td>\n",
       "      <td>1.000000</td>\n",
       "      <td>0.241680</td>\n",
       "    </tr>\n",
       "    <tr>\n",
       "      <th>Appointments</th>\n",
       "      <td>0.460124</td>\n",
       "      <td>0.241680</td>\n",
       "      <td>1.000000</td>\n",
       "    </tr>\n",
       "  </tbody>\n",
       "</table>\n",
       "</div>"
      ],
      "text/plain": [
       "              Encounters  Medialength  Appointments\n",
       "Encounters      1.000000     0.515977      0.460124\n",
       "Medialength     0.515977     1.000000      0.241680\n",
       "Appointments    0.460124     0.241680      1.000000"
      ]
     },
     "execution_count": 22,
     "metadata": {},
     "output_type": "execute_result"
    }
   ],
   "source": [
    "df2.corr()"
   ]
  },
  {
   "cell_type": "code",
   "execution_count": 23,
   "id": "920e2946",
   "metadata": {},
   "outputs": [
    {
     "data": {
      "text/html": [
       "<div>\n",
       "<style scoped>\n",
       "    .dataframe tbody tr th:only-of-type {\n",
       "        vertical-align: middle;\n",
       "    }\n",
       "\n",
       "    .dataframe tbody tr th {\n",
       "        vertical-align: top;\n",
       "    }\n",
       "\n",
       "    .dataframe thead th {\n",
       "        text-align: right;\n",
       "    }\n",
       "</style>\n",
       "<table border=\"1\" class=\"dataframe\">\n",
       "  <thead>\n",
       "    <tr style=\"text-align: right;\">\n",
       "      <th></th>\n",
       "      <th>Encounters</th>\n",
       "      <th>Medialength</th>\n",
       "      <th>Appointments</th>\n",
       "    </tr>\n",
       "  </thead>\n",
       "  <tbody>\n",
       "    <tr>\n",
       "      <th>count</th>\n",
       "      <td>12361.000000</td>\n",
       "      <td>1.236100e+04</td>\n",
       "      <td>12361.000000</td>\n",
       "    </tr>\n",
       "    <tr>\n",
       "      <th>mean</th>\n",
       "      <td>33.890705</td>\n",
       "      <td>2.429061e+07</td>\n",
       "      <td>10.169727</td>\n",
       "    </tr>\n",
       "    <tr>\n",
       "      <th>std</th>\n",
       "      <td>55.573655</td>\n",
       "      <td>5.437229e+07</td>\n",
       "      <td>9.798784</td>\n",
       "    </tr>\n",
       "    <tr>\n",
       "      <th>min</th>\n",
       "      <td>1.000000</td>\n",
       "      <td>1.000000e+03</td>\n",
       "      <td>0.000000</td>\n",
       "    </tr>\n",
       "    <tr>\n",
       "      <th>25%</th>\n",
       "      <td>7.000000</td>\n",
       "      <td>3.693000e+06</td>\n",
       "      <td>0.000000</td>\n",
       "    </tr>\n",
       "    <tr>\n",
       "      <th>50%</th>\n",
       "      <td>17.000000</td>\n",
       "      <td>1.054800e+07</td>\n",
       "      <td>10.000000</td>\n",
       "    </tr>\n",
       "    <tr>\n",
       "      <th>75%</th>\n",
       "      <td>40.000000</td>\n",
       "      <td>2.690000e+07</td>\n",
       "      <td>16.000000</td>\n",
       "    </tr>\n",
       "    <tr>\n",
       "      <th>max</th>\n",
       "      <td>1406.000000</td>\n",
       "      <td>3.262000e+09</td>\n",
       "      <td>66.000000</td>\n",
       "    </tr>\n",
       "  </tbody>\n",
       "</table>\n",
       "</div>"
      ],
      "text/plain": [
       "         Encounters   Medialength  Appointments\n",
       "count  12361.000000  1.236100e+04  12361.000000\n",
       "mean      33.890705  2.429061e+07     10.169727\n",
       "std       55.573655  5.437229e+07      9.798784\n",
       "min        1.000000  1.000000e+03      0.000000\n",
       "25%        7.000000  3.693000e+06      0.000000\n",
       "50%       17.000000  1.054800e+07     10.000000\n",
       "75%       40.000000  2.690000e+07     16.000000\n",
       "max     1406.000000  3.262000e+09     66.000000"
      ]
     },
     "execution_count": 23,
     "metadata": {},
     "output_type": "execute_result"
    }
   ],
   "source": [
    "df2.describe()"
   ]
  },
  {
   "cell_type": "code",
   "execution_count": 24,
   "id": "e5983136",
   "metadata": {},
   "outputs": [
    {
     "data": {
      "text/plain": [
       "id_physician                  0\n",
       "EncounterDate                 0\n",
       "Encounters                    0\n",
       "Medialength                   0\n",
       "Appointments                  0\n",
       "physician_classification    420\n",
       "dtype: int64"
      ]
     },
     "execution_count": 24,
     "metadata": {},
     "output_type": "execute_result"
    }
   ],
   "source": [
    "df2.isna().sum()"
   ]
  },
  {
   "cell_type": "code",
   "execution_count": 25,
   "id": "2f0110c8",
   "metadata": {},
   "outputs": [
    {
     "data": {
      "text/plain": [
       "id_physician                 object\n",
       "EncounterDate                object\n",
       "Encounters                  float64\n",
       "Medialength                 float64\n",
       "Appointments                float64\n",
       "physician_classification     object\n",
       "dtype: object"
      ]
     },
     "execution_count": 25,
     "metadata": {},
     "output_type": "execute_result"
    }
   ],
   "source": [
    "df2.dtypes"
   ]
  },
  {
   "cell_type": "markdown",
   "id": "51ce848e",
   "metadata": {},
   "source": [
    "## Convert Object into int datatype"
   ]
  },
  {
   "cell_type": "markdown",
   "id": "22167605",
   "metadata": {},
   "source": [
    "## Working with Date Features"
   ]
  },
  {
   "cell_type": "code",
   "execution_count": 26,
   "id": "33368eba",
   "metadata": {},
   "outputs": [],
   "source": [
    "# Converting to datetime datatype\n",
    "df2['EncounterDate'] = pd.to_datetime(df2['EncounterDate'])"
   ]
  },
  {
   "cell_type": "code",
   "execution_count": 27,
   "id": "bfe58968",
   "metadata": {
    "scrolled": false
   },
   "outputs": [],
   "source": [
    "df2['EncounterDate_year'] = df2['EncounterDate'].dt.year \n",
    "df2[\"EncounterDate_Month_Number\"] = df2[\"EncounterDate\"].dt.month\n",
    "# df2['EncounterDate_day'] = df2[\"EncounterDate\"].dt.day\n",
    "df2[\"EncounterDate_Week_Day\"] = df2[\"EncounterDate\"].dt.dayofweek\n",
    "df2['EncounterDate_dayofyear'] = df2[\"EncounterDate\"].dt.dayofyear\n",
    "df2['EncounterDate_weekend'] = df2['EncounterDate'].dt.dayofweek >=5\n",
    "df2['EncounterDate_week']=df2['EncounterDate'].dt.weekday\n",
    "#df2=df2.drop(['EncounterDate'], axis=1)\n",
    "\n",
    "#Monday is 0 and sunday is 6"
   ]
  },
  {
   "cell_type": "code",
   "execution_count": 28,
   "id": "e8bf570e",
   "metadata": {},
   "outputs": [],
   "source": [
    "import numpy as np\n",
    "\n",
    "df2[\"EncounterDate_weekend\"]= np.asarray(df2[\"EncounterDate_weekend\"]).astype(np.float32)"
   ]
  },
  {
   "cell_type": "code",
   "execution_count": 29,
   "id": "5b4eba61",
   "metadata": {
    "scrolled": true
   },
   "outputs": [
    {
     "data": {
      "text/plain": [
       "<seaborn.axisgrid.FacetGrid at 0x1bad16e4580>"
      ]
     },
     "execution_count": 29,
     "metadata": {},
     "output_type": "execute_result"
    },
    {
     "data": {
      "image/png": "[encoded data removed]",
      "text/plain": [
       "<Figure size 360x360 with 1 Axes>"
      ]
     },
     "metadata": {
      "needs_background": "light"
     },
     "output_type": "display_data"
    }
   ],
   "source": [
    "sns.displot(df2['Medialength'], kind= 'ecdf')"
   ]
  },
  {
   "cell_type": "code",
   "execution_count": 30,
   "id": "6f40e8a6",
   "metadata": {},
   "outputs": [
    {
     "data": {
      "text/plain": [
       "<seaborn.axisgrid.FacetGrid at 0x1bad19280a0>"
      ]
     },
     "execution_count": 30,
     "metadata": {},
     "output_type": "execute_result"
    },
    {
     "data": {
      "image/png": "[encoded data removed]",
      "text/plain": [
       "<Figure size 360x360 with 1 Axes>"
      ]
     },
     "metadata": {
      "needs_background": "light"
     },
     "output_type": "display_data"
    }
   ],
   "source": [
    "sns.displot(df2['Encounters'], kind= 'ecdf')"
   ]
  },
  {
   "cell_type": "code",
   "execution_count": 31,
   "id": "b3fa6011",
   "metadata": {},
   "outputs": [
    {
     "data": {
      "text/plain": [
       "<seaborn.axisgrid.FacetGrid at 0x1bad16e43d0>"
      ]
     },
     "execution_count": 31,
     "metadata": {},
     "output_type": "execute_result"
    },
    {
     "data": {
      "image/png": "[encoded data removed]",
      "text/plain": [
       "<Figure size 360x360 with 1 Axes>"
      ]
     },
     "metadata": {
      "needs_background": "light"
     },
     "output_type": "display_data"
    }
   ],
   "source": [
    "sns.displot(df2['Appointments'], kind= 'ecdf')"
   ]
  },
  {
   "cell_type": "code",
   "execution_count": 32,
   "id": "8adff4f6",
   "metadata": {},
   "outputs": [
    {
     "data": {
      "text/plain": [
       "(0.0, 20.0)"
      ]
     },
     "execution_count": 32,
     "metadata": {},
     "output_type": "execute_result"
    },
    {
     "data": {
      "image/png": "[encoded data removed]",
      "text/plain": [
       "<Figure size 432x288 with 1 Axes>"
      ]
     },
     "metadata": {
      "needs_background": "light"
     },
     "output_type": "display_data"
    }
   ],
   "source": [
    "ax=sns.regplot(data=df2,x='Appointments', y='Encounters',order=10,scatter=False)\n",
    "ax.set_xlim(0,20)\n",
    "ax.set_ylim(0,20)"
   ]
  },
  {
   "cell_type": "code",
   "execution_count": 33,
   "id": "01bfa86c",
   "metadata": {},
   "outputs": [
    {
     "data": {
      "image/png": "[encoded data removed]",
      "text/plain": [
       "<Figure size 432x432 with 3 Axes>"
      ]
     },
     "metadata": {
      "needs_background": "light"
     },
     "output_type": "display_data"
    }
   ],
   "source": [
    "bx=sns.jointplot(data=df2,x='Appointments', y='Encounters',kind='hex',xlim=(0,20),ylim=(0,20))"
   ]
  },
  {
   "cell_type": "code",
   "execution_count": 34,
   "id": "59ab9582",
   "metadata": {},
   "outputs": [],
   "source": [
    "def unique_col_values(df2):\n",
    "    for column in df2:\n",
    "        if df2[column].dtypes=='object':\n",
    "            print(f'{column}: {df2[column].unique()}')\n",
    "# To check the unique values in dataset           \n",
    "# df2.apply(lambda x:len(x.unique()))"
   ]
  },
  {
   "cell_type": "code",
   "execution_count": 35,
   "id": "005c3a1e",
   "metadata": {},
   "outputs": [
    {
     "name": "stdout",
     "output_type": "stream",
     "text": [
      "id_physician: ['11311' '24271' '26801' '27001' '27371' '28591' '29891' '29901' '30861'\n",
      " '31181' '31991' '32141' '33201' '35421' '38151' '38531' '41581' '41761'\n",
      " '42601' '44681' '44781' '44941' '46261' '47261' '47491' '48461' '49661'\n",
      " '50681' '50801' '51031' '52384' '52545' '52621' '52633' '52634' '52799'\n",
      " '52814' '52824' '52907' '53286' '53408' '53556' '53758' '53844' '53882'\n",
      " '53889' '53893' '53988' '5401' '54013' '54031' '54138' '54209' '54227'\n",
      " '54240' '54361' '54384' '54480' '54524' '54687' '54696' '54769' '54779'\n",
      " '54781' '54910' '54911' '54973' '55073' '55111' '55114' '55209' '55285'\n",
      " '55444' '55631' '55873' '56030' '56058' '56074' '56198' '56365' '56366'\n",
      " '56398' '56507' '56533' '56580' '56655' '56790' '56850' '56903' '57054'\n",
      " '57137' '57311' '57344' '57452' '57538' '57633' '57855' '57990' '58099'\n",
      " '58269' '58270' '58279' '58285' '58304' '58319' '58336' '58356' '58395'\n",
      " '58421' '58458' '58495' '58504' '58541' '58543' '58554' '58559' '58564'\n",
      " '58788' '58789' '58790' '58821' '58825' '59048' '59098' '59119' '59122'\n",
      " '59127' '59128' '59130' '59180' '59262' '59271' '59280' '59403' '59425'\n",
      " '59485' '59500' '59521' '59600' '59804' '59823' '59826' '59947' '59956'\n",
      " '59991' '59999' '60076' '60096' '60259' '60329' '60394' '60419' '60543'\n",
      " '60790' '60837' '60889' '60890' '60943' '60980' '61142' '61144' '61154'\n",
      " '61341' '61369' '61595' '61632' '61637' '61638' '61641' '61731' '61746'\n",
      " '61857' '61864' '61965' '62101' '62193' '62385' '62479' '62481' '62496'\n",
      " '62502' '62570' '62683' '62849' '62936' '63003' '63068' '63225' '63329'\n",
      " '63644' '63649' '63650' '63863' '63867' '63926' '64186' '64355' '64401'\n",
      " '64447' '64513' '64612' '64712' '64857' '64860' '64933' '65387' '65459'\n",
      " '65751' '65899' '65997' '66016' '66152' '66158' '66161' '66239' '66240'\n",
      " '66288' '66307' '66386' '66467' '66727' '66938' '66956' '66997' '66998'\n",
      " '67007' '67008' '67009' '67098' '67100' '67323' '67439' '67444' '67454'\n",
      " '67471' '67473' '67475' '67483' '67492' '67506' '67507' '67564' '67570'\n",
      " '67573' '67587' '67588' '67598' '67609' '67843' '67887' '67911' '67913'\n",
      " '67932' '67944' '67955' '68089' '68114' '68268' '68277' '68281' '68312'\n",
      " '68428' '68560' '68572' '68827' '68843' '68847' '689' '68942' '69197'\n",
      " '69211' '69309' '69311' '69331' '69376' '69387' '69505' '69572' '69604'\n",
      " '69794' '69884' '69895' '70142' '70146' '70251' '70261' '70310' '70340'\n",
      " '70464' '70528' '70531' '70670' '70710' '70731' '70741' '70935' '70956'\n",
      " '70970' '70974' '70979' '71030' '71053' '71054' '71196' '71250' '71259'\n",
      " '71301' '71432' '71455' '71610' '71623' '71713' '71796' '71800' '71835'\n",
      " '71970' '72069' '72073' '72183' '72253' '72262' '72407' '72446' '72448'\n",
      " '72532' '72549' '72612' '72620' '72628' '72657' '72680' '72774' '72817'\n",
      " '72829' '72883' '72889' '72926' '72927' '72954' '72964' '72981' '72989'\n",
      " '72994' '72999' '73017' '73044' '73207' '73217' '73228' '73642' '73654'\n",
      " '73696' '73705' '73707' '73711' '73746' '73803' '73809' '73831' '74092'\n",
      " '74096' '74176' '74177' '74252' '74257' '74280' '74288' '74294' '74297'\n",
      " '74301' '74358' '74421' '74526' '74566' '74681' '74690' '74763' '74786'\n",
      " '74812' '74829' '74901' '74950' '74953' '75078' '75095' '75119' '75122'\n",
      " '75124' '75140' '75142' '75157' '75162' '75185' '75187' '75188' '75190'\n",
      " '75284' '75291' '75293' '75301' '75306' '75349' '75351' '75353' '75361'\n",
      " '75405' '75407' '75419' '75426' '75430' '75435' '75506' '75675' '75687'\n",
      " '75720' '75723' '75741' '75750' '75836' '75850' '76010' '76057' '76063'\n",
      " '76068' '76078' '76110' '76128' '76175' '76324' '76326' '76327' '76354'\n",
      " '76365' '76381' '76425' '76429' '76432' '76433' '76437' '76443' '76445'\n",
      " '76452' '76463' '76468' '76496' '76500' '76501' '76513' '76523' '76551'\n",
      " '76586' '76595' '76596' '76606' '76629' '76654' '76684' '76696' '76697'\n",
      " '76763' '76771' '76785' '76787' '76799' '76886' '76889' '76901' '76916'\n",
      " '76944' '76969' '77031' '77034' '77042' '77043' '77126' '77130' '77165'\n",
      " '77172' '77233' '77344' '77349' '77351' '77355' '77356' '77404' '77408'\n",
      " '77695' '77697' '77699' '77702' '77764' '78009' '78026' '78044' '78046'\n",
      " '813' '8221' '8611' '9011' '9811']\n",
      "physician_classification: ['Physical Medicine & Rehabilitation' 'Orthopaedic Surgery' 'Podiatrist'\n",
      " 'Dermatology' 'Internal Medicine' 'Psychiatry & Neurology'\n",
      " 'Plastic Surgery' 'Anesthesiology' 'Family Medicine' 'Ophthalmology'\n",
      " 'Surgery' 'Otolaryngology' 'Obstetrics & Gynecology' nan\n",
      " 'Allergy & Immunology' 'Pediatrics' 'Optometrist' 'Urology'\n",
      " 'Neurological Surgery' 'Bus' 'Pain Medicine' 'General Practice'\n",
      " 'Emergency Medicine' 'Thoracic Surgery (Cardiothoracic Vascular Surgery)']\n"
     ]
    }
   ],
   "source": [
    "unique_col_values(df2)"
   ]
  },
  {
   "cell_type": "code",
   "execution_count": 36,
   "id": "e3e58d1b",
   "metadata": {},
   "outputs": [
    {
     "name": "stderr",
     "output_type": "stream",
     "text": [
      "C:\\Users\\sindhumati.panigrahi\\AppData\\Local\\Temp\\ipykernel_18320\\2722710520.py:2: FutureWarning: The default value of numeric_only in DataFrame.corr is deprecated. In a future version, it will default to False. Select only valid columns or specify the value of numeric_only to silence this warning.\n",
      "  df2_corr=df2.corr().round(2)\n",
      "C:\\Users\\sindhumati.panigrahi\\AppData\\Local\\Temp\\ipykernel_18320\\2722710520.py:4: FutureWarning: The default value of numeric_only in DataFrame.corr is deprecated. In a future version, it will default to False. Select only valid columns or specify the value of numeric_only to silence this warning.\n",
      "  plot=sns.heatmap(df2.corr().round(2))\n"
     ]
    },
    {
     "data": {
      "image/png": "[encoded data removed]",
      "text/plain": [
       "<Figure size 720x576 with 2 Axes>"
      ]
     },
     "metadata": {
      "needs_background": "light"
     },
     "output_type": "display_data"
    }
   ],
   "source": [
    "import matplotlib.pyplot as plt\n",
    "df2_corr=df2.corr().round(2)\n",
    "plt.figure(figsize=(10,8))\n",
    "plot=sns.heatmap(df2.corr().round(2))"
   ]
  },
  {
   "cell_type": "code",
   "execution_count": 37,
   "id": "b5b1cc54",
   "metadata": {},
   "outputs": [
    {
     "name": "stderr",
     "output_type": "stream",
     "text": [
      "C:\\Users\\sindhumati.panigrahi\\AppData\\Local\\Temp\\ipykernel_18320\\4199510796.py:1: FutureWarning: The default value of numeric_only in DataFrame.corr is deprecated. In a future version, it will default to False. Select only valid columns or specify the value of numeric_only to silence this warning.\n",
      "  df2.corr()['Encounters']\n"
     ]
    },
    {
     "data": {
      "text/plain": [
       "Encounters                    1.000000\n",
       "Medialength                   0.515977\n",
       "Appointments                  0.460124\n",
       "EncounterDate_year            0.002629\n",
       "EncounterDate_Month_Number   -0.002403\n",
       "EncounterDate_Week_Day       -0.053355\n",
       "EncounterDate_dayofyear      -0.002766\n",
       "EncounterDate_weekend        -0.079618\n",
       "EncounterDate_week           -0.053355\n",
       "Name: Encounters, dtype: float64"
      ]
     },
     "execution_count": 37,
     "metadata": {},
     "output_type": "execute_result"
    }
   ],
   "source": [
    "df2.corr()['Encounters']"
   ]
  },
  {
   "cell_type": "code",
   "execution_count": 38,
   "id": "b08de103",
   "metadata": {},
   "outputs": [],
   "source": [
    "# df2=pd.get_dummies(data=df2, columns= ['physician_company','physician_classification'])"
   ]
  },
  {
   "cell_type": "code",
   "execution_count": 39,
   "id": "5e08f0ca",
   "metadata": {},
   "outputs": [],
   "source": [
    "# scale_columns= ['Appointments','Encounters','Medialength']\n",
    "# from sklearn.preprocessing import MinMaxScaler\n",
    "# scaler=MinMaxScaler()\n",
    "# df2[scale_columns]= scaler.fit_transform(df2[scale_columns])\n",
    "# print(df2)"
   ]
  },
  {
   "cell_type": "code",
   "execution_count": 40,
   "id": "75a08283",
   "metadata": {},
   "outputs": [
    {
     "data": {
      "text/plain": [
       "(8413, 12)"
      ]
     },
     "execution_count": 40,
     "metadata": {},
     "output_type": "execute_result"
    }
   ],
   "source": [
    "df2.query('Appointments>0').shape\n",
    "#df2.shape"
   ]
  },
  {
   "cell_type": "code",
   "execution_count": 41,
   "id": "46811338",
   "metadata": {},
   "outputs": [
    {
     "data": {
      "image/png": "[encoded data removed]",
      "text/plain": [
       "<Figure size 432x432 with 3 Axes>"
      ]
     },
     "metadata": {
      "needs_background": "light"
     },
     "output_type": "display_data"
    }
   ],
   "source": [
    "plot=sns.jointplot(data=df2.query('Appointments>0'),x=\"Appointments\",y=\"Encounters\")"
   ]
  },
  {
   "cell_type": "code",
   "execution_count": 42,
   "id": "825ead22",
   "metadata": {
    "scrolled": false
   },
   "outputs": [
    {
     "data": {
      "text/plain": [
       "count    1.236100e+04\n",
       "mean     2.385298e+07\n",
       "std      4.989626e+07\n",
       "min     -2.147484e+09\n",
       "25%      3.693000e+06\n",
       "50%      1.053600e+07\n",
       "75%      2.687600e+07\n",
       "max      1.957000e+09\n",
       "Name: Medialength, dtype: float64"
      ]
     },
     "execution_count": 42,
     "metadata": {},
     "output_type": "execute_result"
    }
   ],
   "source": [
    "df2[\"Medialength\"]=df2[\"Medialength\"].astype(int)\n",
    "df2[\"Appointments\"]=(df2[\"Appointments\"]).astype(int)\n",
    "df2['Medialength'].describe()"
   ]
  },
  {
   "cell_type": "code",
   "execution_count": 43,
   "id": "1b8a3021",
   "metadata": {},
   "outputs": [
    {
     "data": {
      "text/plain": [
       "((9680, 12), (2681, 12))"
      ]
     },
     "execution_count": 43,
     "metadata": {},
     "output_type": "execute_result"
    }
   ],
   "source": [
    "import datetime\n",
    "train=df2[pd.to_datetime(df2[\"EncounterDate\"]).dt.date<datetime.date(2023,2,11)]\n",
    "test=df2[pd.to_datetime(df2[\"EncounterDate\"]).dt.date>=datetime.date(2023,2,11)]\n",
    "#9 weeks for training\n",
    "#3 weeks for testing \n",
    "train.shape, test.shape"
   ]
  },
  {
   "cell_type": "code",
   "execution_count": 44,
   "id": "d0cda7b1",
   "metadata": {},
   "outputs": [],
   "source": [
    "# def Stacked_History(Hist,Schedule,Day):\n",
    "#     # Extraction of last 28days data and scheduled infromation for next 7 days \n",
    "#     #and stack encounter in one DataFrame\n",
    "#     #Extraction of last 28 days actual\n",
    "    \n",
    "#     Day_M28=Day-datetime.timedelta(days=28)\n",
    "#     Extracted_History=Hist[[\"id_physician\",\"Encounters\",\"Medialength\",\"Appointments\",\n",
    "#                 \"EncounterDate\"]].query(\"(EncounterDate>@Day_M28) and (EncounterDate<@Day)\").copy()\n",
    "#     Extracted_History['Days_previous']= np.datetime64(Day)-Extracted_History[\"EncounterDate\"]\n",
    "#     Rowlist=[]\n",
    "    \n",
    "#     #Extraction of last 28 days(history) +7 days(Future) Schedules \n",
    "#     Day_plus7=Day+datetime.timedelta(days=7)\n",
    "#     Extracted_Schedule=Schedule.query(\"(EncounterDate>@Day_M28) and (EncounterDate<@Day_plus7)\").copy()\n",
    "#     Extracted_Schedule['Days_previous']= np.datetime64(Day)-Extracted_Schedule[\"EncounterDate\"]\n",
    "#     #Stack the encounters in one DataFrame\n",
    "#     for id_physician_ in Extracted_History[\"id_physician\"].drop_duplicates(): \n",
    "#         By_physician_hist=Extracted_History.query(\"id_physician==@id_physician_\")\n",
    "#         By_physician_hist=By_physician_hist.drop_duplicates()\n",
    "#         if sum(By_physician_hist.duplicated(subset=\"Days_previous\"))!=0:\n",
    "#             print(\"By_physician_hist\", By_physician_hist)\n",
    "#         assert sum(By_physician_hist.duplicated(subset=\"Days_previous\"))==0\n",
    "#     # Created by Physician Schedule\n",
    "#         By_physician_sche=Extracted_Schedule.query(\"id_physician==@id_physician_\")  \n",
    "#         By_physician_sche=By_physician_sche.drop_duplicates()\n",
    "#         assert sum(By_physician_sche.duplicated(subset=\"Days_previous\"))==0\n",
    "#     # Predict encounter for next 7 days\n",
    "# #         Row=pd.wide_to_long(By_physician_hist,stubnames=\"w\",j=\"Encounters\",i=\"Days_previous\",sep=\".\")\n",
    "# #         print(By_physician_hist.columns)\n",
    "# #         print(Row) \n",
    "# #         stop\n",
    "#         Row_Hist=pd.pivot(By_physician_hist,columns=\"Days_previous\",index=\"id_physician\",\n",
    "#                      values=['Encounters', 'Medialength'])\n",
    "#     # Pivoting on Physician Schedule\n",
    "#         Row_Sche=pd.pivot(By_physician_sche,columns=\"Days_previous\",index=\"id_physician\",\n",
    "#                      values=['Appointments'])\n",
    "#         Row=pd.concat([Row_Hist,Row_Sche],axis=1)\n",
    "        \n",
    "#         Rowlist.append(Row)\n",
    "#     Out=pd.concat(Rowlist)\n",
    "#     return Out"
   ]
  },
  {
   "cell_type": "code",
   "execution_count": 45,
   "id": "5a30435e",
   "metadata": {},
   "outputs": [],
   "source": [
    "def Stacked_History_Prediction(Hist,Schedule,Day,No_history_days=No_history_days,No_prediction_days=No_prediction_days):\n",
    "#Extraction of last 28days data and scheduled infromation for next 7 days \n",
    "#and stack encounter in one DataFrame\n",
    "#Extraction of last 28 days actual\n",
    "    Day_M28=Day-datetime.timedelta(days=No_history_days)\n",
    "    \n",
    "#     print(\"Hist_columns:\", Hist.columns)\n",
    "    Extracted_History=Hist[[\"id_physician\",\"Encounters\",\"Medialength\",\"Appointments\",\n",
    "        \"EncounterDate\"]].query(\"(EncounterDate>@Day_M28) and (EncounterDate<@Day)\").copy()\n",
    "    \n",
    "#     print(\"Extracted_History_columns:\", Extracted_History.columns)\n",
    "    Extracted_History['Days_previous']= (np.datetime64(Day)-Extracted_History[\"EncounterDate\"]).dt.days\n",
    "    Rowlist=[]\n",
    "#     print(\"Extracted_History:\",Extracted_History[\"Days_previous\"])\n",
    "#     print(\"Extracted_History 20 day previous :\",Extracted_History.query(\"Days_previous==20\").shape)\n",
    "    Day_P7=Day+datetime.timedelta(days=No_prediction_days)\n",
    "    Extracted_Prediction=Hist[[\"id_physician\",\"Encounters\",\"Medialength\",\"Appointments\",\n",
    "        \"EncounterDate\"]].query(\"(EncounterDate<@Day_P7) and (EncounterDate>@Day)\").copy()\n",
    "    Extracted_Prediction['Days_previous']= (np.datetime64(Day)-Extracted_Prediction[\"EncounterDate\"]).dt.days\n",
    "    \n",
    "    \n",
    "    #Extraction of last 28 days(history) +7 days(Future) Schedules \n",
    "    Day_plus7=Day+datetime.timedelta(days=No_prediction_days)\n",
    "    Extracted_Schedule=Schedule.query(\"(EncounterDate>@Day_M28) and (EncounterDate<@Day_plus7)\")\\\n",
    "    [[\"Appointments\",\"EncounterDate\",\"id_physician\"]].copy()\n",
    "    \n",
    "    Extracted_Schedule['Days_previous']= (np.datetime64(Day)-Extracted_Schedule[\"EncounterDate\"]).dt.days\n",
    "#     Stack the encounters in one DataFrame\n",
    "#     print(Extracted_History[\"id_physician\"].nunique())\n",
    "    for id_physician_ in Extracted_History[\"id_physician\"].drop_duplicates(): \n",
    "#         print(\"id_physician\",id_physician_)\n",
    "        By_physician_hist=Extracted_History.query(\"id_physician==@id_physician_\")\n",
    "        By_physician_hist=By_physician_hist.drop_duplicates() #keep=last\n",
    "#         print(\"By_physician_hist_shape:\",By_physician_hist.shape)\n",
    "#         if sum(By_physician_hist.duplicated(subset=\"Days_previous\"))!=0:          \n",
    "        assert sum(By_physician_hist.duplicated(subset=\"Days_previous\"))==0\n",
    "    #Created by Physician Schedule\n",
    "#         print(\"By_physician_hist_shape:\",By_physician_hist.shape)\n",
    "        By_physician_sche=Extracted_Schedule.query(\"id_physician==@id_physician_\")  \n",
    "        By_physician_sche=By_physician_sche.drop_duplicates(subset=\"Days_previous\")\n",
    "        assert sum(By_physician_sche.duplicated(subset=\"Days_previous\"))==0\n",
    "    #Predict encounter for next 7 days\n",
    "        By_physician_pred= Extracted_Prediction.query(\"id_physician==@id_physician_\")\n",
    "        By_physician_pred=By_physician_pred.drop_duplicates()\n",
    "\n",
    "#         print(By_physician_hist.query(\"Days_previous==20\").shape)\n",
    "#         print(By_physician_sche.query(\"Days_previous==20\").shape)\n",
    "        Row_Hist=pd.pivot(By_physician_hist,columns=\"Days_previous\",index=\"id_physician\",\n",
    "                     values=['Encounters', 'Medialength','Appointments'])\n",
    "#         print(\"Row_Hist_columns:\", Row_Hist.columns)\n",
    "        \n",
    "    # Pivoting on Physician Schedule\n",
    "        Row_Sche=pd.pivot(By_physician_sche,columns=\"Days_previous\",index=\"id_physician\",\n",
    "                     values=['Appointments'])\n",
    "#         print(\"Row_Sche_columns:\", Row_Sche.columns)\n",
    "        Row_Pred=pd.pivot(By_physician_pred,columns=\"Days_previous\",index=\"id_physician\",\n",
    "                     values=['Encounters', 'Medialength'])\n",
    "#         print(\"Row_Pred_columns:\", Row_Pred.columns)\n",
    "      \n",
    "#         Row=pd.concat([Row_Hist,Row_Sche,Row_Pred],axis=1)\n",
    "        Row1=Row_Hist.merge(Row_Sche, on=\"id_physician\",validate='1:1',suffixes=\n",
    "                        [\"\",\"_Sche\"])\n",
    "        Row=Row1.merge(Row_Pred, on=\"id_physician\",validate='1:1', suffixes=\n",
    "                        [\"\",\"_Pred\"])\n",
    "#         print(\"Row_columns:\", Row.columns)\n",
    "        \n",
    "#         assert (\"Appointments\",20) in Row.columns\n",
    "        Row[(\"EncounterDate\",\"empty\")]=Day \n",
    "        Row[(\"Current_Day\",\"empty\")]=Day \n",
    "        Rowlist.append(Row)\n",
    "    Out=pd.concat(Rowlist)\n",
    "    return Out"
   ]
  },
  {
   "cell_type": "code",
   "execution_count": 46,
   "id": "5015563b",
   "metadata": {},
   "outputs": [],
   "source": [
    "predicted_encounters=[(\"Encounters\",day)\n",
    "                     for day in range(-1,-(No_prediction_days),-1)]"
   ]
  },
  {
   "cell_type": "code",
   "execution_count": 47,
   "id": "bcb323b2",
   "metadata": {},
   "outputs": [],
   "source": [
    "predicted_medialength= [(\"Medialength\",day)\n",
    "                     for day in range(-1,-(No_prediction_days),-1)]"
   ]
  },
  {
   "cell_type": "code",
   "execution_count": 48,
   "id": "b1df3a29",
   "metadata": {
    "scrolled": true
   },
   "outputs": [
    {
     "data": {
      "text/plain": [
       "([('Encounters', -1),\n",
       "  ('Encounters', -2),\n",
       "  ('Encounters', -3),\n",
       "  ('Encounters', -4),\n",
       "  ('Encounters', -5),\n",
       "  ('Encounters', -6)],\n",
       " [('Medialength', -1),\n",
       "  ('Medialength', -2),\n",
       "  ('Medialength', -3),\n",
       "  ('Medialength', -4),\n",
       "  ('Medialength', -5),\n",
       "  ('Medialength', -6)])"
      ]
     },
     "execution_count": 48,
     "metadata": {},
     "output_type": "execute_result"
    }
   ],
   "source": [
    "predicted_encounters, predicted_medialength"
   ]
  },
  {
   "cell_type": "code",
   "execution_count": 49,
   "id": "7db67b7e",
   "metadata": {},
   "outputs": [
    {
     "data": {
      "text/plain": [
       "(9183, 6)"
      ]
     },
     "execution_count": 49,
     "metadata": {},
     "output_type": "execute_result"
    }
   ],
   "source": [
    "Appointments_df=read_csv(\"PhysicianAppointments.csv\",parse_dates=True)\n",
    "Appointments_df=Appointments_df.merge(phy_sample,on=\"id_physician\", validate=\"m:1\")\n",
    "Appointments_df.shape\n"
   ]
  },
  {
   "cell_type": "code",
   "execution_count": 50,
   "id": "58aa3d1d",
   "metadata": {},
   "outputs": [
    {
     "data": {
      "text/html": [
       "<div>\n",
       "<style scoped>\n",
       "    .dataframe tbody tr th:only-of-type {\n",
       "        vertical-align: middle;\n",
       "    }\n",
       "\n",
       "    .dataframe tbody tr th {\n",
       "        vertical-align: top;\n",
       "    }\n",
       "\n",
       "    .dataframe thead th {\n",
       "        text-align: right;\n",
       "    }\n",
       "</style>\n",
       "<table border=\"1\" class=\"dataframe\">\n",
       "  <thead>\n",
       "    <tr style=\"text-align: right;\">\n",
       "      <th></th>\n",
       "      <th>id_physician</th>\n",
       "      <th>PROVIDERUSERID</th>\n",
       "      <th>EncounterDate</th>\n",
       "      <th>SHIFT</th>\n",
       "      <th>Appointments</th>\n",
       "      <th>DATASOURCE</th>\n",
       "    </tr>\n",
       "  </thead>\n",
       "  <tbody>\n",
       "  </tbody>\n",
       "</table>\n",
       "</div>"
      ],
      "text/plain": [
       "Empty DataFrame\n",
       "Columns: [id_physician, PROVIDERUSERID, EncounterDate, SHIFT, Appointments, DATASOURCE]\n",
       "Index: []"
      ]
     },
     "execution_count": 50,
     "metadata": {},
     "output_type": "execute_result"
    }
   ],
   "source": [
    "Appointments_df[pd.isnull(Appointments_df).any(axis=1)]"
   ]
  },
  {
   "cell_type": "code",
   "execution_count": 51,
   "id": "dd338e0c",
   "metadata": {},
   "outputs": [],
   "source": [
    "Appointments_df.dropna(how='all',inplace=True)"
   ]
  },
  {
   "cell_type": "code",
   "execution_count": 52,
   "id": "59c1ab37",
   "metadata": {},
   "outputs": [
    {
     "data": {
      "text/plain": [
       "(9183, 6)"
      ]
     },
     "execution_count": 52,
     "metadata": {},
     "output_type": "execute_result"
    }
   ],
   "source": [
    "Appointments_df.shape"
   ]
  },
  {
   "cell_type": "code",
   "execution_count": 53,
   "id": "bb096ba3",
   "metadata": {},
   "outputs": [
    {
     "data": {
      "text/plain": [
       "(9183, 6)"
      ]
     },
     "execution_count": 53,
     "metadata": {},
     "output_type": "execute_result"
    }
   ],
   "source": [
    "# Converting to datetime datatype\n",
    "Appointments_df['EncounterDate'] = pd.to_datetime(Appointments_df['EncounterDate'])\n",
    "Appointments_df.shape"
   ]
  },
  {
   "cell_type": "code",
   "execution_count": 54,
   "id": "dcb9117c",
   "metadata": {},
   "outputs": [
    {
     "name": "stdout",
     "output_type": "stream",
     "text": [
      "445\n"
     ]
    }
   ],
   "source": [
    "print(train[\"id_physician\"].nunique())"
   ]
  },
  {
   "cell_type": "code",
   "execution_count": 55,
   "id": "0a58a34c",
   "metadata": {},
   "outputs": [
    {
     "name": "stdout",
     "output_type": "stream",
     "text": [
      "Hist_columns: Index(['id_physician', 'EncounterDate', 'Encounters', 'Medialength',\n",
      "       'Appointments', 'physician_classification', 'EncounterDate_year',\n",
      "       'EncounterDate_Month_Number', 'EncounterDate_Week_Day',\n",
      "       'EncounterDate_dayofyear', 'EncounterDate_weekend',\n",
      "       'EncounterDate_week'],\n",
      "      dtype='object')\n",
      "Extracted_History_columns: Index(['id_physician', 'Encounters', 'Medialength', 'Appointments',\n",
      "       'EncounterDate'],\n",
      "      dtype='object')\n",
      "Stacked_pred (0, 86)\n",
      "Stacked_pred Empty DataFrame\n",
      "Columns: [(Encounters, 1), (Encounters, 3), (Encounters, 4), (Encounters, 8), (Encounters, 9), (Encounters, 10), (Encounters, 15), (Encounters, 22), (Encounters, 23), (Encounters, 24), (Encounters, 25), (Medialength, 1), (Medialength, 3), (Medialength, 4), (Medialength, 8), (Medialength, 9), (Medialength, 10), (Medialength, 15), (Medialength, 22), (Medialength, 23), (Medialength, 24), (Medialength, 25), (Appointments, 1), (Appointments, 3), (Appointments, 4), (Appointments, 8), (Appointments, 9), (Appointments, 10), (Appointments, 15), (Appointments, 22), (Appointments, 23), (Appointments, 24), (Appointments, 25), (Appointments, -6), (Appointments, -5), (Appointments, -4), (EncounterDate, empty), (Current_Day, empty), (Encounters, 2), (Encounters, 5), (Encounters, 12), (Encounters, 16), (Encounters, 17), (Encounters, 18), (Encounters, 19), (Encounters, 26), (Medialength, 2), (Medialength, 5), (Medialength, 12), (Medialength, 16), (Medialength, 17), (Medialength, 18), (Medialength, 19), (Medialength, 26), (Appointments, 2), (Appointments, 5), (Appointments, 12), (Appointments, 16), (Appointments, 17), (Appointments, 18), (Appointments, 19), (Appointments, 26), (Encounters, 11), (Medialength, 11), (Appointments, 11), (Encounters, 13), (Medialength, 13), (Appointments, 13), (Encounters, 21), (Medialength, 21), (Appointments, 21), (Encounters, 7), (Medialength, 7), (Appointments, 7), (Encounters, 14), (Medialength, 14), (Appointments, 14), (Encounters, 20), (Medialength, 20), (Appointments, 20), (Encounters, 27), (Medialength, 27), (Appointments, 27), (Encounters, 6), (Medialength, 6), (Appointments, 6)]\n",
      "Index: []\n",
      "\n",
      "[0 rows x 86 columns]\n"
     ]
    }
   ],
   "source": [
    "Schedule_df=Appointments_df[[\"id_physician\",\"EncounterDate\",\"Appointments\"]]\n",
    "Stacked_pred=Stacked_History_Prediction(Hist=train,Schedule=Schedule_df,\n",
    "                    Day=(datetime.date(2023,2,11)),\n",
    "                        No_history_days=No_history_days,No_prediction_days=No_prediction_days)\n",
    "print(\"Stacked_pred\",Stacked_pred.shape)\n",
    "print(\"Stacked_pred\",Stacked_pred.head(5))\n",
    "# \"id_physician\" in Stacked_pred"
   ]
  },
  {
   "cell_type": "code",
   "execution_count": 56,
   "id": "273452f3",
   "metadata": {},
   "outputs": [],
   "source": [
    "def stacked_history_pred_date(train,Year,Month,Start_date,End_date,\n",
    "                No_history_days=No_history_days,No_prediction_days=No_prediction_days):\n",
    "    Rowlist_Stacked_History=[]\n",
    "    for day in range(Start_date,End_date):\n",
    "\n",
    "        Stacked=Stacked_History_Prediction(Hist=train,Schedule=train[[\"id_physician\",\"EncounterDate\",\"Appointments\"]],\n",
    "                                           Day=(datetime.date(Year,Month,day)),\n",
    "                        No_history_days=No_history_days,No_prediction_days=No_prediction_days)\n",
    "        Stacked[(\"Current_Day\",\"empty\")]=day\n",
    "        Rowlist_Stacked_History.append(Stacked)\n",
    "\n",
    "    Output_stacked=pd.concat(Rowlist_Stacked_History).copy()\n",
    "    return Output_stacked"
   ]
  },
  {
   "cell_type": "code",
   "execution_count": 57,
   "id": "7ca0377f",
   "metadata": {},
   "outputs": [
    {
     "name": "stdout",
     "output_type": "stream",
     "text": [
      "Hist_columns: Index(['id_physician', 'EncounterDate', 'Encounters', 'Medialength',\n",
      "       'Appointments', 'physician_classification', 'EncounterDate_year',\n",
      "       'EncounterDate_Month_Number', 'EncounterDate_Week_Day',\n",
      "       'EncounterDate_dayofyear', 'EncounterDate_weekend',\n",
      "       'EncounterDate_week'],\n",
      "      dtype='object')\n",
      "Extracted_History_columns: Index(['id_physician', 'Encounters', 'Medialength', 'Appointments',\n",
      "       'EncounterDate'],\n",
      "      dtype='object')\n",
      "Hist_columns: Index(['id_physician', 'EncounterDate', 'Encounters', 'Medialength',\n",
      "       'Appointments', 'physician_classification', 'EncounterDate_year',\n",
      "       'EncounterDate_Month_Number', 'EncounterDate_Week_Day',\n",
      "       'EncounterDate_dayofyear', 'EncounterDate_weekend',\n",
      "       'EncounterDate_week'],\n",
      "      dtype='object')\n",
      "Extracted_History_columns: Index(['id_physician', 'Encounters', 'Medialength', 'Appointments',\n",
      "       'EncounterDate'],\n",
      "      dtype='object')\n",
      "Hist_columns: Index(['id_physician', 'EncounterDate', 'Encounters', 'Medialength',\n",
      "       'Appointments', 'physician_classification', 'EncounterDate_year',\n",
      "       'EncounterDate_Month_Number', 'EncounterDate_Week_Day',\n",
      "       'EncounterDate_dayofyear', 'EncounterDate_weekend',\n",
      "       'EncounterDate_week'],\n",
      "      dtype='object')\n",
      "Extracted_History_columns: Index(['id_physician', 'Encounters', 'Medialength', 'Appointments',\n",
      "       'EncounterDate'],\n",
      "      dtype='object')\n",
      "Hist_columns: Index(['id_physician', 'EncounterDate', 'Encounters', 'Medialength',\n",
      "       'Appointments', 'physician_classification', 'EncounterDate_year',\n",
      "       'EncounterDate_Month_Number', 'EncounterDate_Week_Day',\n",
      "       'EncounterDate_dayofyear', 'EncounterDate_weekend',\n",
      "       'EncounterDate_week'],\n",
      "      dtype='object')\n",
      "Extracted_History_columns: Index(['id_physician', 'Encounters', 'Medialength', 'Appointments',\n",
      "       'EncounterDate'],\n",
      "      dtype='object')\n",
      "Hist_columns: Index(['id_physician', 'EncounterDate', 'Encounters', 'Medialength',\n",
      "       'Appointments', 'physician_classification', 'EncounterDate_year',\n",
      "       'EncounterDate_Month_Number', 'EncounterDate_Week_Day',\n",
      "       'EncounterDate_dayofyear', 'EncounterDate_weekend',\n",
      "       'EncounterDate_week'],\n",
      "      dtype='object')\n",
      "Extracted_History_columns: Index(['id_physician', 'Encounters', 'Medialength', 'Appointments',\n",
      "       'EncounterDate'],\n",
      "      dtype='object')\n",
      "Hist_columns: Index(['id_physician', 'EncounterDate', 'Encounters', 'Medialength',\n",
      "       'Appointments', 'physician_classification', 'EncounterDate_year',\n",
      "       'EncounterDate_Month_Number', 'EncounterDate_Week_Day',\n",
      "       'EncounterDate_dayofyear', 'EncounterDate_weekend',\n",
      "       'EncounterDate_week'],\n",
      "      dtype='object')\n",
      "Extracted_History_columns: Index(['id_physician', 'Encounters', 'Medialength', 'Appointments',\n",
      "       'EncounterDate'],\n",
      "      dtype='object')\n",
      "Hist_columns: Index(['id_physician', 'EncounterDate', 'Encounters', 'Medialength',\n",
      "       'Appointments', 'physician_classification', 'EncounterDate_year',\n",
      "       'EncounterDate_Month_Number', 'EncounterDate_Week_Day',\n",
      "       'EncounterDate_dayofyear', 'EncounterDate_weekend',\n",
      "       'EncounterDate_week'],\n",
      "      dtype='object')\n",
      "Extracted_History_columns: Index(['id_physician', 'Encounters', 'Medialength', 'Appointments',\n",
      "       'EncounterDate'],\n",
      "      dtype='object')\n",
      "Hist_columns: Index(['id_physician', 'EncounterDate', 'Encounters', 'Medialength',\n",
      "       'Appointments', 'physician_classification', 'EncounterDate_year',\n",
      "       'EncounterDate_Month_Number', 'EncounterDate_Week_Day',\n",
      "       'EncounterDate_dayofyear', 'EncounterDate_weekend',\n",
      "       'EncounterDate_week'],\n",
      "      dtype='object')\n",
      "Extracted_History_columns: Index(['id_physician', 'Encounters', 'Medialength', 'Appointments',\n",
      "       'EncounterDate'],\n",
      "      dtype='object')\n",
      "Hist_columns: Index(['id_physician', 'EncounterDate', 'Encounters', 'Medialength',\n",
      "       'Appointments', 'physician_classification', 'EncounterDate_year',\n",
      "       'EncounterDate_Month_Number', 'EncounterDate_Week_Day',\n",
      "       'EncounterDate_dayofyear', 'EncounterDate_weekend',\n",
      "       'EncounterDate_week'],\n",
      "      dtype='object')\n",
      "Extracted_History_columns: Index(['id_physician', 'Encounters', 'Medialength', 'Appointments',\n",
      "       'EncounterDate'],\n",
      "      dtype='object')\n",
      "Hist_columns: Index(['id_physician', 'EncounterDate', 'Encounters', 'Medialength',\n",
      "       'Appointments', 'physician_classification', 'EncounterDate_year',\n",
      "       'EncounterDate_Month_Number', 'EncounterDate_Week_Day',\n",
      "       'EncounterDate_dayofyear', 'EncounterDate_weekend',\n",
      "       'EncounterDate_week'],\n",
      "      dtype='object')\n",
      "Extracted_History_columns: Index(['id_physician', 'Encounters', 'Medialength', 'Appointments',\n",
      "       'EncounterDate'],\n",
      "      dtype='object')\n",
      "Hist_columns: Index(['id_physician', 'EncounterDate', 'Encounters', 'Medialength',\n",
      "       'Appointments', 'physician_classification', 'EncounterDate_year',\n",
      "       'EncounterDate_Month_Number', 'EncounterDate_Week_Day',\n",
      "       'EncounterDate_dayofyear', 'EncounterDate_weekend',\n",
      "       'EncounterDate_week'],\n",
      "      dtype='object')\n",
      "Extracted_History_columns: Index(['id_physician', 'Encounters', 'Medialength', 'Appointments',\n",
      "       'EncounterDate'],\n",
      "      dtype='object')\n",
      "Hist_columns: Index(['id_physician', 'EncounterDate', 'Encounters', 'Medialength',\n",
      "       'Appointments', 'physician_classification', 'EncounterDate_year',\n",
      "       'EncounterDate_Month_Number', 'EncounterDate_Week_Day',\n",
      "       'EncounterDate_dayofyear', 'EncounterDate_weekend',\n",
      "       'EncounterDate_week'],\n",
      "      dtype='object')\n",
      "Extracted_History_columns: Index(['id_physician', 'Encounters', 'Medialength', 'Appointments',\n",
      "       'EncounterDate'],\n",
      "      dtype='object')\n",
      "Hist_columns: Index(['id_physician', 'EncounterDate', 'Encounters', 'Medialength',\n",
      "       'Appointments', 'physician_classification', 'EncounterDate_year',\n",
      "       'EncounterDate_Month_Number', 'EncounterDate_Week_Day',\n",
      "       'EncounterDate_dayofyear', 'EncounterDate_weekend',\n",
      "       'EncounterDate_week'],\n",
      "      dtype='object')\n",
      "Extracted_History_columns: Index(['id_physician', 'Encounters', 'Medialength', 'Appointments',\n",
      "       'EncounterDate'],\n",
      "      dtype='object')\n",
      "Hist_columns: Index(['id_physician', 'EncounterDate', 'Encounters', 'Medialength',\n",
      "       'Appointments', 'physician_classification', 'EncounterDate_year',\n",
      "       'EncounterDate_Month_Number', 'EncounterDate_Week_Day',\n",
      "       'EncounterDate_dayofyear', 'EncounterDate_weekend',\n",
      "       'EncounterDate_week'],\n",
      "      dtype='object')\n",
      "Extracted_History_columns: Index(['id_physician', 'Encounters', 'Medialength', 'Appointments',\n",
      "       'EncounterDate'],\n",
      "      dtype='object')\n",
      "Hist_columns: Index(['id_physician', 'EncounterDate', 'Encounters', 'Medialength',\n",
      "       'Appointments', 'physician_classification', 'EncounterDate_year',\n",
      "       'EncounterDate_Month_Number', 'EncounterDate_Week_Day',\n",
      "       'EncounterDate_dayofyear', 'EncounterDate_weekend',\n",
      "       'EncounterDate_week'],\n",
      "      dtype='object')\n",
      "Extracted_History_columns: Index(['id_physician', 'Encounters', 'Medialength', 'Appointments',\n",
      "       'EncounterDate'],\n",
      "      dtype='object')\n",
      "Hist_columns: Index(['id_physician', 'EncounterDate', 'Encounters', 'Medialength',\n",
      "       'Appointments', 'physician_classification', 'EncounterDate_year',\n",
      "       'EncounterDate_Month_Number', 'EncounterDate_Week_Day',\n",
      "       'EncounterDate_dayofyear', 'EncounterDate_weekend',\n",
      "       'EncounterDate_week'],\n",
      "      dtype='object')\n",
      "Extracted_History_columns: Index(['id_physician', 'Encounters', 'Medialength', 'Appointments',\n",
      "       'EncounterDate'],\n",
      "      dtype='object')\n",
      "Hist_columns: Index(['id_physician', 'EncounterDate', 'Encounters', 'Medialength',\n",
      "       'Appointments', 'physician_classification', 'EncounterDate_year',\n",
      "       'EncounterDate_Month_Number', 'EncounterDate_Week_Day',\n",
      "       'EncounterDate_dayofyear', 'EncounterDate_weekend',\n",
      "       'EncounterDate_week'],\n",
      "      dtype='object')\n",
      "Extracted_History_columns: Index(['id_physician', 'Encounters', 'Medialength', 'Appointments',\n",
      "       'EncounterDate'],\n",
      "      dtype='object')\n",
      "Hist_columns: Index(['id_physician', 'EncounterDate', 'Encounters', 'Medialength',\n",
      "       'Appointments', 'physician_classification', 'EncounterDate_year',\n",
      "       'EncounterDate_Month_Number', 'EncounterDate_Week_Day',\n",
      "       'EncounterDate_dayofyear', 'EncounterDate_weekend',\n",
      "       'EncounterDate_week'],\n",
      "      dtype='object')\n",
      "Extracted_History_columns: Index(['id_physician', 'Encounters', 'Medialength', 'Appointments',\n",
      "       'EncounterDate'],\n",
      "      dtype='object')\n"
     ]
    },
    {
     "name": "stdout",
     "output_type": "stream",
     "text": [
      "Hist_columns: Index(['id_physician', 'EncounterDate', 'Encounters', 'Medialength',\n",
      "       'Appointments', 'physician_classification', 'EncounterDate_year',\n",
      "       'EncounterDate_Month_Number', 'EncounterDate_Week_Day',\n",
      "       'EncounterDate_dayofyear', 'EncounterDate_weekend',\n",
      "       'EncounterDate_week'],\n",
      "      dtype='object')\n",
      "Extracted_History_columns: Index(['id_physician', 'Encounters', 'Medialength', 'Appointments',\n",
      "       'EncounterDate'],\n",
      "      dtype='object')\n",
      "Hist_columns: Index(['id_physician', 'EncounterDate', 'Encounters', 'Medialength',\n",
      "       'Appointments', 'physician_classification', 'EncounterDate_year',\n",
      "       'EncounterDate_Month_Number', 'EncounterDate_Week_Day',\n",
      "       'EncounterDate_dayofyear', 'EncounterDate_weekend',\n",
      "       'EncounterDate_week'],\n",
      "      dtype='object')\n",
      "Extracted_History_columns: Index(['id_physician', 'Encounters', 'Medialength', 'Appointments',\n",
      "       'EncounterDate'],\n",
      "      dtype='object')\n",
      "Hist_columns: Index(['id_physician', 'EncounterDate', 'Encounters', 'Medialength',\n",
      "       'Appointments', 'physician_classification', 'EncounterDate_year',\n",
      "       'EncounterDate_Month_Number', 'EncounterDate_Week_Day',\n",
      "       'EncounterDate_dayofyear', 'EncounterDate_weekend',\n",
      "       'EncounterDate_week'],\n",
      "      dtype='object')\n",
      "Extracted_History_columns: Index(['id_physician', 'Encounters', 'Medialength', 'Appointments',\n",
      "       'EncounterDate'],\n",
      "      dtype='object')\n",
      "Hist_columns: Index(['id_physician', 'EncounterDate', 'Encounters', 'Medialength',\n",
      "       'Appointments', 'physician_classification', 'EncounterDate_year',\n",
      "       'EncounterDate_Month_Number', 'EncounterDate_Week_Day',\n",
      "       'EncounterDate_dayofyear', 'EncounterDate_weekend',\n",
      "       'EncounterDate_week'],\n",
      "      dtype='object')\n",
      "Extracted_History_columns: Index(['id_physician', 'Encounters', 'Medialength', 'Appointments',\n",
      "       'EncounterDate'],\n",
      "      dtype='object')\n",
      "Hist_columns: Index(['id_physician', 'EncounterDate', 'Encounters', 'Medialength',\n",
      "       'Appointments', 'physician_classification', 'EncounterDate_year',\n",
      "       'EncounterDate_Month_Number', 'EncounterDate_Week_Day',\n",
      "       'EncounterDate_dayofyear', 'EncounterDate_weekend',\n",
      "       'EncounterDate_week'],\n",
      "      dtype='object')\n",
      "Extracted_History_columns: Index(['id_physician', 'Encounters', 'Medialength', 'Appointments',\n",
      "       'EncounterDate'],\n",
      "      dtype='object')\n",
      "Hist_columns: Index(['id_physician', 'EncounterDate', 'Encounters', 'Medialength',\n",
      "       'Appointments', 'physician_classification', 'EncounterDate_year',\n",
      "       'EncounterDate_Month_Number', 'EncounterDate_Week_Day',\n",
      "       'EncounterDate_dayofyear', 'EncounterDate_weekend',\n",
      "       'EncounterDate_week'],\n",
      "      dtype='object')\n",
      "Extracted_History_columns: Index(['id_physician', 'Encounters', 'Medialength', 'Appointments',\n",
      "       'EncounterDate'],\n",
      "      dtype='object')\n",
      "Hist_columns: Index(['id_physician', 'EncounterDate', 'Encounters', 'Medialength',\n",
      "       'Appointments', 'physician_classification', 'EncounterDate_year',\n",
      "       'EncounterDate_Month_Number', 'EncounterDate_Week_Day',\n",
      "       'EncounterDate_dayofyear', 'EncounterDate_weekend',\n",
      "       'EncounterDate_week'],\n",
      "      dtype='object')\n",
      "Extracted_History_columns: Index(['id_physician', 'Encounters', 'Medialength', 'Appointments',\n",
      "       'EncounterDate'],\n",
      "      dtype='object')\n",
      "Hist_columns: Index(['id_physician', 'EncounterDate', 'Encounters', 'Medialength',\n",
      "       'Appointments', 'physician_classification', 'EncounterDate_year',\n",
      "       'EncounterDate_Month_Number', 'EncounterDate_Week_Day',\n",
      "       'EncounterDate_dayofyear', 'EncounterDate_weekend',\n",
      "       'EncounterDate_week'],\n",
      "      dtype='object')\n",
      "Extracted_History_columns: Index(['id_physician', 'Encounters', 'Medialength', 'Appointments',\n",
      "       'EncounterDate'],\n",
      "      dtype='object')\n",
      "Hist_columns: Index(['id_physician', 'EncounterDate', 'Encounters', 'Medialength',\n",
      "       'Appointments', 'physician_classification', 'EncounterDate_year',\n",
      "       'EncounterDate_Month_Number', 'EncounterDate_Week_Day',\n",
      "       'EncounterDate_dayofyear', 'EncounterDate_weekend',\n",
      "       'EncounterDate_week'],\n",
      "      dtype='object')\n",
      "Extracted_History_columns: Index(['id_physician', 'Encounters', 'Medialength', 'Appointments',\n",
      "       'EncounterDate'],\n",
      "      dtype='object')\n"
     ]
    },
    {
     "data": {
      "text/plain": [
       "(8384, 129)"
      ]
     },
     "execution_count": 57,
     "metadata": {},
     "output_type": "execute_result"
    }
   ],
   "source": [
    "Feb_stacked=stacked_history_pred_date(df2,2023,2,1,28,No_history_days,No_prediction_days)\n",
    "Feb_stacked.shape\n",
    "#28,8, save in New CSV"
   ]
  },
  {
   "cell_type": "code",
   "execution_count": 58,
   "id": "f93d01c8",
   "metadata": {},
   "outputs": [],
   "source": [
    "predicted_encounters_in_Feb_stacked=[column for column in predicted_encounters if column in Feb_stacked]\n"
   ]
  },
  {
   "cell_type": "code",
   "execution_count": 59,
   "id": "a8f22687",
   "metadata": {
    "scrolled": true
   },
   "outputs": [
    {
     "data": {
      "text/plain": [
       "id_physician\n",
       "11311    2023-02-01\n",
       "24271    2023-02-01\n",
       "26801    2023-02-01\n",
       "27001    2023-02-01\n",
       "27371    2023-02-01\n",
       "            ...    \n",
       "77126    2023-02-27\n",
       "77165    2023-02-27\n",
       "77172    2023-02-27\n",
       "8611     2023-02-27\n",
       "9811     2023-02-27\n",
       "Name: (EncounterDate, empty), Length: 8384, dtype: object"
      ]
     },
     "execution_count": 59,
     "metadata": {},
     "output_type": "execute_result"
    }
   ],
   "source": [
    "Feb_stacked[(\"EncounterDate\",\"empty\")]"
   ]
  },
  {
   "cell_type": "code",
   "execution_count": 60,
   "id": "04c036c9",
   "metadata": {},
   "outputs": [],
   "source": [
    "Feb_stacked_copy=Feb_stacked.copy()\n",
    "Feb_stacked_copy.columns=['%s.%s'%(a[0], a[1]) for a in Feb_stacked_copy.columns]"
   ]
  },
  {
   "cell_type": "code",
   "execution_count": 61,
   "id": "caa0b8c6",
   "metadata": {},
   "outputs": [],
   "source": [
    "Feb_stacked_copy.to_csv(\"Feb_data.tsv\",sep=\"\\t\")"
   ]
  },
  {
   "cell_type": "code",
   "execution_count": 62,
   "id": "c468d731",
   "metadata": {},
   "outputs": [
    {
     "data": {
      "text/plain": [
       "Index(['id_physician', 'Medialength.9', 'Medialength.8', 'Medialength.7',\n",
       "       'Medialength.6', 'Medialength.5', 'Medialength.4', 'Medialength.3',\n",
       "       'Medialength.27', 'Medialength.26',\n",
       "       ...\n",
       "       'Appointments.18', 'Appointments.17', 'Appointments.16',\n",
       "       'Appointments.15', 'Appointments.14', 'Appointments.13',\n",
       "       'Appointments.12', 'Appointments.11', 'Appointments.10',\n",
       "       'Appointments.1'],\n",
       "      dtype='object', length=130)"
      ]
     },
     "execution_count": 62,
     "metadata": {},
     "output_type": "execute_result"
    }
   ],
   "source": [
    "Feb_stacked=pd.read_csv(\"Feb_data.tsv\",sep=\"\\t\",low_memory=False)\n",
    "Feb_stacked.columns.sort_values(ascending=False)"
   ]
  },
  {
   "cell_type": "code",
   "execution_count": 63,
   "id": "425a3bcc",
   "metadata": {},
   "outputs": [
    {
     "data": {
      "text/html": [
       "<div>\n",
       "<style scoped>\n",
       "    .dataframe tbody tr th:only-of-type {\n",
       "        vertical-align: middle;\n",
       "    }\n",
       "\n",
       "    .dataframe tbody tr th {\n",
       "        vertical-align: top;\n",
       "    }\n",
       "\n",
       "    .dataframe thead th {\n",
       "        text-align: right;\n",
       "    }\n",
       "</style>\n",
       "<table border=\"1\" class=\"dataframe\">\n",
       "  <thead>\n",
       "    <tr style=\"text-align: right;\">\n",
       "      <th></th>\n",
       "      <th>id_physician</th>\n",
       "      <th>Encounters.5</th>\n",
       "      <th>Encounters.12</th>\n",
       "      <th>Encounters.13</th>\n",
       "      <th>Encounters.14</th>\n",
       "      <th>Encounters.15</th>\n",
       "      <th>Encounters.19</th>\n",
       "      <th>Encounters.20</th>\n",
       "      <th>Encounters.21</th>\n",
       "      <th>Encounters.22</th>\n",
       "      <th>...</th>\n",
       "      <th>Medialength.17</th>\n",
       "      <th>Appointments.17</th>\n",
       "      <th>Appointments_Sche.17</th>\n",
       "      <th>Appointments_Sche.-4</th>\n",
       "      <th>Encounters.-4</th>\n",
       "      <th>Medialength.-4</th>\n",
       "      <th>Encounters.24</th>\n",
       "      <th>Medialength.24</th>\n",
       "      <th>Appointments.24</th>\n",
       "      <th>Appointments_Sche.24</th>\n",
       "    </tr>\n",
       "  </thead>\n",
       "  <tbody>\n",
       "    <tr>\n",
       "      <th>0</th>\n",
       "      <td>11311</td>\n",
       "      <td>126.0</td>\n",
       "      <td>120.0</td>\n",
       "      <td>180.0</td>\n",
       "      <td>65.0</td>\n",
       "      <td>90.0</td>\n",
       "      <td>96.0</td>\n",
       "      <td>156.0</td>\n",
       "      <td>90.0</td>\n",
       "      <td>60.0</td>\n",
       "      <td>...</td>\n",
       "      <td>NaN</td>\n",
       "      <td>NaN</td>\n",
       "      <td>NaN</td>\n",
       "      <td>NaN</td>\n",
       "      <td>NaN</td>\n",
       "      <td>NaN</td>\n",
       "      <td>NaN</td>\n",
       "      <td>NaN</td>\n",
       "      <td>NaN</td>\n",
       "      <td>NaN</td>\n",
       "    </tr>\n",
       "    <tr>\n",
       "      <th>1</th>\n",
       "      <td>24271</td>\n",
       "      <td>13.0</td>\n",
       "      <td>12.0</td>\n",
       "      <td>31.0</td>\n",
       "      <td>19.0</td>\n",
       "      <td>12.0</td>\n",
       "      <td>6.0</td>\n",
       "      <td>16.0</td>\n",
       "      <td>14.0</td>\n",
       "      <td>18.0</td>\n",
       "      <td>...</td>\n",
       "      <td>NaN</td>\n",
       "      <td>NaN</td>\n",
       "      <td>NaN</td>\n",
       "      <td>NaN</td>\n",
       "      <td>NaN</td>\n",
       "      <td>NaN</td>\n",
       "      <td>NaN</td>\n",
       "      <td>NaN</td>\n",
       "      <td>NaN</td>\n",
       "      <td>NaN</td>\n",
       "    </tr>\n",
       "    <tr>\n",
       "      <th>2</th>\n",
       "      <td>26801</td>\n",
       "      <td>25.0</td>\n",
       "      <td>20.0</td>\n",
       "      <td>29.0</td>\n",
       "      <td>22.0</td>\n",
       "      <td>29.0</td>\n",
       "      <td>1.0</td>\n",
       "      <td>NaN</td>\n",
       "      <td>NaN</td>\n",
       "      <td>NaN</td>\n",
       "      <td>...</td>\n",
       "      <td>NaN</td>\n",
       "      <td>NaN</td>\n",
       "      <td>NaN</td>\n",
       "      <td>NaN</td>\n",
       "      <td>NaN</td>\n",
       "      <td>NaN</td>\n",
       "      <td>NaN</td>\n",
       "      <td>NaN</td>\n",
       "      <td>NaN</td>\n",
       "      <td>NaN</td>\n",
       "    </tr>\n",
       "    <tr>\n",
       "      <th>3</th>\n",
       "      <td>27001</td>\n",
       "      <td>16.0</td>\n",
       "      <td>31.0</td>\n",
       "      <td>23.0</td>\n",
       "      <td>26.0</td>\n",
       "      <td>13.0</td>\n",
       "      <td>NaN</td>\n",
       "      <td>32.0</td>\n",
       "      <td>30.0</td>\n",
       "      <td>38.0</td>\n",
       "      <td>...</td>\n",
       "      <td>NaN</td>\n",
       "      <td>NaN</td>\n",
       "      <td>NaN</td>\n",
       "      <td>NaN</td>\n",
       "      <td>NaN</td>\n",
       "      <td>NaN</td>\n",
       "      <td>NaN</td>\n",
       "      <td>NaN</td>\n",
       "      <td>NaN</td>\n",
       "      <td>NaN</td>\n",
       "    </tr>\n",
       "    <tr>\n",
       "      <th>4</th>\n",
       "      <td>27371</td>\n",
       "      <td>NaN</td>\n",
       "      <td>NaN</td>\n",
       "      <td>NaN</td>\n",
       "      <td>NaN</td>\n",
       "      <td>12.0</td>\n",
       "      <td>NaN</td>\n",
       "      <td>16.0</td>\n",
       "      <td>NaN</td>\n",
       "      <td>NaN</td>\n",
       "      <td>...</td>\n",
       "      <td>NaN</td>\n",
       "      <td>NaN</td>\n",
       "      <td>NaN</td>\n",
       "      <td>NaN</td>\n",
       "      <td>NaN</td>\n",
       "      <td>NaN</td>\n",
       "      <td>NaN</td>\n",
       "      <td>NaN</td>\n",
       "      <td>NaN</td>\n",
       "      <td>NaN</td>\n",
       "    </tr>\n",
       "    <tr>\n",
       "      <th>...</th>\n",
       "      <td>...</td>\n",
       "      <td>...</td>\n",
       "      <td>...</td>\n",
       "      <td>...</td>\n",
       "      <td>...</td>\n",
       "      <td>...</td>\n",
       "      <td>...</td>\n",
       "      <td>...</td>\n",
       "      <td>...</td>\n",
       "      <td>...</td>\n",
       "      <td>...</td>\n",
       "      <td>...</td>\n",
       "      <td>...</td>\n",
       "      <td>...</td>\n",
       "      <td>...</td>\n",
       "      <td>...</td>\n",
       "      <td>...</td>\n",
       "      <td>...</td>\n",
       "      <td>...</td>\n",
       "      <td>...</td>\n",
       "      <td>...</td>\n",
       "    </tr>\n",
       "    <tr>\n",
       "      <th>8379</th>\n",
       "      <td>77126</td>\n",
       "      <td>NaN</td>\n",
       "      <td>NaN</td>\n",
       "      <td>NaN</td>\n",
       "      <td>NaN</td>\n",
       "      <td>NaN</td>\n",
       "      <td>NaN</td>\n",
       "      <td>NaN</td>\n",
       "      <td>NaN</td>\n",
       "      <td>NaN</td>\n",
       "      <td>...</td>\n",
       "      <td>NaN</td>\n",
       "      <td>NaN</td>\n",
       "      <td>NaN</td>\n",
       "      <td>NaN</td>\n",
       "      <td>NaN</td>\n",
       "      <td>NaN</td>\n",
       "      <td>NaN</td>\n",
       "      <td>NaN</td>\n",
       "      <td>NaN</td>\n",
       "      <td>NaN</td>\n",
       "    </tr>\n",
       "    <tr>\n",
       "      <th>8380</th>\n",
       "      <td>77165</td>\n",
       "      <td>NaN</td>\n",
       "      <td>NaN</td>\n",
       "      <td>NaN</td>\n",
       "      <td>NaN</td>\n",
       "      <td>NaN</td>\n",
       "      <td>NaN</td>\n",
       "      <td>NaN</td>\n",
       "      <td>NaN</td>\n",
       "      <td>NaN</td>\n",
       "      <td>...</td>\n",
       "      <td>NaN</td>\n",
       "      <td>NaN</td>\n",
       "      <td>NaN</td>\n",
       "      <td>NaN</td>\n",
       "      <td>NaN</td>\n",
       "      <td>NaN</td>\n",
       "      <td>NaN</td>\n",
       "      <td>NaN</td>\n",
       "      <td>NaN</td>\n",
       "      <td>NaN</td>\n",
       "    </tr>\n",
       "    <tr>\n",
       "      <th>8381</th>\n",
       "      <td>77172</td>\n",
       "      <td>NaN</td>\n",
       "      <td>NaN</td>\n",
       "      <td>NaN</td>\n",
       "      <td>NaN</td>\n",
       "      <td>NaN</td>\n",
       "      <td>NaN</td>\n",
       "      <td>NaN</td>\n",
       "      <td>NaN</td>\n",
       "      <td>NaN</td>\n",
       "      <td>...</td>\n",
       "      <td>6830000.0</td>\n",
       "      <td>0.0</td>\n",
       "      <td>0.0</td>\n",
       "      <td>NaN</td>\n",
       "      <td>NaN</td>\n",
       "      <td>NaN</td>\n",
       "      <td>NaN</td>\n",
       "      <td>NaN</td>\n",
       "      <td>NaN</td>\n",
       "      <td>NaN</td>\n",
       "    </tr>\n",
       "    <tr>\n",
       "      <th>8382</th>\n",
       "      <td>8611</td>\n",
       "      <td>14.0</td>\n",
       "      <td>19.0</td>\n",
       "      <td>20.0</td>\n",
       "      <td>NaN</td>\n",
       "      <td>NaN</td>\n",
       "      <td>20.0</td>\n",
       "      <td>18.0</td>\n",
       "      <td>NaN</td>\n",
       "      <td>NaN</td>\n",
       "      <td>...</td>\n",
       "      <td>NaN</td>\n",
       "      <td>NaN</td>\n",
       "      <td>NaN</td>\n",
       "      <td>NaN</td>\n",
       "      <td>NaN</td>\n",
       "      <td>NaN</td>\n",
       "      <td>NaN</td>\n",
       "      <td>NaN</td>\n",
       "      <td>NaN</td>\n",
       "      <td>NaN</td>\n",
       "    </tr>\n",
       "    <tr>\n",
       "      <th>8383</th>\n",
       "      <td>9811</td>\n",
       "      <td>NaN</td>\n",
       "      <td>NaN</td>\n",
       "      <td>9.0</td>\n",
       "      <td>18.0</td>\n",
       "      <td>NaN</td>\n",
       "      <td>9.0</td>\n",
       "      <td>14.0</td>\n",
       "      <td>54.0</td>\n",
       "      <td>24.0</td>\n",
       "      <td>...</td>\n",
       "      <td>246000.0</td>\n",
       "      <td>0.0</td>\n",
       "      <td>0.0</td>\n",
       "      <td>NaN</td>\n",
       "      <td>NaN</td>\n",
       "      <td>NaN</td>\n",
       "      <td>17.0</td>\n",
       "      <td>1854000.0</td>\n",
       "      <td>0.0</td>\n",
       "      <td>0.0</td>\n",
       "    </tr>\n",
       "  </tbody>\n",
       "</table>\n",
       "<p>8384 rows × 130 columns</p>\n",
       "</div>"
      ],
      "text/plain": [
       "      id_physician  Encounters.5  Encounters.12  Encounters.13  Encounters.14  \\\n",
       "0            11311         126.0          120.0          180.0           65.0   \n",
       "1            24271          13.0           12.0           31.0           19.0   \n",
       "2            26801          25.0           20.0           29.0           22.0   \n",
       "3            27001          16.0           31.0           23.0           26.0   \n",
       "4            27371           NaN            NaN            NaN            NaN   \n",
       "...            ...           ...            ...            ...            ...   \n",
       "8379         77126           NaN            NaN            NaN            NaN   \n",
       "8380         77165           NaN            NaN            NaN            NaN   \n",
       "8381         77172           NaN            NaN            NaN            NaN   \n",
       "8382          8611          14.0           19.0           20.0            NaN   \n",
       "8383          9811           NaN            NaN            9.0           18.0   \n",
       "\n",
       "      Encounters.15  Encounters.19  Encounters.20  Encounters.21  \\\n",
       "0              90.0           96.0          156.0           90.0   \n",
       "1              12.0            6.0           16.0           14.0   \n",
       "2              29.0            1.0            NaN            NaN   \n",
       "3              13.0            NaN           32.0           30.0   \n",
       "4              12.0            NaN           16.0            NaN   \n",
       "...             ...            ...            ...            ...   \n",
       "8379            NaN            NaN            NaN            NaN   \n",
       "8380            NaN            NaN            NaN            NaN   \n",
       "8381            NaN            NaN            NaN            NaN   \n",
       "8382            NaN           20.0           18.0            NaN   \n",
       "8383            NaN            9.0           14.0           54.0   \n",
       "\n",
       "      Encounters.22  ...  Medialength.17  Appointments.17  \\\n",
       "0              60.0  ...             NaN              NaN   \n",
       "1              18.0  ...             NaN              NaN   \n",
       "2               NaN  ...             NaN              NaN   \n",
       "3              38.0  ...             NaN              NaN   \n",
       "4               NaN  ...             NaN              NaN   \n",
       "...             ...  ...             ...              ...   \n",
       "8379            NaN  ...             NaN              NaN   \n",
       "8380            NaN  ...             NaN              NaN   \n",
       "8381            NaN  ...       6830000.0              0.0   \n",
       "8382            NaN  ...             NaN              NaN   \n",
       "8383           24.0  ...        246000.0              0.0   \n",
       "\n",
       "      Appointments_Sche.17  Appointments_Sche.-4  Encounters.-4  \\\n",
       "0                      NaN                   NaN            NaN   \n",
       "1                      NaN                   NaN            NaN   \n",
       "2                      NaN                   NaN            NaN   \n",
       "3                      NaN                   NaN            NaN   \n",
       "4                      NaN                   NaN            NaN   \n",
       "...                    ...                   ...            ...   \n",
       "8379                   NaN                   NaN            NaN   \n",
       "8380                   NaN                   NaN            NaN   \n",
       "8381                   0.0                   NaN            NaN   \n",
       "8382                   NaN                   NaN            NaN   \n",
       "8383                   0.0                   NaN            NaN   \n",
       "\n",
       "      Medialength.-4  Encounters.24  Medialength.24  Appointments.24  \\\n",
       "0                NaN            NaN             NaN              NaN   \n",
       "1                NaN            NaN             NaN              NaN   \n",
       "2                NaN            NaN             NaN              NaN   \n",
       "3                NaN            NaN             NaN              NaN   \n",
       "4                NaN            NaN             NaN              NaN   \n",
       "...              ...            ...             ...              ...   \n",
       "8379             NaN            NaN             NaN              NaN   \n",
       "8380             NaN            NaN             NaN              NaN   \n",
       "8381             NaN            NaN             NaN              NaN   \n",
       "8382             NaN            NaN             NaN              NaN   \n",
       "8383             NaN           17.0       1854000.0              0.0   \n",
       "\n",
       "      Appointments_Sche.24  \n",
       "0                      NaN  \n",
       "1                      NaN  \n",
       "2                      NaN  \n",
       "3                      NaN  \n",
       "4                      NaN  \n",
       "...                    ...  \n",
       "8379                   NaN  \n",
       "8380                   NaN  \n",
       "8381                   NaN  \n",
       "8382                   NaN  \n",
       "8383                   0.0  \n",
       "\n",
       "[8384 rows x 130 columns]"
      ]
     },
     "execution_count": 63,
     "metadata": {},
     "output_type": "execute_result"
    }
   ],
   "source": [
    "Feb_stacked.dropna(subset=\"EncounterDate.empty\",inplace=True)\n",
    "Feb_stacked=Feb_stacked[Feb_stacked[\"EncounterDate.empty\"]!=\"empty\"]\n",
    "Feb_stacked"
   ]
  },
  {
   "cell_type": "code",
   "execution_count": 64,
   "id": "e07287ec",
   "metadata": {},
   "outputs": [],
   "source": [
    "predicted_encounters=['%s.%s'%(\"Encounters\",day)\n",
    "                     for day in range(-1,-(No_prediction_days),-1)]\n",
    "predicted_medialength= ['%s.%s'%(\"Medialength\",day)\n",
    "                     for day in range(-1,-(No_prediction_days),-1)]\n",
    "predicted_encounters_in_Feb_stacked=[column for column in predicted_encounters if column in Feb_stacked]\n"
   ]
  },
  {
   "cell_type": "code",
   "execution_count": 65,
   "id": "5c7f7aa5",
   "metadata": {},
   "outputs": [
    {
     "data": {
      "text/plain": [
       "((3175, 130), (4886, 130))"
      ]
     },
     "execution_count": 65,
     "metadata": {},
     "output_type": "execute_result"
    }
   ],
   "source": [
    "train_pred=Feb_stacked[pd.to_datetime(Feb_stacked[\"EncounterDate.empty\"]).dt.date<datetime.date(2023,2,11)]\n",
    "test_pred= Feb_stacked[pd.to_datetime(Feb_stacked[\"EncounterDate.empty\"]).dt.date>datetime.date(2023,2,11)]\n",
    "train_pred.shape,test_pred.shape"
   ]
  },
  {
   "cell_type": "code",
   "execution_count": 66,
   "id": "74554eb4",
   "metadata": {},
   "outputs": [
    {
     "data": {
      "text/plain": [
       "array(['2023-02-01', '2023-02-02', '2023-02-03', '2023-02-04',\n",
       "       '2023-02-05', '2023-02-06', '2023-02-07', '2023-02-08',\n",
       "       '2023-02-09', '2023-02-10', '2023-02-11', '2023-02-12',\n",
       "       '2023-02-13', '2023-02-14', '2023-02-15', '2023-02-16',\n",
       "       '2023-02-17', '2023-02-18', '2023-02-19', '2023-02-20',\n",
       "       '2023-02-21', '2023-02-22', '2023-02-23', '2023-02-24',\n",
       "       '2023-02-25', '2023-02-26', '2023-02-27'], dtype=object)"
      ]
     },
     "execution_count": 66,
     "metadata": {},
     "output_type": "execute_result"
    }
   ],
   "source": [
    "Feb_stacked[\"EncounterDate.empty\"].unique()"
   ]
  },
  {
   "cell_type": "code",
   "execution_count": 67,
   "id": "45ebcbe0",
   "metadata": {},
   "outputs": [
    {
     "data": {
      "text/plain": [
       "Index(['id_physician', 'Encounters.5', 'Encounters.12', 'Encounters.13',\n",
       "       'Encounters.14', 'Encounters.15', 'Encounters.19', 'Encounters.20',\n",
       "       'Encounters.21', 'Encounters.22',\n",
       "       ...\n",
       "       'Appointments_Sche.10', 'Encounters.17', 'Medialength.17',\n",
       "       'Appointments.17', 'Appointments_Sche.17', 'Appointments_Sche.-4',\n",
       "       'Encounters.24', 'Medialength.24', 'Appointments.24',\n",
       "       'Appointments_Sche.24'],\n",
       "      dtype='object', length=117)"
      ]
     },
     "execution_count": 67,
     "metadata": {},
     "output_type": "execute_result"
    }
   ],
   "source": [
    "X_train_pred =train_pred.drop(columns= predicted_encounters + predicted_medialength,errors=\"ignore\")\n",
    "X_train_pred= X_train_pred.drop(['EncounterDate.empty'], axis=1)\n",
    "Y_train_pred_7=train_pred[predicted_encounters_in_Feb_stacked]\n",
    "X_test_pred=test_pred.drop(columns=predicted_encounters + predicted_medialength,errors=\"ignore\")\n",
    "X_test_pred= X_test_pred.drop(['EncounterDate.empty'], axis=1)\n",
    "Y_test_pred_7=test_pred[predicted_encounters_in_Feb_stacked]\n",
    "\n",
    "X_test_pred.columns"
   ]
  },
  {
   "cell_type": "code",
   "execution_count": 274,
   "id": "03369701",
   "metadata": {},
   "outputs": [],
   "source": [
    "# def random_forest_day(X_train_pred,Y_train_pred_7,X_test_pred,Y_test_pred_7,day):\n",
    "\n",
    "#     Enc_day=\"Encounters.%d\"%day\n",
    "#     New_train_columns=X_train_pred.columns\n",
    "#     New_train_columns.sort_values()\n",
    "#     LX_train_pred=X_train_pred[New_train_columns].copy()\n",
    "#     LX_train_pred.fillna(value=0,inplace=True)\n",
    "\n",
    "#     LX_test_pred=X_test_pred[New_train_columns].copy()\n",
    "#     LX_test_pred.fillna(value=0,inplace=True)\n",
    "# #     print(len(LX_test_pred.columns))\n",
    "\n",
    "#     LY_train_pred=Y_train_pred_7[Enc_day].copy()\n",
    "\n",
    "#     LY_train_pred.columns=[day]\n",
    "#     LY_train_pred.fillna(value=0,inplace=True)\n",
    "    \n",
    "#     if Y_test_pred_7 is None:\n",
    "#         pass\n",
    "#     else:\n",
    "#         LY_test_pred=Y_test_pred_7.copy()\n",
    "#         LY_test_pred.fillna(value=0,inplace=True)\n",
    "\n",
    "#     model = RandomForestRegressor(n_estimators=100,\n",
    "#                                   criterion='squared_error',\n",
    "#                                   random_state=None,\n",
    "#                                   max_samples= None,\n",
    "#                                   max_features= 0.8 ,\n",
    "#                                   max_depth=60)\n",
    "\n",
    "#     model.fit(LX_train_pred, LY_train_pred)\n",
    "#     print(LX_test_pred)\n",
    "#     y_pred_RF = model.predict(LX_test_pred)\n",
    "    \n",
    "#     y_pred_RF_df=pd.DataFrame({Enc_day+\"_predicted\":y_pred_RF},index=LX_test_pred.index)\n",
    "#     if Y_test_pred_7 is None:\n",
    "#         df_result=pd.concat([LX_test_pred,y_pred_RF_df],axis=1,join = 'outer')\n",
    "#     else:\n",
    "#         df_result=pd.concat([LX_test_pred,LY_test_pred,y_pred_RF_df],axis=1,join = 'outer')\n",
    "\n",
    "#     return df_result"
   ]
  },
  {
   "cell_type": "code",
   "execution_count": 378,
   "id": "4804fdb9",
   "metadata": {},
   "outputs": [],
   "source": [
    "#Copy of Random forest\n",
    "def add_random_forest_day(X_train_pred,Y_train_pred_7,\n",
    "                          X_test_pred,Y_test_pred_7,day,input_Dataframe,predicted_column_name):\n",
    "\n",
    "    Enc_day=\"Encounters.%d\"%day\n",
    "    New_train_columns=X_train_pred.columns\n",
    "    New_train_columns.sort_values()\n",
    "    LX_train_pred=X_train_pred[New_train_columns].copy()\n",
    "    LX_train_pred.fillna(value=0,inplace=True)\n",
    "    LX_train_pred.drop(columns = ['id_physician', 'Current_Day.empty'],inplace=True)\n",
    "    print(\"LX_train_pred_describe:\",LX_train_pred.describe())\n",
    "    \n",
    "    LX_test_pred=X_test_pred[New_train_columns].copy()\n",
    "    LX_test_pred.fillna(value=0,inplace=True)\n",
    "    LX_test_pred.drop(columns = ['id_physician', 'Current_Day.empty'],inplace=True)\n",
    "    print(\"LX_test_pred_describe:\",LX_test_pred.describe())\n",
    "\n",
    "#     res=LX_test_pred.select_dtypes(include=[datetime.date])\n",
    "#     print(\"Result:\\n\",res.columns)\n",
    "#     print(len(LX_test_pred.columns))\n",
    "\n",
    "    LY_train_pred=Y_train_pred_7[Enc_day].copy()\n",
    "\n",
    "    LY_train_pred.columns=[day]\n",
    "    LY_train_pred.fillna(value=0,inplace=True)\n",
    "    print(\"LY_train_pred_describe:\",LY_train_pred.describe())\n",
    "    \n",
    "    if Y_test_pred_7 is None:\n",
    "        pass\n",
    "    else:\n",
    "        LY_test_pred=Y_test_pred_7.copy()\n",
    "        LY_test_pred.fillna(value=0,inplace=True)\n",
    "\n",
    "    model = RandomForestRegressor(n_estimators=100,\n",
    "                                  criterion='squared_error',\n",
    "                                  random_state=None,\n",
    "                                  max_samples= None,\n",
    "                                  max_features= 0.8 ,\n",
    "                                  max_depth=60)\n",
    "\n",
    "    model.fit(LX_train_pred, LY_train_pred)\n",
    "#     print(LX_test_pred)\n",
    "    y_pred_RF = model.predict(LX_test_pred)\n",
    "    physician_id_y_pred_RF=pd.DataFrame({\"id_physician\":X_test_pred[\"id_physician\"].astype(str),\n",
    "                                         predicted_column_name : y_pred_RF})\n",
    "    print(\"physician_id_y_pred_RF_columns:\", physician_id_y_pred_RF.columns)\n",
    "    print(\"physician_id_y_pred_RF_DTYPES:\", physician_id_y_pred_RF.dtypes)\n",
    "    result_df=input_Dataframe.merge(physician_id_y_pred_RF,on=\"id_physician\",validate=\"1:1\")\n",
    "    print(\"result_df_columns:\", result_df.columns)\n",
    "#     y_pred_RF_df=pd.DataFrame({Enc_day+\"_predicted\":y_pred_RF},index=LX_test_pred.index)\n",
    "    return result_df"
   ]
  },
  {
   "cell_type": "code",
   "execution_count": 379,
   "id": "bfee4a00",
   "metadata": {},
   "outputs": [
    {
     "data": {
      "text/plain": [
       "id_physician              int64\n",
       "Encounters.5            float64\n",
       "Encounters.12           float64\n",
       "Encounters.13           float64\n",
       "Encounters.14           float64\n",
       "                         ...   \n",
       "Appointments_Sche.-4    float64\n",
       "Encounters.24           float64\n",
       "Medialength.24          float64\n",
       "Appointments.24         float64\n",
       "Appointments_Sche.24    float64\n",
       "Length: 117, dtype: object"
      ]
     },
     "execution_count": 379,
     "metadata": {},
     "output_type": "execute_result"
    }
   ],
   "source": [
    "X_test_pred.dtypes"
   ]
  },
  {
   "cell_type": "code",
   "execution_count": 380,
   "id": "ab1f5daa",
   "metadata": {},
   "outputs": [
    {
     "name": "stdout",
     "output_type": "stream",
     "text": [
      "4886\n"
     ]
    }
   ],
   "source": [
    "print(len(X_test_pred[\"id_physician\"].duplicated()))"
   ]
  },
  {
   "cell_type": "code",
   "execution_count": 381,
   "id": "afdf2eaf",
   "metadata": {},
   "outputs": [
    {
     "data": {
      "text/html": [
       "<div>\n",
       "<style scoped>\n",
       "    .dataframe tbody tr th:only-of-type {\n",
       "        vertical-align: middle;\n",
       "    }\n",
       "\n",
       "    .dataframe tbody tr th {\n",
       "        vertical-align: top;\n",
       "    }\n",
       "\n",
       "    .dataframe thead th {\n",
       "        text-align: right;\n",
       "    }\n",
       "</style>\n",
       "<table border=\"1\" class=\"dataframe\">\n",
       "  <thead>\n",
       "    <tr style=\"text-align: right;\">\n",
       "      <th></th>\n",
       "      <th>id_physician</th>\n",
       "      <th>Encounters.5</th>\n",
       "      <th>Encounters.12</th>\n",
       "      <th>Encounters.13</th>\n",
       "      <th>Encounters.14</th>\n",
       "      <th>Encounters.15</th>\n",
       "      <th>Encounters.19</th>\n",
       "      <th>Encounters.20</th>\n",
       "      <th>Encounters.21</th>\n",
       "      <th>Encounters.22</th>\n",
       "      <th>...</th>\n",
       "      <th>Appointments_Sche.10</th>\n",
       "      <th>Encounters.17</th>\n",
       "      <th>Medialength.17</th>\n",
       "      <th>Appointments.17</th>\n",
       "      <th>Appointments_Sche.17</th>\n",
       "      <th>Appointments_Sche.-4</th>\n",
       "      <th>Encounters.24</th>\n",
       "      <th>Medialength.24</th>\n",
       "      <th>Appointments.24</th>\n",
       "      <th>Appointments_Sche.24</th>\n",
       "    </tr>\n",
       "  </thead>\n",
       "  <tbody>\n",
       "  </tbody>\n",
       "</table>\n",
       "<p>0 rows × 117 columns</p>\n",
       "</div>"
      ],
      "text/plain": [
       "Empty DataFrame\n",
       "Columns: [id_physician, Encounters.5, Encounters.12, Encounters.13, Encounters.14, Encounters.15, Encounters.19, Encounters.20, Encounters.21, Encounters.22, Encounters.26, Encounters.27, Medialength.5, Medialength.12, Medialength.13, Medialength.14, Medialength.15, Medialength.19, Medialength.20, Medialength.21, Medialength.22, Medialength.26, Medialength.27, Appointments.5, Appointments.12, Appointments.13, Appointments.14, Appointments.15, Appointments.19, Appointments.20, Appointments.21, Appointments.22, Appointments.26, Appointments.27, Appointments_Sche.-6, Appointments_Sche.-2, Appointments_Sche.-1, Appointments_Sche.0, Appointments_Sche.5, Appointments_Sche.12, Appointments_Sche.13, Appointments_Sche.14, Appointments_Sche.15, Appointments_Sche.19, Appointments_Sche.20, Appointments_Sche.21, Appointments_Sche.22, Appointments_Sche.26, Appointments_Sche.27, Current_Day.empty, Encounters.2, Encounters.6, Encounters.7, Encounters.8, Encounters.9, Encounters.16, Encounters.23, Medialength.2, Medialength.6, Medialength.7, Medialength.8, Medialength.9, Medialength.16, Medialength.23, Appointments.2, Appointments.6, Appointments.7, Appointments.8, Appointments.9, Appointments.16, Appointments.23, Appointments_Sche.-5, Appointments_Sche.2, Appointments_Sche.6, Appointments_Sche.7, Appointments_Sche.8, Appointments_Sche.9, Appointments_Sche.16, Appointments_Sche.23, Encounters.1, Medialength.1, Appointments.1, Appointments_Sche.1, Encounters.3, Encounters.25, Medialength.3, Medialength.25, Appointments.3, Appointments.25, Appointments_Sche.3, Appointments_Sche.25, Encounters.18, Medialength.18, Appointments.18, Appointments_Sche.18, Encounters.11, Medialength.11, Appointments.11, Appointments_Sche.11, Appointments_Sche.-3, ...]\n",
       "Index: []\n",
       "\n",
       "[0 rows x 117 columns]"
      ]
     },
     "execution_count": 381,
     "metadata": {},
     "output_type": "execute_result"
    }
   ],
   "source": [
    "X_test_pred.query(\"id_physician =='15581'\")"
   ]
  },
  {
   "cell_type": "code",
   "execution_count": 382,
   "id": "079e68d0",
   "metadata": {},
   "outputs": [
    {
     "name": "stdout",
     "output_type": "stream",
     "text": [
      "0\n"
     ]
    }
   ],
   "source": [
    "print(len(Appointments_df.query(\"id_physician =='15581'\")))"
   ]
  },
  {
   "cell_type": "code",
   "execution_count": 383,
   "id": "75a7b125",
   "metadata": {},
   "outputs": [
    {
     "name": "stdout",
     "output_type": "stream",
     "text": [
      "0\n"
     ]
    }
   ],
   "source": [
    "print(len(df2.query(\"id_physician =='15581'\")))"
   ]
  },
  {
   "cell_type": "code",
   "execution_count": 384,
   "id": "a423bcee",
   "metadata": {},
   "outputs": [
    {
     "name": "stdout",
     "output_type": "stream",
     "text": [
      "4512\n"
     ]
    }
   ],
   "source": [
    "D=X_test_pred[X_test_pred[\"id_physician\"].duplicated()].sort_values(\"id_physician\")\n",
    "print(len(D))"
   ]
  },
  {
   "cell_type": "code",
   "execution_count": 385,
   "id": "f5c0b0cc",
   "metadata": {},
   "outputs": [
    {
     "name": "stdout",
     "output_type": "stream",
     "text": [
      "66998    16\n",
      "66239    16\n",
      "61965    16\n",
      "62385    16\n",
      "62479    16\n",
      "         ..\n",
      "73642     2\n",
      "74950     1\n",
      "54209     1\n",
      "69604     1\n",
      "70970     1\n",
      "Name: id_physician, Length: 374, dtype: int64\n"
     ]
    }
   ],
   "source": [
    "T=X_test_pred[\"id_physician\"].value_counts()\n",
    "print(T)"
   ]
  },
  {
   "cell_type": "code",
   "execution_count": 386,
   "id": "cea68589",
   "metadata": {},
   "outputs": [],
   "source": [
    "Only_physician_id=df2[[\"id_physician\"]].drop_duplicates(keep=\"first\")\n",
    "# Only_physician_id.head(20)"
   ]
  },
  {
   "cell_type": "code",
   "execution_count": 387,
   "id": "398e1937",
   "metadata": {},
   "outputs": [
    {
     "data": {
      "text/plain": [
       "'2023-03-06'"
      ]
     },
     "execution_count": 387,
     "metadata": {},
     "output_type": "execute_result"
    }
   ],
   "source": [
    "predicted_date=(datetime.date(Test_year,Test_month,(Test_day))).strftime(\"%Y-%m-%d\")\n",
    " #need to work on test days later\n",
    "predicted_date\n"
   ]
  },
  {
   "cell_type": "code",
   "execution_count": 388,
   "id": "03dbc34d",
   "metadata": {},
   "outputs": [],
   "source": [
    "# add_random_forest_day(X_train_pred,Y_train_pred_7,\n",
    "#                           X_test_pred,Y_test_pred_7,day=(-1),\n",
    "#                       input_Dataframe=Only_physician_id,predicted_column_name=predicted_date)"
   ]
  },
  {
   "cell_type": "code",
   "execution_count": 389,
   "id": "33c1bf00",
   "metadata": {},
   "outputs": [],
   "source": [
    "# Result_day1=add_random_forest_day(X_train_pred,Y_train_pred_7,X_test_pred,Y_test_pred_7,day=-1)"
   ]
  },
  {
   "cell_type": "code",
   "execution_count": 390,
   "id": "2015a1e7",
   "metadata": {},
   "outputs": [
    {
     "data": {
      "text/plain": [
       "Index(['id_physician', 'EncounterDate', 'Encounters', 'Medialength',\n",
       "       'Appointments', 'physician_classification', 'EncounterDate_year',\n",
       "       'EncounterDate_Month_Number', 'EncounterDate_Week_Day',\n",
       "       'EncounterDate_dayofyear', 'EncounterDate_weekend',\n",
       "       'EncounterDate_week'],\n",
       "      dtype='object')"
      ]
     },
     "execution_count": 390,
     "metadata": {},
     "output_type": "execute_result"
    }
   ],
   "source": [
    "df2.columns"
   ]
  },
  {
   "cell_type": "code",
   "execution_count": 391,
   "id": "7e3711d8",
   "metadata": {},
   "outputs": [],
   "source": [
    "def Test_input(Hist,Appointments_by_shift,Current_Year, Current_Month,Current_Date):\n",
    "    \n",
    "#     Hist_Physician=set(hist[\"id_physician\"])\n",
    "#     App_Physician=set(Appointments_by_shift[\"id_physician\"])\n",
    "#     All_Physician=Hist_Physician.union(App_Physician)\n",
    "    Appointments=Appointments_by_shift.groupby([\"id_physician\",\"EncounterDate\"])\\\n",
    "                        .agg(Appointments=(\"Appointments\",\"sum\")).reset_index()\n",
    "    \n",
    "#     print(\"Appointments_NaN:\",Appointments[Appointments.isna().any(axis=1)])\n",
    "    assert Appointments[Appointments.isna().any(axis=1)].shape[0]==0\n",
    "    Day=(datetime.date(Current_Year, Current_Month,Current_Date))\n",
    "    Day_dt64=np.datetime64(Day)\n",
    "\n",
    "    #1. add appointmnents to the Raw history\n",
    "#     Raw_hist_plus_appointment=pd.concat([Hist,Appointments], axis=0,join ='outer') \n",
    "    Raw_hist_plus_appointment=Hist.merge(Appointments, on =[\"id_physician\",\"EncounterDate\"],\n",
    "                how ='outer',suffixes=['', '_Appointments'],indicator=True,validate=\"1:1\")\n",
    "    Appointment_conflicts=(Raw_hist_plus_appointment[\"Appointments\"]!=\n",
    "                Raw_hist_plus_appointment[\"Appointments_Appointments\"])\n",
    "#     print(Appointment_conflicts)\n",
    "#     assert sum(Appointment_conflicts)==0\n",
    "#     print(\"Raw_hist_plus_appointment_columns:\",Raw_hist_plus_appointment.columns)\n",
    "#     assert \"Appointments\" in Raw_hist_plus_appointment.columns\n",
    "#     T=Raw_hist_plus_appointment[Raw_hist_plus_appointment.isna().any(axis=1)]\n",
    "#     print(T.head(10))\n",
    "#     print(\"Raw_hist_plus_appointment_NaN:\",len(T))\n",
    "#     print(\"Raw_hist_plus_appointment_NaN:\",Raw_hist_plus_appointment[Raw_hist_plus_appointment.isna().any(axis=1)])\n",
    "\n",
    "\n",
    "    Raw_hist_plus_appointment.drop_duplicates(subset=[\"id_physician\",\"EncounterDate\"],keep=\"first\",inplace=True)\n",
    "\n",
    "    #2. Run the stacked (Raw history+Appointment)\n",
    "#     assert \"Appointments\" in Raw_hist_plus_appointment.columns\n",
    "    Stacked_History=Stacked_History_Prediction(Raw_hist_plus_appointment,Appointments,Day,\\\n",
    "                        No_history_days=No_history_days,No_prediction_days=No_prediction_days)\n",
    "    print(\"Stacked_History_describe:\",Stacked_History.describe())\n",
    "#     print(\"Stacked_History_NaN:\",Stacked_History[Stacked_History.isna().any(axis=1)])\n",
    "    print(\"Stacked_History_columns:\",Stacked_History.columns)\n",
    "    \n",
    "#     print(Stacked_History[[\"EncounterDate\"]].dtypes)\n",
    "    assert (\"EncounterDate\",\"empty\") in Stacked_History.columns\n",
    "    assert \"EncounterDate\" in Stacked_History.columns\n",
    "#     assert (\"Appointments\",20) in Stacked_History.columns\n",
    "#     Test=Stacked_History[Stacked_History[\"Current_Day.empty\"]==Day_dt64]\n",
    "    K=Stacked_History.drop_duplicates(subset=[(\"EncounterDate\",\"empty\")])\n",
    "#     print(\"Stacked_History_encounter_dates:\",Stacked_History.drop_duplicates(subset=[\"EncounterDate\"]))\n",
    "    print(\"Stacked_History_encounter_dates:\",K)\n",
    "    Test=Stacked_History[Stacked_History[(\"EncounterDate\",\"empty\")]==Day_dt64]\n",
    "    print(\"DAY:\",Day_dt64)\n",
    "    print(\"Test_NaN:\",Test[Test.isna().any(axis=1)])\n",
    "    Test.columns=['%s.%s'%(a[0], a[1]) for a in Test.columns]\n",
    "    print(\"Test_describe:\",Test.describe())\n",
    "#     assert \"Appointments.20\" in Test.columns\n",
    "#     print(Test)\n",
    "#    Test=Stacked_History.query(\"EncounterDate==@Day_dt64\")\n",
    "    return Test"
   ]
  },
  {
   "cell_type": "code",
   "execution_count": 392,
   "id": "2398f59c",
   "metadata": {
    "scrolled": false
   },
   "outputs": [
    {
     "name": "stdout",
     "output_type": "stream",
     "text": [
      "Hist_columns: Index(['id_physician', 'EncounterDate', 'Encounters', 'Medialength',\n",
      "       'Appointments', 'physician_classification', 'EncounterDate_year',\n",
      "       'EncounterDate_Month_Number', 'EncounterDate_Week_Day',\n",
      "       'EncounterDate_dayofyear', 'EncounterDate_weekend',\n",
      "       'EncounterDate_week', 'Appointments_Appointments', '_merge'],\n",
      "      dtype='object')\n",
      "Extracted_History_columns: Index(['id_physician', 'Encounters', 'Medialength', 'Appointments',\n",
      "       'EncounterDate'],\n",
      "      dtype='object')\n",
      "Stacked_History_describe:               Encounters                                                      \\\n",
      "Days_previous         3    4          5           7           10          11   \n",
      "count                0.0  0.0  21.000000  170.000000  124.000000  140.000000   \n",
      "mean                 NaN  NaN   7.904762   32.611765   29.685484   32.000000   \n",
      "std                  NaN  NaN  11.510451   48.213552   43.228522   64.031018   \n",
      "min                  NaN  NaN   1.000000    1.000000    1.000000    1.000000   \n",
      "25%                  NaN  NaN   3.000000   10.000000    6.000000    8.000000   \n",
      "50%                  NaN  NaN   6.000000   18.000000   16.000000   16.000000   \n",
      "75%                  NaN  NaN   8.000000   35.000000   36.000000   30.250000   \n",
      "max                  NaN  NaN  56.000000  400.000000  380.000000  580.000000   \n",
      "\n",
      "                                                                ...  \\\n",
      "Days_previous           12          13          14          17  ...   \n",
      "count           138.000000  150.000000  118.000000  133.000000  ...   \n",
      "mean             40.137681   36.633333   30.033898   25.421053  ...   \n",
      "std             103.553942   73.139787   41.252802   26.583548  ...   \n",
      "min               1.000000    1.000000    1.000000    1.000000  ...   \n",
      "25%               8.000000    9.000000    8.000000    6.000000  ...   \n",
      "50%              16.000000   19.000000   16.500000   16.000000  ...   \n",
      "75%              37.500000   34.750000   30.000000   39.000000  ...   \n",
      "max            1116.000000  783.000000  272.000000  140.000000  ...   \n",
      "\n",
      "              Appointments_Sche            Encounters Medialength Encounters  \\\n",
      "Days_previous                1         -6         -6          -6          23   \n",
      "count                 12.000000  12.000000        0.0         0.0  17.000000   \n",
      "mean                  12.416667  15.166667        NaN         NaN   4.588235   \n",
      "std                   15.287894  17.569774        NaN         NaN   7.441932   \n",
      "min                    1.000000   1.000000        NaN         NaN   1.000000   \n",
      "25%                    1.000000   1.000000        NaN         NaN   1.000000   \n",
      "50%                    5.500000   8.500000        NaN         NaN   2.000000   \n",
      "75%                   21.750000  21.750000        NaN         NaN   4.000000   \n",
      "max                   48.000000  49.000000        NaN         NaN  32.000000   \n",
      "\n",
      "                Medialength Appointments Encounters   Medialength Appointments  \n",
      "Days_previous            23           23         22            22           22  \n",
      "count          1.700000e+01    17.000000   3.000000  3.000000e+00     3.000000  \n",
      "mean           6.353235e+06     2.117647   4.666667  6.200000e+05     1.000000  \n",
      "std            9.115586e+06     2.088132   6.350853  9.345379e+05     1.732051  \n",
      "min            8.400000e+04     0.000000   1.000000  1.000000e+03     0.000000  \n",
      "25%            1.175000e+06     0.000000   1.000000  8.250000e+04     0.000000  \n",
      "50%            2.518000e+06     2.000000   1.000000  1.640000e+05     0.000000  \n",
      "75%            5.398000e+06     3.000000   6.500000  9.295000e+05     1.500000  \n",
      "max            3.446100e+07     8.000000  12.000000  1.695000e+06     3.000000  \n",
      "\n",
      "[8 rows x 119 columns]\n",
      "Stacked_History_columns: MultiIndex([(       'Encounters',  3),\n",
      "            (       'Encounters',  4),\n",
      "            (       'Encounters',  5),\n",
      "            (       'Encounters',  7),\n",
      "            (       'Encounters', 10),\n",
      "            (       'Encounters', 11),\n",
      "            (       'Encounters', 12),\n",
      "            (       'Encounters', 13),\n",
      "            (       'Encounters', 14),\n",
      "            (       'Encounters', 17),\n",
      "            ...\n",
      "            ('Appointments_Sche',  1),\n",
      "            ('Appointments_Sche', -6),\n",
      "            (       'Encounters', -6),\n",
      "            (      'Medialength', -6),\n",
      "            (       'Encounters', 23),\n",
      "            (      'Medialength', 23),\n",
      "            (     'Appointments', 23),\n",
      "            (       'Encounters', 22),\n",
      "            (      'Medialength', 22),\n",
      "            (     'Appointments', 22)],\n",
      "           names=[None, 'Days_previous'], length=121)\n",
      "Stacked_History_encounter_dates:               Encounters                                                    \\\n",
      "Days_previous         3   4   5     7     10    11    12    13    14    17   \n",
      "id_physician                                                                 \n",
      "24271                NaN NaN NaN  20.0  11.0  23.0  19.0  17.0  16.0  23.0   \n",
      "\n",
      "               ... Appointments_Sche     Encounters Medialength Encounters  \\\n",
      "Days_previous  ...                1  -6         -6          -6          23   \n",
      "id_physician   ...                                                           \n",
      "24271          ...               NaN NaN        NaN         NaN        NaN   \n",
      "\n",
      "              Medialength Appointments Encounters Medialength Appointments  \n",
      "Days_previous          23           23         22          22           22  \n",
      "id_physician                                                                \n",
      "24271                 NaN          NaN        NaN         NaN          NaN  \n",
      "\n",
      "[1 rows x 121 columns]\n",
      "DAY: 2023-03-06\n",
      "Test_NaN:               Encounters                                                    \\\n",
      "Days_previous         3   4   5     7     10    11    12    13    14    17   \n",
      "id_physician                                                                 \n",
      "24271                NaN NaN NaN  20.0  11.0  23.0  19.0  17.0  16.0  23.0   \n",
      "26801                NaN NaN NaN  40.0  66.0  64.0  24.0  56.0  51.0  60.0   \n",
      "27001                NaN NaN NaN   NaN  32.0  20.0  31.0  21.0   NaN  34.0   \n",
      "27371                NaN NaN NaN  13.0   NaN   NaN   NaN   NaN   NaN   NaN   \n",
      "29891                NaN NaN NaN  34.0   NaN  36.0   8.0  20.0  17.0  17.0   \n",
      "...                  ...  ..  ..   ...   ...   ...   ...   ...   ...   ...   \n",
      "73809                NaN NaN NaN   NaN   NaN   NaN   NaN   NaN   NaN   NaN   \n",
      "74526                NaN NaN NaN   NaN   NaN   NaN   NaN   NaN   NaN   NaN   \n",
      "74786                NaN NaN NaN   NaN   NaN   NaN   NaN   NaN   NaN   NaN   \n",
      "74812                NaN NaN NaN   NaN   NaN   NaN   NaN   NaN   NaN   NaN   \n",
      "75435                NaN NaN NaN   NaN   NaN   NaN   NaN   NaN   NaN   NaN   \n",
      "\n",
      "               ... Appointments_Sche     Encounters Medialength Encounters  \\\n",
      "Days_previous  ...                1  -6         -6          -6          23   \n",
      "id_physician   ...                                                           \n",
      "24271          ...               NaN NaN        NaN         NaN        NaN   \n",
      "26801          ...               NaN NaN        NaN         NaN        NaN   \n",
      "27001          ...               NaN NaN        NaN         NaN        NaN   \n",
      "27371          ...               NaN NaN        NaN         NaN        NaN   \n",
      "29891          ...               NaN NaN        NaN         NaN        NaN   \n",
      "...            ...               ...  ..        ...         ...        ...   \n",
      "73809          ...               NaN NaN        NaN         NaN        NaN   \n",
      "74526          ...               1.0 NaN        NaN         NaN        NaN   \n",
      "74786          ...               NaN NaN        NaN         NaN        NaN   \n",
      "74812          ...               NaN NaN        NaN         NaN        NaN   \n",
      "75435          ...               NaN NaN        NaN         NaN        NaN   \n",
      "\n",
      "              Medialength Appointments Encounters Medialength Appointments  \n",
      "Days_previous          23           23         22          22           22  \n",
      "id_physician                                                                \n",
      "24271                 NaN          NaN        NaN         NaN          NaN  \n",
      "26801                 NaN          NaN        NaN         NaN          NaN  \n",
      "27001                 NaN          NaN        NaN         NaN          NaN  \n",
      "27371                 NaN          NaN        NaN         NaN          NaN  \n",
      "29891                 NaN          NaN        NaN         NaN          NaN  \n",
      "...                   ...          ...        ...         ...          ...  \n",
      "73809                 NaN          NaN        NaN         NaN          NaN  \n",
      "74526                 NaN          NaN        NaN         NaN          NaN  \n",
      "74786                 NaN          NaN        NaN         NaN          NaN  \n",
      "74812                 NaN          NaN        NaN         NaN          NaN  \n",
      "75435                 NaN          NaN        NaN         NaN          NaN  \n",
      "\n",
      "[286 rows x 121 columns]\n"
     ]
    },
    {
     "name": "stdout",
     "output_type": "stream",
     "text": [
      "Test_describe:        Encounters.3  Encounters.4  Encounters.5  Encounters.7  Encounters.10  \\\n",
      "count           0.0           0.0     21.000000    170.000000     124.000000   \n",
      "mean            NaN           NaN      7.904762     32.611765      29.685484   \n",
      "std             NaN           NaN     11.510451     48.213552      43.228522   \n",
      "min             NaN           NaN      1.000000      1.000000       1.000000   \n",
      "25%             NaN           NaN      3.000000     10.000000       6.000000   \n",
      "50%             NaN           NaN      6.000000     18.000000      16.000000   \n",
      "75%             NaN           NaN      8.000000     35.000000      36.000000   \n",
      "max             NaN           NaN     56.000000    400.000000     380.000000   \n",
      "\n",
      "       Encounters.11  Encounters.12  Encounters.13  Encounters.14  \\\n",
      "count     140.000000     138.000000     150.000000     118.000000   \n",
      "mean       32.000000      40.137681      36.633333      30.033898   \n",
      "std        64.031018     103.553942      73.139787      41.252802   \n",
      "min         1.000000       1.000000       1.000000       1.000000   \n",
      "25%         8.000000       8.000000       9.000000       8.000000   \n",
      "50%        16.000000      16.000000      19.000000      16.500000   \n",
      "75%        30.250000      37.500000      34.750000      30.000000   \n",
      "max       580.000000    1116.000000     783.000000     272.000000   \n",
      "\n",
      "       Encounters.17  ...  Appointments_Sche.1  Appointments_Sche.-6  \\\n",
      "count     133.000000  ...            12.000000             12.000000   \n",
      "mean       25.421053  ...            12.416667             15.166667   \n",
      "std        26.583548  ...            15.287894             17.569774   \n",
      "min         1.000000  ...             1.000000              1.000000   \n",
      "25%         6.000000  ...             1.000000              1.000000   \n",
      "50%        16.000000  ...             5.500000              8.500000   \n",
      "75%        39.000000  ...            21.750000             21.750000   \n",
      "max       140.000000  ...            48.000000             49.000000   \n",
      "\n",
      "       Encounters.-6  Medialength.-6  Encounters.23  Medialength.23  \\\n",
      "count            0.0             0.0      17.000000    1.700000e+01   \n",
      "mean             NaN             NaN       4.588235    6.353235e+06   \n",
      "std              NaN             NaN       7.441932    9.115586e+06   \n",
      "min              NaN             NaN       1.000000    8.400000e+04   \n",
      "25%              NaN             NaN       1.000000    1.175000e+06   \n",
      "50%              NaN             NaN       2.000000    2.518000e+06   \n",
      "75%              NaN             NaN       4.000000    5.398000e+06   \n",
      "max              NaN             NaN      32.000000    3.446100e+07   \n",
      "\n",
      "       Appointments.23  Encounters.22  Medialength.22  Appointments.22  \n",
      "count        17.000000       3.000000    3.000000e+00         3.000000  \n",
      "mean          2.117647       4.666667    6.200000e+05         1.000000  \n",
      "std           2.088132       6.350853    9.345379e+05         1.732051  \n",
      "min           0.000000       1.000000    1.000000e+03         0.000000  \n",
      "25%           0.000000       1.000000    8.250000e+04         0.000000  \n",
      "50%           2.000000       1.000000    1.640000e+05         0.000000  \n",
      "75%           3.000000       6.500000    9.295000e+05         1.500000  \n",
      "max           8.000000      12.000000    1.695000e+06         3.000000  \n",
      "\n",
      "[8 rows x 119 columns]\n"
     ]
    }
   ],
   "source": [
    " #3.Extract test data for current day\n",
    "TI1=Test_input(df2,Appointments_df,Test_year,Test_month,Test_day)\n",
    "# # print(len(TI1[\"id_physician\"]))\n",
    "# print(TI1.shape)\n",
    "TI1['EncounterDate.empty'] = TI1['EncounterDate.empty'].apply(pd.to_numeric, errors='coerce', downcast='float')\n",
    "# len(TI1.columns)\n"
   ]
  },
  {
   "cell_type": "code",
   "execution_count": 393,
   "id": "0cc1ee04",
   "metadata": {},
   "outputs": [
    {
     "data": {
      "text/plain": [
       "Index(['Encounters.3', 'Encounters.4', 'Encounters.5', 'Encounters.7',\n",
       "       'Encounters.10', 'Encounters.11', 'Encounters.12', 'Encounters.13',\n",
       "       'Encounters.14', 'Encounters.17',\n",
       "       ...\n",
       "       'Appointments_Sche.1', 'Appointments_Sche.-6', 'Encounters.-6',\n",
       "       'Medialength.-6', 'Encounters.23', 'Medialength.23', 'Appointments.23',\n",
       "       'Encounters.22', 'Medialength.22', 'Appointments.22'],\n",
       "      dtype='object', length=121)"
      ]
     },
     "execution_count": 393,
     "metadata": {},
     "output_type": "execute_result"
    }
   ],
   "source": [
    "TI1.columns"
   ]
  },
  {
   "cell_type": "code",
   "execution_count": 394,
   "id": "d7a241af",
   "metadata": {},
   "outputs": [],
   "source": [
    "# TI1[\"EncounterDate.empty\"].unique()\n",
    "# df2.query(\"id_physician =='15581'\")"
   ]
  },
  {
   "cell_type": "code",
   "execution_count": 395,
   "id": "3563293f",
   "metadata": {},
   "outputs": [
    {
     "data": {
      "text/plain": [
       "id_physician  EncounterDate\n",
       "11311         2022-12-01       1\n",
       "67944         2022-12-20       1\n",
       "67955         2022-12-23       1\n",
       "              2022-12-27       1\n",
       "              2022-12-28       1\n",
       "                              ..\n",
       "58559         2023-02-03       1\n",
       "              2023-02-06       1\n",
       "              2023-02-07       1\n",
       "              2023-02-08       1\n",
       "9811          2023-02-28       1\n",
       "Length: 12361, dtype: int64"
      ]
     },
     "execution_count": 395,
     "metadata": {},
     "output_type": "execute_result"
    }
   ],
   "source": [
    "df2[[\"id_physician\",'EncounterDate']].value_counts()"
   ]
  },
  {
   "cell_type": "code",
   "execution_count": 396,
   "id": "7e79b0e2",
   "metadata": {},
   "outputs": [],
   "source": [
    "# df2.query('id_physician==\"53498\" and EncounterDate==\"2023-02-22\"')"
   ]
  },
  {
   "cell_type": "code",
   "execution_count": 397,
   "id": "b06d78d6",
   "metadata": {},
   "outputs": [],
   "source": [
    "# TI1[Appointments_df.query(\"id_physician =='15581'\")].dropna(how= \"all\",inplace=True)"
   ]
  },
  {
   "cell_type": "code",
   "execution_count": 398,
   "id": "fb1821fb",
   "metadata": {},
   "outputs": [],
   "source": [
    "# cheating_X_train_pred=X_train_pred.drop(columns =['id_physician', 'Appointments.20', 'Appointments.21', 'Appointments.23', 'Appointments.27', 'Appointments.22', 'Appointments.26', 'Appointments.25', 'Appointments.24', 'Current_Day.empty']) "
   ]
  },
  {
   "cell_type": "code",
   "execution_count": 399,
   "id": "80addff1",
   "metadata": {},
   "outputs": [],
   "source": [
    "cheating_X_train_pred=X_train_pred.drop(columns =['Appointments_Sche.20', 'Appointments_Sche.21', 'Appointments_Sche.23', 'Appointments_Sche.25', 'Appointments_Sche.26', 'Appointments_Sche.22', 'Appointments_Sche.27', 'Appointments_Sche.24']) "
   ]
  },
  {
   "cell_type": "code",
   "execution_count": 400,
   "id": "6dcfbff4",
   "metadata": {},
   "outputs": [
    {
     "name": "stdout",
     "output_type": "stream",
     "text": [
      "LX_train_pred_describe:        Encounters.5  Encounters.12  Encounters.13  Encounters.14  \\\n",
      "count   3175.000000    3175.000000    3175.000000    3175.000000   \n",
      "mean      11.953701      11.943307      13.984252      16.034646   \n",
      "std       33.878681      32.424639      36.046621      41.580261   \n",
      "min        0.000000       0.000000       0.000000       0.000000   \n",
      "25%        0.000000       0.000000       0.000000       0.000000   \n",
      "50%        0.000000       0.000000       0.000000       0.000000   \n",
      "75%       10.000000       9.000000      12.000000      15.000000   \n",
      "max      868.000000     675.000000     675.000000     990.000000   \n",
      "\n",
      "       Encounters.15  Encounters.19  Encounters.20  Encounters.21  \\\n",
      "count    3175.000000    3175.000000    3175.000000    3175.000000   \n",
      "mean       16.866772      11.479055      13.577953      15.791496   \n",
      "std        42.675261      36.058808      39.533378      47.716059   \n",
      "min         0.000000       0.000000       0.000000       0.000000   \n",
      "25%         0.000000       0.000000       0.000000       0.000000   \n",
      "50%         0.000000       0.000000       0.000000       0.000000   \n",
      "75%        17.000000       7.000000      12.000000      15.000000   \n",
      "max       990.000000     990.000000     990.000000    1406.000000   \n",
      "\n",
      "       Encounters.22  Encounters.26  ...  Appointments.10  \\\n",
      "count    3175.000000    3175.000000  ...      3175.000000   \n",
      "mean       16.693543      12.573228  ...         4.276535   \n",
      "std        48.842844      41.982558  ...         7.927984   \n",
      "min         0.000000       0.000000  ...         0.000000   \n",
      "25%         0.000000       0.000000  ...         0.000000   \n",
      "50%         0.000000       0.000000  ...         0.000000   \n",
      "75%        16.000000       9.000000  ...         7.000000   \n",
      "max      1406.000000    1406.000000  ...        57.000000   \n",
      "\n",
      "       Appointments_Sche.10  Encounters.17  Medialength.17  Appointments.17  \\\n",
      "count           3175.000000    3175.000000    3.175000e+03      3175.000000   \n",
      "mean               4.276535      14.488504    1.017664e+07         4.228346   \n",
      "std                7.927984      39.122863    2.683456e+07         7.972729   \n",
      "min                0.000000       0.000000    0.000000e+00         0.000000   \n",
      "25%                0.000000       0.000000    0.000000e+00         0.000000   \n",
      "50%                0.000000       0.000000    0.000000e+00         0.000000   \n",
      "75%                7.000000      13.000000    8.528500e+06         6.000000   \n",
      "max               57.000000     990.000000    4.372170e+08        66.000000   \n",
      "\n",
      "       Appointments_Sche.17  Appointments_Sche.-4  Encounters.24  \\\n",
      "count           3175.000000           3175.000000    3175.000000   \n",
      "mean               4.228346              5.228661      14.522835   \n",
      "std                7.972729              8.809901      43.584038   \n",
      "min                0.000000              0.000000       0.000000   \n",
      "25%                0.000000              0.000000       0.000000   \n",
      "50%                0.000000              0.000000       0.000000   \n",
      "75%                6.000000             10.000000      14.000000   \n",
      "max               66.000000             56.000000    1406.000000   \n",
      "\n",
      "       Medialength.24  Appointments.24  \n",
      "count    3.175000e+03      3175.000000  \n",
      "mean     9.927933e+06         4.099528  \n",
      "std      2.620762e+07         7.926779  \n",
      "min      0.000000e+00         0.000000  \n",
      "25%      0.000000e+00         0.000000  \n",
      "50%      0.000000e+00         0.000000  \n",
      "75%      7.979000e+06         5.000000  \n",
      "max      4.279180e+08        54.000000  \n",
      "\n",
      "[8 rows x 107 columns]\n",
      "LX_test_pred_describe:        Encounters.5  Encounters.12  Encounters.13  Encounters.14  \\\n",
      "count    286.000000     286.000000     286.000000     286.000000   \n",
      "mean       0.580420      19.367133      19.213287      12.391608   \n",
      "std        3.682891      74.554971      55.969540      30.298755   \n",
      "min        0.000000       0.000000       0.000000       0.000000   \n",
      "25%        0.000000       0.000000       0.000000       0.000000   \n",
      "50%        0.000000       0.000000       3.000000       0.000000   \n",
      "75%        0.000000      15.000000      20.000000      12.000000   \n",
      "max       56.000000    1116.000000     783.000000     272.000000   \n",
      "\n",
      "       Encounters.15  Encounters.19  Encounters.20  Encounters.21  \\\n",
      "count     286.000000     286.000000     286.000000     286.000000   \n",
      "mean        0.003497      19.090909      20.157343      15.905594   \n",
      "std         0.059131      60.527495      51.034901      33.687858   \n",
      "min         0.000000       0.000000       0.000000       0.000000   \n",
      "25%         0.000000       0.000000       0.000000       0.000000   \n",
      "50%         0.000000       3.000000       6.000000       3.000000   \n",
      "75%         0.000000      18.000000      24.000000      20.000000   \n",
      "max         1.000000     812.000000     667.000000     360.000000   \n",
      "\n",
      "       Encounters.22  Encounters.26  ...  Appointments.10  \\\n",
      "count     286.000000     286.000000  ...       286.000000   \n",
      "mean        0.048951      17.765734  ...         3.996503   \n",
      "std         0.714056      60.153293  ...         7.392504   \n",
      "min         0.000000       0.000000  ...         0.000000   \n",
      "25%         0.000000       0.000000  ...         0.000000   \n",
      "50%         0.000000       1.000000  ...         0.000000   \n",
      "75%         0.000000      14.750000  ...         6.000000   \n",
      "max        12.000000     840.000000  ...        47.000000   \n",
      "\n",
      "       Appointments_Sche.10  Encounters.17  Medialength.17  Appointments.17  \\\n",
      "count            286.000000     286.000000    2.860000e+02       286.000000   \n",
      "mean              12.150350      11.821678    9.593881e+06         4.311189   \n",
      "std               12.773676      22.105164    2.025782e+07         7.291741   \n",
      "min                0.000000       0.000000    0.000000e+00         0.000000   \n",
      "25%                1.000000       0.000000    0.000000e+00         0.000000   \n",
      "50%                8.000000       0.000000    0.000000e+00         0.000000   \n",
      "75%               19.750000      15.000000    9.214250e+06         8.000000   \n",
      "max               64.000000     140.000000    1.398500e+08        36.000000   \n",
      "\n",
      "       Appointments_Sche.17  Appointments_Sche.-4  Encounters.24  \\\n",
      "count            286.000000            286.000000     286.000000   \n",
      "mean              13.171329              9.590909      10.562937   \n",
      "std               13.553611             12.007766      22.972628   \n",
      "min                0.000000              0.000000       0.000000   \n",
      "25%                0.250000              0.000000       0.000000   \n",
      "50%                9.000000              5.000000       0.000000   \n",
      "75%               21.750000             15.750000      10.750000   \n",
      "max               58.000000             58.000000     192.000000   \n",
      "\n",
      "       Medialength.24  Appointments.24  \n",
      "count    2.860000e+02       286.000000  \n",
      "mean     8.617598e+06         4.185315  \n",
      "std      2.092351e+07         7.865353  \n",
      "min      0.000000e+00         0.000000  \n",
      "25%      0.000000e+00         0.000000  \n",
      "50%      0.000000e+00         0.000000  \n",
      "75%      7.233250e+06         6.750000  \n",
      "max      1.870470e+08        51.000000  \n",
      "\n",
      "[8 rows x 107 columns]\n",
      "LY_train_pred_describe: count    3175.000000\n",
      "mean       15.907717\n",
      "std        41.115441\n",
      "min         0.000000\n",
      "25%         0.000000\n",
      "50%         0.000000\n",
      "75%        15.000000\n",
      "max       868.000000\n",
      "Name: Encounters.-1, dtype: float64\n",
      "physician_id_y_pred_RF_columns: Index(['id_physician', '2023-03-07'], dtype='object')\n",
      "physician_id_y_pred_RF_DTYPES: id_physician     object\n",
      "2023-03-07      float64\n",
      "dtype: object\n",
      "result_df_columns: Index(['id_physician', '2023-03-07'], dtype='object')\n",
      "result_dataframe_columns Index(['id_physician', '2023-03-07'], dtype='object')\n",
      "LX_train_pred_describe:        Encounters.5  Encounters.12  Encounters.13  Encounters.14  \\\n",
      "count   3175.000000    3175.000000    3175.000000    3175.000000   \n",
      "mean      11.953701      11.943307      13.984252      16.034646   \n",
      "std       33.878681      32.424639      36.046621      41.580261   \n",
      "min        0.000000       0.000000       0.000000       0.000000   \n",
      "25%        0.000000       0.000000       0.000000       0.000000   \n",
      "50%        0.000000       0.000000       0.000000       0.000000   \n",
      "75%       10.000000       9.000000      12.000000      15.000000   \n",
      "max      868.000000     675.000000     675.000000     990.000000   \n",
      "\n",
      "       Encounters.15  Encounters.19  Encounters.20  Encounters.21  \\\n",
      "count    3175.000000    3175.000000    3175.000000    3175.000000   \n",
      "mean       16.866772      11.479055      13.577953      15.791496   \n",
      "std        42.675261      36.058808      39.533378      47.716059   \n",
      "min         0.000000       0.000000       0.000000       0.000000   \n",
      "25%         0.000000       0.000000       0.000000       0.000000   \n",
      "50%         0.000000       0.000000       0.000000       0.000000   \n",
      "75%        17.000000       7.000000      12.000000      15.000000   \n",
      "max       990.000000     990.000000     990.000000    1406.000000   \n",
      "\n",
      "       Encounters.22  Encounters.26  ...  Appointments.10  \\\n",
      "count    3175.000000    3175.000000  ...      3175.000000   \n",
      "mean       16.693543      12.573228  ...         4.276535   \n",
      "std        48.842844      41.982558  ...         7.927984   \n",
      "min         0.000000       0.000000  ...         0.000000   \n",
      "25%         0.000000       0.000000  ...         0.000000   \n",
      "50%         0.000000       0.000000  ...         0.000000   \n",
      "75%        16.000000       9.000000  ...         7.000000   \n",
      "max      1406.000000    1406.000000  ...        57.000000   \n",
      "\n",
      "       Appointments_Sche.10  Encounters.17  Medialength.17  Appointments.17  \\\n",
      "count           3175.000000    3175.000000    3.175000e+03      3175.000000   \n",
      "mean               4.276535      14.488504    1.017664e+07         4.228346   \n",
      "std                7.927984      39.122863    2.683456e+07         7.972729   \n",
      "min                0.000000       0.000000    0.000000e+00         0.000000   \n",
      "25%                0.000000       0.000000    0.000000e+00         0.000000   \n",
      "50%                0.000000       0.000000    0.000000e+00         0.000000   \n",
      "75%                7.000000      13.000000    8.528500e+06         6.000000   \n",
      "max               57.000000     990.000000    4.372170e+08        66.000000   \n",
      "\n",
      "       Appointments_Sche.17  Appointments_Sche.-4  Encounters.24  \\\n",
      "count           3175.000000           3175.000000    3175.000000   \n",
      "mean               4.228346              5.228661      14.522835   \n",
      "std                7.972729              8.809901      43.584038   \n",
      "min                0.000000              0.000000       0.000000   \n",
      "25%                0.000000              0.000000       0.000000   \n",
      "50%                0.000000              0.000000       0.000000   \n",
      "75%                6.000000             10.000000      14.000000   \n",
      "max               66.000000             56.000000    1406.000000   \n",
      "\n",
      "       Medialength.24  Appointments.24  \n",
      "count    3.175000e+03      3175.000000  \n",
      "mean     9.927933e+06         4.099528  \n",
      "std      2.620762e+07         7.926779  \n",
      "min      0.000000e+00         0.000000  \n",
      "25%      0.000000e+00         0.000000  \n",
      "50%      0.000000e+00         0.000000  \n",
      "75%      7.979000e+06         5.000000  \n",
      "max      4.279180e+08        54.000000  \n",
      "\n",
      "[8 rows x 107 columns]\n"
     ]
    },
    {
     "name": "stdout",
     "output_type": "stream",
     "text": [
      "LX_test_pred_describe:        Encounters.5  Encounters.12  Encounters.13  Encounters.14  \\\n",
      "count    286.000000     286.000000     286.000000     286.000000   \n",
      "mean       0.580420      19.367133      19.213287      12.391608   \n",
      "std        3.682891      74.554971      55.969540      30.298755   \n",
      "min        0.000000       0.000000       0.000000       0.000000   \n",
      "25%        0.000000       0.000000       0.000000       0.000000   \n",
      "50%        0.000000       0.000000       3.000000       0.000000   \n",
      "75%        0.000000      15.000000      20.000000      12.000000   \n",
      "max       56.000000    1116.000000     783.000000     272.000000   \n",
      "\n",
      "       Encounters.15  Encounters.19  Encounters.20  Encounters.21  \\\n",
      "count     286.000000     286.000000     286.000000     286.000000   \n",
      "mean        0.003497      19.090909      20.157343      15.905594   \n",
      "std         0.059131      60.527495      51.034901      33.687858   \n",
      "min         0.000000       0.000000       0.000000       0.000000   \n",
      "25%         0.000000       0.000000       0.000000       0.000000   \n",
      "50%         0.000000       3.000000       6.000000       3.000000   \n",
      "75%         0.000000      18.000000      24.000000      20.000000   \n",
      "max         1.000000     812.000000     667.000000     360.000000   \n",
      "\n",
      "       Encounters.22  Encounters.26  ...  Appointments.10  \\\n",
      "count     286.000000     286.000000  ...       286.000000   \n",
      "mean        0.048951      17.765734  ...         3.996503   \n",
      "std         0.714056      60.153293  ...         7.392504   \n",
      "min         0.000000       0.000000  ...         0.000000   \n",
      "25%         0.000000       0.000000  ...         0.000000   \n",
      "50%         0.000000       1.000000  ...         0.000000   \n",
      "75%         0.000000      14.750000  ...         6.000000   \n",
      "max        12.000000     840.000000  ...        47.000000   \n",
      "\n",
      "       Appointments_Sche.10  Encounters.17  Medialength.17  Appointments.17  \\\n",
      "count            286.000000     286.000000    2.860000e+02       286.000000   \n",
      "mean              12.150350      11.821678    9.593881e+06         4.311189   \n",
      "std               12.773676      22.105164    2.025782e+07         7.291741   \n",
      "min                0.000000       0.000000    0.000000e+00         0.000000   \n",
      "25%                1.000000       0.000000    0.000000e+00         0.000000   \n",
      "50%                8.000000       0.000000    0.000000e+00         0.000000   \n",
      "75%               19.750000      15.000000    9.214250e+06         8.000000   \n",
      "max               64.000000     140.000000    1.398500e+08        36.000000   \n",
      "\n",
      "       Appointments_Sche.17  Appointments_Sche.-4  Encounters.24  \\\n",
      "count            286.000000            286.000000     286.000000   \n",
      "mean              13.171329              9.590909      10.562937   \n",
      "std               13.553611             12.007766      22.972628   \n",
      "min                0.000000              0.000000       0.000000   \n",
      "25%                0.250000              0.000000       0.000000   \n",
      "50%                9.000000              5.000000       0.000000   \n",
      "75%               21.750000             15.750000      10.750000   \n",
      "max               58.000000             58.000000     192.000000   \n",
      "\n",
      "       Medialength.24  Appointments.24  \n",
      "count    2.860000e+02       286.000000  \n",
      "mean     8.617598e+06         4.185315  \n",
      "std      2.092351e+07         7.865353  \n",
      "min      0.000000e+00         0.000000  \n",
      "25%      0.000000e+00         0.000000  \n",
      "50%      0.000000e+00         0.000000  \n",
      "75%      7.233250e+06         6.750000  \n",
      "max      1.870470e+08        51.000000  \n",
      "\n",
      "[8 rows x 107 columns]\n",
      "LY_train_pred_describe: count    3175.000000\n",
      "mean       13.664252\n",
      "std        37.186065\n",
      "min         0.000000\n",
      "25%         0.000000\n",
      "50%         0.000000\n",
      "75%        12.000000\n",
      "max       840.000000\n",
      "Name: Encounters.-2, dtype: float64\n",
      "physician_id_y_pred_RF_columns: Index(['id_physician', '2023-03-08'], dtype='object')\n",
      "physician_id_y_pred_RF_DTYPES: id_physician     object\n",
      "2023-03-08      float64\n",
      "dtype: object\n",
      "result_df_columns: Index(['id_physician', '2023-03-07', '2023-03-08'], dtype='object')\n",
      "result_dataframe_columns Index(['id_physician', '2023-03-07', '2023-03-08'], dtype='object')\n",
      "LX_train_pred_describe:        Encounters.5  Encounters.12  Encounters.13  Encounters.14  \\\n",
      "count   3175.000000    3175.000000    3175.000000    3175.000000   \n",
      "mean      11.953701      11.943307      13.984252      16.034646   \n",
      "std       33.878681      32.424639      36.046621      41.580261   \n",
      "min        0.000000       0.000000       0.000000       0.000000   \n",
      "25%        0.000000       0.000000       0.000000       0.000000   \n",
      "50%        0.000000       0.000000       0.000000       0.000000   \n",
      "75%       10.000000       9.000000      12.000000      15.000000   \n",
      "max      868.000000     675.000000     675.000000     990.000000   \n",
      "\n",
      "       Encounters.15  Encounters.19  Encounters.20  Encounters.21  \\\n",
      "count    3175.000000    3175.000000    3175.000000    3175.000000   \n",
      "mean       16.866772      11.479055      13.577953      15.791496   \n",
      "std        42.675261      36.058808      39.533378      47.716059   \n",
      "min         0.000000       0.000000       0.000000       0.000000   \n",
      "25%         0.000000       0.000000       0.000000       0.000000   \n",
      "50%         0.000000       0.000000       0.000000       0.000000   \n",
      "75%        17.000000       7.000000      12.000000      15.000000   \n",
      "max       990.000000     990.000000     990.000000    1406.000000   \n",
      "\n",
      "       Encounters.22  Encounters.26  ...  Appointments.10  \\\n",
      "count    3175.000000    3175.000000  ...      3175.000000   \n",
      "mean       16.693543      12.573228  ...         4.276535   \n",
      "std        48.842844      41.982558  ...         7.927984   \n",
      "min         0.000000       0.000000  ...         0.000000   \n",
      "25%         0.000000       0.000000  ...         0.000000   \n",
      "50%         0.000000       0.000000  ...         0.000000   \n",
      "75%        16.000000       9.000000  ...         7.000000   \n",
      "max      1406.000000    1406.000000  ...        57.000000   \n",
      "\n",
      "       Appointments_Sche.10  Encounters.17  Medialength.17  Appointments.17  \\\n",
      "count           3175.000000    3175.000000    3.175000e+03      3175.000000   \n",
      "mean               4.276535      14.488504    1.017664e+07         4.228346   \n",
      "std                7.927984      39.122863    2.683456e+07         7.972729   \n",
      "min                0.000000       0.000000    0.000000e+00         0.000000   \n",
      "25%                0.000000       0.000000    0.000000e+00         0.000000   \n",
      "50%                0.000000       0.000000    0.000000e+00         0.000000   \n",
      "75%                7.000000      13.000000    8.528500e+06         6.000000   \n",
      "max               57.000000     990.000000    4.372170e+08        66.000000   \n",
      "\n",
      "       Appointments_Sche.17  Appointments_Sche.-4  Encounters.24  \\\n",
      "count           3175.000000           3175.000000    3175.000000   \n",
      "mean               4.228346              5.228661      14.522835   \n",
      "std                7.972729              8.809901      43.584038   \n",
      "min                0.000000              0.000000       0.000000   \n",
      "25%                0.000000              0.000000       0.000000   \n",
      "50%                0.000000              0.000000       0.000000   \n",
      "75%                6.000000             10.000000      14.000000   \n",
      "max               66.000000             56.000000    1406.000000   \n",
      "\n",
      "       Medialength.24  Appointments.24  \n",
      "count    3.175000e+03      3175.000000  \n",
      "mean     9.927933e+06         4.099528  \n",
      "std      2.620762e+07         7.926779  \n",
      "min      0.000000e+00         0.000000  \n",
      "25%      0.000000e+00         0.000000  \n",
      "50%      0.000000e+00         0.000000  \n",
      "75%      7.979000e+06         5.000000  \n",
      "max      4.279180e+08        54.000000  \n",
      "\n",
      "[8 rows x 107 columns]\n",
      "LX_test_pred_describe:        Encounters.5  Encounters.12  Encounters.13  Encounters.14  \\\n",
      "count    286.000000     286.000000     286.000000     286.000000   \n",
      "mean       0.580420      19.367133      19.213287      12.391608   \n",
      "std        3.682891      74.554971      55.969540      30.298755   \n",
      "min        0.000000       0.000000       0.000000       0.000000   \n",
      "25%        0.000000       0.000000       0.000000       0.000000   \n",
      "50%        0.000000       0.000000       3.000000       0.000000   \n",
      "75%        0.000000      15.000000      20.000000      12.000000   \n",
      "max       56.000000    1116.000000     783.000000     272.000000   \n",
      "\n",
      "       Encounters.15  Encounters.19  Encounters.20  Encounters.21  \\\n",
      "count     286.000000     286.000000     286.000000     286.000000   \n",
      "mean        0.003497      19.090909      20.157343      15.905594   \n",
      "std         0.059131      60.527495      51.034901      33.687858   \n",
      "min         0.000000       0.000000       0.000000       0.000000   \n",
      "25%         0.000000       0.000000       0.000000       0.000000   \n",
      "50%         0.000000       3.000000       6.000000       3.000000   \n",
      "75%         0.000000      18.000000      24.000000      20.000000   \n",
      "max         1.000000     812.000000     667.000000     360.000000   \n",
      "\n",
      "       Encounters.22  Encounters.26  ...  Appointments.10  \\\n",
      "count     286.000000     286.000000  ...       286.000000   \n",
      "mean        0.048951      17.765734  ...         3.996503   \n",
      "std         0.714056      60.153293  ...         7.392504   \n",
      "min         0.000000       0.000000  ...         0.000000   \n",
      "25%         0.000000       0.000000  ...         0.000000   \n",
      "50%         0.000000       1.000000  ...         0.000000   \n",
      "75%         0.000000      14.750000  ...         6.000000   \n",
      "max        12.000000     840.000000  ...        47.000000   \n",
      "\n",
      "       Appointments_Sche.10  Encounters.17  Medialength.17  Appointments.17  \\\n",
      "count            286.000000     286.000000    2.860000e+02       286.000000   \n",
      "mean              12.150350      11.821678    9.593881e+06         4.311189   \n",
      "std               12.773676      22.105164    2.025782e+07         7.291741   \n",
      "min                0.000000       0.000000    0.000000e+00         0.000000   \n",
      "25%                1.000000       0.000000    0.000000e+00         0.000000   \n",
      "50%                8.000000       0.000000    0.000000e+00         0.000000   \n",
      "75%               19.750000      15.000000    9.214250e+06         8.000000   \n",
      "max               64.000000     140.000000    1.398500e+08        36.000000   \n",
      "\n",
      "       Appointments_Sche.17  Appointments_Sche.-4  Encounters.24  \\\n",
      "count            286.000000            286.000000     286.000000   \n",
      "mean              13.171329              9.590909      10.562937   \n",
      "std               13.553611             12.007766      22.972628   \n",
      "min                0.000000              0.000000       0.000000   \n",
      "25%                0.250000              0.000000       0.000000   \n",
      "50%                9.000000              5.000000       0.000000   \n",
      "75%               21.750000             15.750000      10.750000   \n",
      "max               58.000000             58.000000     192.000000   \n",
      "\n",
      "       Medialength.24  Appointments.24  \n",
      "count    2.860000e+02       286.000000  \n",
      "mean     8.617598e+06         4.185315  \n",
      "std      2.092351e+07         7.865353  \n",
      "min      0.000000e+00         0.000000  \n",
      "25%      0.000000e+00         0.000000  \n",
      "50%      0.000000e+00         0.000000  \n",
      "75%      7.233250e+06         6.750000  \n",
      "max      1.870470e+08        51.000000  \n",
      "\n",
      "[8 rows x 107 columns]\n",
      "LY_train_pred_describe: count    3175.000000\n",
      "mean       14.418898\n",
      "std        38.491715\n",
      "min         0.000000\n",
      "25%         0.000000\n",
      "50%         0.000000\n",
      "75%        12.500000\n",
      "max       840.000000\n",
      "Name: Encounters.-3, dtype: float64\n"
     ]
    },
    {
     "name": "stdout",
     "output_type": "stream",
     "text": [
      "physician_id_y_pred_RF_columns: Index(['id_physician', '2023-03-09'], dtype='object')\n",
      "physician_id_y_pred_RF_DTYPES: id_physician     object\n",
      "2023-03-09      float64\n",
      "dtype: object\n",
      "result_df_columns: Index(['id_physician', '2023-03-07', '2023-03-08', '2023-03-09'], dtype='object')\n",
      "result_dataframe_columns Index(['id_physician', '2023-03-07', '2023-03-08', '2023-03-09'], dtype='object')\n",
      "LX_train_pred_describe:        Encounters.5  Encounters.12  Encounters.13  Encounters.14  \\\n",
      "count   3175.000000    3175.000000    3175.000000    3175.000000   \n",
      "mean      11.953701      11.943307      13.984252      16.034646   \n",
      "std       33.878681      32.424639      36.046621      41.580261   \n",
      "min        0.000000       0.000000       0.000000       0.000000   \n",
      "25%        0.000000       0.000000       0.000000       0.000000   \n",
      "50%        0.000000       0.000000       0.000000       0.000000   \n",
      "75%       10.000000       9.000000      12.000000      15.000000   \n",
      "max      868.000000     675.000000     675.000000     990.000000   \n",
      "\n",
      "       Encounters.15  Encounters.19  Encounters.20  Encounters.21  \\\n",
      "count    3175.000000    3175.000000    3175.000000    3175.000000   \n",
      "mean       16.866772      11.479055      13.577953      15.791496   \n",
      "std        42.675261      36.058808      39.533378      47.716059   \n",
      "min         0.000000       0.000000       0.000000       0.000000   \n",
      "25%         0.000000       0.000000       0.000000       0.000000   \n",
      "50%         0.000000       0.000000       0.000000       0.000000   \n",
      "75%        17.000000       7.000000      12.000000      15.000000   \n",
      "max       990.000000     990.000000     990.000000    1406.000000   \n",
      "\n",
      "       Encounters.22  Encounters.26  ...  Appointments.10  \\\n",
      "count    3175.000000    3175.000000  ...      3175.000000   \n",
      "mean       16.693543      12.573228  ...         4.276535   \n",
      "std        48.842844      41.982558  ...         7.927984   \n",
      "min         0.000000       0.000000  ...         0.000000   \n",
      "25%         0.000000       0.000000  ...         0.000000   \n",
      "50%         0.000000       0.000000  ...         0.000000   \n",
      "75%        16.000000       9.000000  ...         7.000000   \n",
      "max      1406.000000    1406.000000  ...        57.000000   \n",
      "\n",
      "       Appointments_Sche.10  Encounters.17  Medialength.17  Appointments.17  \\\n",
      "count           3175.000000    3175.000000    3.175000e+03      3175.000000   \n",
      "mean               4.276535      14.488504    1.017664e+07         4.228346   \n",
      "std                7.927984      39.122863    2.683456e+07         7.972729   \n",
      "min                0.000000       0.000000    0.000000e+00         0.000000   \n",
      "25%                0.000000       0.000000    0.000000e+00         0.000000   \n",
      "50%                0.000000       0.000000    0.000000e+00         0.000000   \n",
      "75%                7.000000      13.000000    8.528500e+06         6.000000   \n",
      "max               57.000000     990.000000    4.372170e+08        66.000000   \n",
      "\n",
      "       Appointments_Sche.17  Appointments_Sche.-4  Encounters.24  \\\n",
      "count           3175.000000           3175.000000    3175.000000   \n",
      "mean               4.228346              5.228661      14.522835   \n",
      "std                7.972729              8.809901      43.584038   \n",
      "min                0.000000              0.000000       0.000000   \n",
      "25%                0.000000              0.000000       0.000000   \n",
      "50%                0.000000              0.000000       0.000000   \n",
      "75%                6.000000             10.000000      14.000000   \n",
      "max               66.000000             56.000000    1406.000000   \n",
      "\n",
      "       Medialength.24  Appointments.24  \n",
      "count    3.175000e+03      3175.000000  \n",
      "mean     9.927933e+06         4.099528  \n",
      "std      2.620762e+07         7.926779  \n",
      "min      0.000000e+00         0.000000  \n",
      "25%      0.000000e+00         0.000000  \n",
      "50%      0.000000e+00         0.000000  \n",
      "75%      7.979000e+06         5.000000  \n",
      "max      4.279180e+08        54.000000  \n",
      "\n",
      "[8 rows x 107 columns]\n",
      "LX_test_pred_describe:        Encounters.5  Encounters.12  Encounters.13  Encounters.14  \\\n",
      "count    286.000000     286.000000     286.000000     286.000000   \n",
      "mean       0.580420      19.367133      19.213287      12.391608   \n",
      "std        3.682891      74.554971      55.969540      30.298755   \n",
      "min        0.000000       0.000000       0.000000       0.000000   \n",
      "25%        0.000000       0.000000       0.000000       0.000000   \n",
      "50%        0.000000       0.000000       3.000000       0.000000   \n",
      "75%        0.000000      15.000000      20.000000      12.000000   \n",
      "max       56.000000    1116.000000     783.000000     272.000000   \n",
      "\n",
      "       Encounters.15  Encounters.19  Encounters.20  Encounters.21  \\\n",
      "count     286.000000     286.000000     286.000000     286.000000   \n",
      "mean        0.003497      19.090909      20.157343      15.905594   \n",
      "std         0.059131      60.527495      51.034901      33.687858   \n",
      "min         0.000000       0.000000       0.000000       0.000000   \n",
      "25%         0.000000       0.000000       0.000000       0.000000   \n",
      "50%         0.000000       3.000000       6.000000       3.000000   \n",
      "75%         0.000000      18.000000      24.000000      20.000000   \n",
      "max         1.000000     812.000000     667.000000     360.000000   \n",
      "\n",
      "       Encounters.22  Encounters.26  ...  Appointments.10  \\\n",
      "count     286.000000     286.000000  ...       286.000000   \n",
      "mean        0.048951      17.765734  ...         3.996503   \n",
      "std         0.714056      60.153293  ...         7.392504   \n",
      "min         0.000000       0.000000  ...         0.000000   \n",
      "25%         0.000000       0.000000  ...         0.000000   \n",
      "50%         0.000000       1.000000  ...         0.000000   \n",
      "75%         0.000000      14.750000  ...         6.000000   \n",
      "max        12.000000     840.000000  ...        47.000000   \n",
      "\n",
      "       Appointments_Sche.10  Encounters.17  Medialength.17  Appointments.17  \\\n",
      "count            286.000000     286.000000    2.860000e+02       286.000000   \n",
      "mean              12.150350      11.821678    9.593881e+06         4.311189   \n",
      "std               12.773676      22.105164    2.025782e+07         7.291741   \n",
      "min                0.000000       0.000000    0.000000e+00         0.000000   \n",
      "25%                1.000000       0.000000    0.000000e+00         0.000000   \n",
      "50%                8.000000       0.000000    0.000000e+00         0.000000   \n",
      "75%               19.750000      15.000000    9.214250e+06         8.000000   \n",
      "max               64.000000     140.000000    1.398500e+08        36.000000   \n",
      "\n",
      "       Appointments_Sche.17  Appointments_Sche.-4  Encounters.24  \\\n",
      "count            286.000000            286.000000     286.000000   \n",
      "mean              13.171329              9.590909      10.562937   \n",
      "std               13.553611             12.007766      22.972628   \n",
      "min                0.000000              0.000000       0.000000   \n",
      "25%                0.250000              0.000000       0.000000   \n",
      "50%                9.000000              5.000000       0.000000   \n",
      "75%               21.750000             15.750000      10.750000   \n",
      "max               58.000000             58.000000     192.000000   \n",
      "\n",
      "       Medialength.24  Appointments.24  \n",
      "count    2.860000e+02       286.000000  \n",
      "mean     8.617598e+06         4.185315  \n",
      "std      2.092351e+07         7.865353  \n",
      "min      0.000000e+00         0.000000  \n",
      "25%      0.000000e+00         0.000000  \n",
      "50%      0.000000e+00         0.000000  \n",
      "75%      7.233250e+06         6.750000  \n",
      "max      1.870470e+08        51.000000  \n",
      "\n",
      "[8 rows x 107 columns]\n",
      "LY_train_pred_describe: count    3175.000000\n",
      "mean       17.045354\n",
      "std        42.096678\n",
      "min         0.000000\n",
      "25%         0.000000\n",
      "50%         0.000000\n",
      "75%        16.000000\n",
      "max       840.000000\n",
      "Name: Encounters.-4, dtype: float64\n",
      "physician_id_y_pred_RF_columns: Index(['id_physician', '2023-03-10'], dtype='object')\n",
      "physician_id_y_pred_RF_DTYPES: id_physician     object\n",
      "2023-03-10      float64\n",
      "dtype: object\n",
      "result_df_columns: Index(['id_physician', '2023-03-07', '2023-03-08', '2023-03-09', '2023-03-10'], dtype='object')\n",
      "result_dataframe_columns Index(['id_physician', '2023-03-07', '2023-03-08', '2023-03-09', '2023-03-10'], dtype='object')\n",
      "LX_train_pred_describe:        Encounters.5  Encounters.12  Encounters.13  Encounters.14  \\\n",
      "count   3175.000000    3175.000000    3175.000000    3175.000000   \n",
      "mean      11.953701      11.943307      13.984252      16.034646   \n",
      "std       33.878681      32.424639      36.046621      41.580261   \n",
      "min        0.000000       0.000000       0.000000       0.000000   \n",
      "25%        0.000000       0.000000       0.000000       0.000000   \n",
      "50%        0.000000       0.000000       0.000000       0.000000   \n",
      "75%       10.000000       9.000000      12.000000      15.000000   \n",
      "max      868.000000     675.000000     675.000000     990.000000   \n",
      "\n",
      "       Encounters.15  Encounters.19  Encounters.20  Encounters.21  \\\n",
      "count    3175.000000    3175.000000    3175.000000    3175.000000   \n",
      "mean       16.866772      11.479055      13.577953      15.791496   \n",
      "std        42.675261      36.058808      39.533378      47.716059   \n",
      "min         0.000000       0.000000       0.000000       0.000000   \n",
      "25%         0.000000       0.000000       0.000000       0.000000   \n",
      "50%         0.000000       0.000000       0.000000       0.000000   \n",
      "75%        17.000000       7.000000      12.000000      15.000000   \n",
      "max       990.000000     990.000000     990.000000    1406.000000   \n",
      "\n",
      "       Encounters.22  Encounters.26  ...  Appointments.10  \\\n",
      "count    3175.000000    3175.000000  ...      3175.000000   \n",
      "mean       16.693543      12.573228  ...         4.276535   \n",
      "std        48.842844      41.982558  ...         7.927984   \n",
      "min         0.000000       0.000000  ...         0.000000   \n",
      "25%         0.000000       0.000000  ...         0.000000   \n",
      "50%         0.000000       0.000000  ...         0.000000   \n",
      "75%        16.000000       9.000000  ...         7.000000   \n",
      "max      1406.000000    1406.000000  ...        57.000000   \n",
      "\n",
      "       Appointments_Sche.10  Encounters.17  Medialength.17  Appointments.17  \\\n",
      "count           3175.000000    3175.000000    3.175000e+03      3175.000000   \n",
      "mean               4.276535      14.488504    1.017664e+07         4.228346   \n",
      "std                7.927984      39.122863    2.683456e+07         7.972729   \n",
      "min                0.000000       0.000000    0.000000e+00         0.000000   \n",
      "25%                0.000000       0.000000    0.000000e+00         0.000000   \n",
      "50%                0.000000       0.000000    0.000000e+00         0.000000   \n",
      "75%                7.000000      13.000000    8.528500e+06         6.000000   \n",
      "max               57.000000     990.000000    4.372170e+08        66.000000   \n",
      "\n",
      "       Appointments_Sche.17  Appointments_Sche.-4  Encounters.24  \\\n",
      "count           3175.000000           3175.000000    3175.000000   \n",
      "mean               4.228346              5.228661      14.522835   \n",
      "std                7.972729              8.809901      43.584038   \n",
      "min                0.000000              0.000000       0.000000   \n",
      "25%                0.000000              0.000000       0.000000   \n",
      "50%                0.000000              0.000000       0.000000   \n",
      "75%                6.000000             10.000000      14.000000   \n",
      "max               66.000000             56.000000    1406.000000   \n",
      "\n",
      "       Medialength.24  Appointments.24  \n",
      "count    3.175000e+03      3175.000000  \n",
      "mean     9.927933e+06         4.099528  \n",
      "std      2.620762e+07         7.926779  \n",
      "min      0.000000e+00         0.000000  \n",
      "25%      0.000000e+00         0.000000  \n",
      "50%      0.000000e+00         0.000000  \n",
      "75%      7.979000e+06         5.000000  \n",
      "max      4.279180e+08        54.000000  \n",
      "\n",
      "[8 rows x 107 columns]\n"
     ]
    },
    {
     "name": "stdout",
     "output_type": "stream",
     "text": [
      "LX_test_pred_describe:        Encounters.5  Encounters.12  Encounters.13  Encounters.14  \\\n",
      "count    286.000000     286.000000     286.000000     286.000000   \n",
      "mean       0.580420      19.367133      19.213287      12.391608   \n",
      "std        3.682891      74.554971      55.969540      30.298755   \n",
      "min        0.000000       0.000000       0.000000       0.000000   \n",
      "25%        0.000000       0.000000       0.000000       0.000000   \n",
      "50%        0.000000       0.000000       3.000000       0.000000   \n",
      "75%        0.000000      15.000000      20.000000      12.000000   \n",
      "max       56.000000    1116.000000     783.000000     272.000000   \n",
      "\n",
      "       Encounters.15  Encounters.19  Encounters.20  Encounters.21  \\\n",
      "count     286.000000     286.000000     286.000000     286.000000   \n",
      "mean        0.003497      19.090909      20.157343      15.905594   \n",
      "std         0.059131      60.527495      51.034901      33.687858   \n",
      "min         0.000000       0.000000       0.000000       0.000000   \n",
      "25%         0.000000       0.000000       0.000000       0.000000   \n",
      "50%         0.000000       3.000000       6.000000       3.000000   \n",
      "75%         0.000000      18.000000      24.000000      20.000000   \n",
      "max         1.000000     812.000000     667.000000     360.000000   \n",
      "\n",
      "       Encounters.22  Encounters.26  ...  Appointments.10  \\\n",
      "count     286.000000     286.000000  ...       286.000000   \n",
      "mean        0.048951      17.765734  ...         3.996503   \n",
      "std         0.714056      60.153293  ...         7.392504   \n",
      "min         0.000000       0.000000  ...         0.000000   \n",
      "25%         0.000000       0.000000  ...         0.000000   \n",
      "50%         0.000000       1.000000  ...         0.000000   \n",
      "75%         0.000000      14.750000  ...         6.000000   \n",
      "max        12.000000     840.000000  ...        47.000000   \n",
      "\n",
      "       Appointments_Sche.10  Encounters.17  Medialength.17  Appointments.17  \\\n",
      "count            286.000000     286.000000    2.860000e+02       286.000000   \n",
      "mean              12.150350      11.821678    9.593881e+06         4.311189   \n",
      "std               12.773676      22.105164    2.025782e+07         7.291741   \n",
      "min                0.000000       0.000000    0.000000e+00         0.000000   \n",
      "25%                1.000000       0.000000    0.000000e+00         0.000000   \n",
      "50%                8.000000       0.000000    0.000000e+00         0.000000   \n",
      "75%               19.750000      15.000000    9.214250e+06         8.000000   \n",
      "max               64.000000     140.000000    1.398500e+08        36.000000   \n",
      "\n",
      "       Appointments_Sche.17  Appointments_Sche.-4  Encounters.24  \\\n",
      "count            286.000000            286.000000     286.000000   \n",
      "mean              13.171329              9.590909      10.562937   \n",
      "std               13.553611             12.007766      22.972628   \n",
      "min                0.000000              0.000000       0.000000   \n",
      "25%                0.250000              0.000000       0.000000   \n",
      "50%                9.000000              5.000000       0.000000   \n",
      "75%               21.750000             15.750000      10.750000   \n",
      "max               58.000000             58.000000     192.000000   \n",
      "\n",
      "       Medialength.24  Appointments.24  \n",
      "count    2.860000e+02       286.000000  \n",
      "mean     8.617598e+06         4.185315  \n",
      "std      2.092351e+07         7.865353  \n",
      "min      0.000000e+00         0.000000  \n",
      "25%      0.000000e+00         0.000000  \n",
      "50%      0.000000e+00         0.000000  \n",
      "75%      7.233250e+06         6.750000  \n",
      "max      1.870470e+08        51.000000  \n",
      "\n",
      "[8 rows x 107 columns]\n",
      "LY_train_pred_describe: count    3175.000000\n",
      "mean       19.528819\n",
      "std        46.058185\n",
      "min         0.000000\n",
      "25%         0.000000\n",
      "50%         2.000000\n",
      "75%        20.000000\n",
      "max       840.000000\n",
      "Name: Encounters.-5, dtype: float64\n",
      "physician_id_y_pred_RF_columns: Index(['id_physician', '2023-03-11'], dtype='object')\n",
      "physician_id_y_pred_RF_DTYPES: id_physician     object\n",
      "2023-03-11      float64\n",
      "dtype: object\n",
      "result_df_columns: Index(['id_physician', '2023-03-07', '2023-03-08', '2023-03-09', '2023-03-10',\n",
      "       '2023-03-11'],\n",
      "      dtype='object')\n",
      "result_dataframe_columns Index(['id_physician', '2023-03-07', '2023-03-08', '2023-03-09', '2023-03-10',\n",
      "       '2023-03-11'],\n",
      "      dtype='object')\n",
      "LX_train_pred_describe:        Encounters.5  Encounters.12  Encounters.13  Encounters.14  \\\n",
      "count   3175.000000    3175.000000    3175.000000    3175.000000   \n",
      "mean      11.953701      11.943307      13.984252      16.034646   \n",
      "std       33.878681      32.424639      36.046621      41.580261   \n",
      "min        0.000000       0.000000       0.000000       0.000000   \n",
      "25%        0.000000       0.000000       0.000000       0.000000   \n",
      "50%        0.000000       0.000000       0.000000       0.000000   \n",
      "75%       10.000000       9.000000      12.000000      15.000000   \n",
      "max      868.000000     675.000000     675.000000     990.000000   \n",
      "\n",
      "       Encounters.15  Encounters.19  Encounters.20  Encounters.21  \\\n",
      "count    3175.000000    3175.000000    3175.000000    3175.000000   \n",
      "mean       16.866772      11.479055      13.577953      15.791496   \n",
      "std        42.675261      36.058808      39.533378      47.716059   \n",
      "min         0.000000       0.000000       0.000000       0.000000   \n",
      "25%         0.000000       0.000000       0.000000       0.000000   \n",
      "50%         0.000000       0.000000       0.000000       0.000000   \n",
      "75%        17.000000       7.000000      12.000000      15.000000   \n",
      "max       990.000000     990.000000     990.000000    1406.000000   \n",
      "\n",
      "       Encounters.22  Encounters.26  ...  Appointments.10  \\\n",
      "count    3175.000000    3175.000000  ...      3175.000000   \n",
      "mean       16.693543      12.573228  ...         4.276535   \n",
      "std        48.842844      41.982558  ...         7.927984   \n",
      "min         0.000000       0.000000  ...         0.000000   \n",
      "25%         0.000000       0.000000  ...         0.000000   \n",
      "50%         0.000000       0.000000  ...         0.000000   \n",
      "75%        16.000000       9.000000  ...         7.000000   \n",
      "max      1406.000000    1406.000000  ...        57.000000   \n",
      "\n",
      "       Appointments_Sche.10  Encounters.17  Medialength.17  Appointments.17  \\\n",
      "count           3175.000000    3175.000000    3.175000e+03      3175.000000   \n",
      "mean               4.276535      14.488504    1.017664e+07         4.228346   \n",
      "std                7.927984      39.122863    2.683456e+07         7.972729   \n",
      "min                0.000000       0.000000    0.000000e+00         0.000000   \n",
      "25%                0.000000       0.000000    0.000000e+00         0.000000   \n",
      "50%                0.000000       0.000000    0.000000e+00         0.000000   \n",
      "75%                7.000000      13.000000    8.528500e+06         6.000000   \n",
      "max               57.000000     990.000000    4.372170e+08        66.000000   \n",
      "\n",
      "       Appointments_Sche.17  Appointments_Sche.-4  Encounters.24  \\\n",
      "count           3175.000000           3175.000000    3175.000000   \n",
      "mean               4.228346              5.228661      14.522835   \n",
      "std                7.972729              8.809901      43.584038   \n",
      "min                0.000000              0.000000       0.000000   \n",
      "25%                0.000000              0.000000       0.000000   \n",
      "50%                0.000000              0.000000       0.000000   \n",
      "75%                6.000000             10.000000      14.000000   \n",
      "max               66.000000             56.000000    1406.000000   \n",
      "\n",
      "       Medialength.24  Appointments.24  \n",
      "count    3.175000e+03      3175.000000  \n",
      "mean     9.927933e+06         4.099528  \n",
      "std      2.620762e+07         7.926779  \n",
      "min      0.000000e+00         0.000000  \n",
      "25%      0.000000e+00         0.000000  \n",
      "50%      0.000000e+00         0.000000  \n",
      "75%      7.979000e+06         5.000000  \n",
      "max      4.279180e+08        54.000000  \n",
      "\n",
      "[8 rows x 107 columns]\n",
      "LX_test_pred_describe:        Encounters.5  Encounters.12  Encounters.13  Encounters.14  \\\n",
      "count    286.000000     286.000000     286.000000     286.000000   \n",
      "mean       0.580420      19.367133      19.213287      12.391608   \n",
      "std        3.682891      74.554971      55.969540      30.298755   \n",
      "min        0.000000       0.000000       0.000000       0.000000   \n",
      "25%        0.000000       0.000000       0.000000       0.000000   \n",
      "50%        0.000000       0.000000       3.000000       0.000000   \n",
      "75%        0.000000      15.000000      20.000000      12.000000   \n",
      "max       56.000000    1116.000000     783.000000     272.000000   \n",
      "\n",
      "       Encounters.15  Encounters.19  Encounters.20  Encounters.21  \\\n",
      "count     286.000000     286.000000     286.000000     286.000000   \n",
      "mean        0.003497      19.090909      20.157343      15.905594   \n",
      "std         0.059131      60.527495      51.034901      33.687858   \n",
      "min         0.000000       0.000000       0.000000       0.000000   \n",
      "25%         0.000000       0.000000       0.000000       0.000000   \n",
      "50%         0.000000       3.000000       6.000000       3.000000   \n",
      "75%         0.000000      18.000000      24.000000      20.000000   \n",
      "max         1.000000     812.000000     667.000000     360.000000   \n",
      "\n",
      "       Encounters.22  Encounters.26  ...  Appointments.10  \\\n",
      "count     286.000000     286.000000  ...       286.000000   \n",
      "mean        0.048951      17.765734  ...         3.996503   \n",
      "std         0.714056      60.153293  ...         7.392504   \n",
      "min         0.000000       0.000000  ...         0.000000   \n",
      "25%         0.000000       0.000000  ...         0.000000   \n",
      "50%         0.000000       1.000000  ...         0.000000   \n",
      "75%         0.000000      14.750000  ...         6.000000   \n",
      "max        12.000000     840.000000  ...        47.000000   \n",
      "\n",
      "       Appointments_Sche.10  Encounters.17  Medialength.17  Appointments.17  \\\n",
      "count            286.000000     286.000000    2.860000e+02       286.000000   \n",
      "mean              12.150350      11.821678    9.593881e+06         4.311189   \n",
      "std               12.773676      22.105164    2.025782e+07         7.291741   \n",
      "min                0.000000       0.000000    0.000000e+00         0.000000   \n",
      "25%                1.000000       0.000000    0.000000e+00         0.000000   \n",
      "50%                8.000000       0.000000    0.000000e+00         0.000000   \n",
      "75%               19.750000      15.000000    9.214250e+06         8.000000   \n",
      "max               64.000000     140.000000    1.398500e+08        36.000000   \n",
      "\n",
      "       Appointments_Sche.17  Appointments_Sche.-4  Encounters.24  \\\n",
      "count            286.000000            286.000000     286.000000   \n",
      "mean              13.171329              9.590909      10.562937   \n",
      "std               13.553611             12.007766      22.972628   \n",
      "min                0.000000              0.000000       0.000000   \n",
      "25%                0.250000              0.000000       0.000000   \n",
      "50%                9.000000              5.000000       0.000000   \n",
      "75%               21.750000             15.750000      10.750000   \n",
      "max               58.000000             58.000000     192.000000   \n",
      "\n",
      "       Medialength.24  Appointments.24  \n",
      "count    2.860000e+02       286.000000  \n",
      "mean     8.617598e+06         4.185315  \n",
      "std      2.092351e+07         7.865353  \n",
      "min      0.000000e+00         0.000000  \n",
      "25%      0.000000e+00         0.000000  \n",
      "50%      0.000000e+00         0.000000  \n",
      "75%      7.233250e+06         6.750000  \n",
      "max      1.870470e+08        51.000000  \n",
      "\n",
      "[8 rows x 107 columns]\n",
      "LY_train_pred_describe: count    3175.000000\n",
      "mean       19.327244\n",
      "std        48.039297\n",
      "min         0.000000\n",
      "25%         0.000000\n",
      "50%         2.000000\n",
      "75%        20.000000\n",
      "max       899.000000\n",
      "Name: Encounters.-6, dtype: float64\n"
     ]
    },
    {
     "name": "stdout",
     "output_type": "stream",
     "text": [
      "physician_id_y_pred_RF_columns: Index(['id_physician', '2023-03-12'], dtype='object')\n",
      "physician_id_y_pred_RF_DTYPES: id_physician     object\n",
      "2023-03-12      float64\n",
      "dtype: object\n",
      "result_df_columns: Index(['id_physician', '2023-03-07', '2023-03-08', '2023-03-09', '2023-03-10',\n",
      "       '2023-03-11', '2023-03-12'],\n",
      "      dtype='object')\n",
      "result_dataframe_columns Index(['id_physician', '2023-03-07', '2023-03-08', '2023-03-09', '2023-03-10',\n",
      "       '2023-03-11', '2023-03-12'],\n",
      "      dtype='object')\n"
     ]
    }
   ],
   "source": [
    "#Next Step\n",
    "result_dataframe=Only_physician_id.copy()\n",
    "for predicted_day in range(1,No_prediction_days):\n",
    "    predicted_date=(datetime.date(Test_year,Test_month,(Test_day+predicted_day))).strftime(\"%Y-%m-%d\")\n",
    "#     print(\"predicted_date :\",predicted_date)\n",
    "    \n",
    "    result_dataframe= add_random_forest_day(cheating_X_train_pred,Y_train_pred_7,\n",
    "                          X_test_pred=TI1.reset_index(),Y_test_pred_7=None,day=-(predicted_day),\n",
    "                input_Dataframe=result_dataframe,predicted_column_name=predicted_date) \n",
    "    print(\"result_dataframe_columns\",result_dataframe.columns)\n",
    "   \n",
    " #keep adding to result_dataframe(7 times)"
   ]
  },
  {
   "cell_type": "code",
   "execution_count": 402,
   "id": "9779a090",
   "metadata": {},
   "outputs": [],
   "source": [
    "#Excel Output\n",
    "result_dataframe.to_excel(\"ResultDataframe.xlsx\")"
   ]
  },
  {
   "cell_type": "code",
   "execution_count": null,
   "id": "0f4b412d",
   "metadata": {},
   "outputs": [],
   "source": [
    "(X_train_pred.columns)"
   ]
  },
  {
   "cell_type": "code",
   "execution_count": null,
   "id": "83fe2720",
   "metadata": {},
   "outputs": [],
   "source": [
    "set(X_train_pred.columns)-set(TI1.columns)"
   ]
  },
  {
   "cell_type": "code",
   "execution_count": null,
   "id": "61eaa38c",
   "metadata": {},
   "outputs": [],
   "source": [
    "set(TI1.columns)-set(X_train_pred.columns)"
   ]
  },
  {
   "cell_type": "code",
   "execution_count": null,
   "id": "8f8c38a5",
   "metadata": {},
   "outputs": [],
   "source": [
    "X_train_pred.shape,Y_train_pred_7.shape,X_test_pred.shape,Y_test_pred_7.shape"
   ]
  },
  {
   "cell_type": "code",
   "execution_count": null,
   "id": "76697de0",
   "metadata": {},
   "outputs": [],
   "source": [
    "#Evaluate per day\n",
    "def Feb_test_day(Y_test_pred_7,day):\n",
    "        \n",
    "    Enc_day=\"Encounters.%d\"%day\n",
    "    LY_test_pred= Y_test_pred_7[Enc_day].copy()\n",
    "    LY_test_pred.columns=[day]\n",
    "    LY_test_pred.fillna(value=0,inplace=True)\n",
    "    return LY_test_pred"
   ]
  },
  {
   "cell_type": "code",
   "execution_count": null,
   "id": "c442fae3",
   "metadata": {},
   "outputs": [],
   "source": [
    "y_test_pred_day_M1=Feb_test_day(Y_test_pred_7,day=-1)\n",
    "y_test_pred_day_M7=Feb_test_day(Y_test_pred_7,day=-7)"
   ]
  },
  {
   "cell_type": "code",
   "execution_count": null,
   "id": "7cffa58c",
   "metadata": {},
   "outputs": [],
   "source": [
    "def evaluate(Y_test_pred, y_pred_RF):\n",
    "        print(\"Type of Y_test_pred:\",type(Y_test_pred))\n",
    "        print(\"Type of y_pred_RF:\",type(y_pred_RF))\n",
    "        print(\"Y_test_pred null value:\",Y_test_pred.isnull().values.any())\n",
    "#       print(\"y_pred_RF null value:\",y_pred_RF.isnull().values.any())\n",
    "        print(\"y_pred_RF null value:\",sum(np.isnan(y_pred_RF)))\n",
    "        mse_RF = mean_squared_error(Y_test_pred, y_pred_RF)\n",
    "        mae_RF = mean_absolute_error(Y_test_pred, y_pred_RF)\n",
    "        R_sqr_score=r2_score(Y_test_pred,y_pred_RF)\n",
    "        print('Mean squared error using Random Forest: ', mse_RF)\n",
    "        print('Mean absolute error using Random Forest: ', mae_RF)\n",
    "        print('R2 score:',R_sqr_score) \n",
    "        \n",
    "        return mse_RF,mae_RF,R_sqr_score"
   ]
  },
  {
   "cell_type": "code",
   "execution_count": null,
   "id": "11e00677",
   "metadata": {},
   "outputs": [],
   "source": [
    "evaluate(Result_day1.iloc[:,-2],Result_day1.iloc[:,-1])"
   ]
  },
  {
   "cell_type": "code",
   "execution_count": null,
   "id": "cd7deb31",
   "metadata": {},
   "outputs": [],
   "source": [
    "def evaluate_subset(Xyp,query_str,day):\n",
    "\n",
    "    \n",
    "    Xyp_subset=Xyp.query(query_str).copy()\n",
    "#     print(\"Xyp subset:\",Xyp_subset.isnull().values.any())\n",
    "#     print(\"Xyp_shape:\",Xyp_subset.shape)\n",
    "#     print(\"Test for infinity:\" ,Xyp_subset[np.isfinite(Xyp_subset).all(1)])\n",
    "    \n",
    "    Xyp_subset.replace([np.inf, -np.inf], np.nan, inplace=True)\n",
    "#     print(\"Test for infinity:\" ,Xyp_subset[np.isfinite(Xyp_subset).all(1)])\n",
    "#     print(\"Xyp y_pred_RF:\",Xyp[\"y_pred_RF_df\"].to_numpy())\n",
    "#     print(\"Y_test_pred:\",Xyp[\"Y_test_pred_df\"])\n",
    "   \n",
    "    evaluate(Xyp.iloc[:,-2],Xyp.iloc[:,-1])\n",
    "    \n",
    "  \n",
    "             \n",
    " #concatinate above 3 dataframe into new dataframe(Xyp)----> done "
   ]
  },
  {
   "cell_type": "code",
   "execution_count": null,
   "id": "5342ddca",
   "metadata": {},
   "outputs": [],
   "source": [
    "evaluate_subset(Result_day1,query_str=\"id_physician==id_physician\",day=-1)"
   ]
  },
  {
   "cell_type": "code",
   "execution_count": null,
   "id": "7432f389",
   "metadata": {},
   "outputs": [],
   "source": [
    "def compute_appointment_only_baseline(X_test_pred,Y_test_pred_7,day):\n",
    "    Enc_day=\"Encounters.%d\"%day\n",
    "    App_day=\"Appointments.%d\"%day\n",
    "    One_App=X_test_pred[App_day].fillna(0)\n",
    "    Onc_Enc=Y_test_pred_7[Enc_day].fillna(0)\n",
    "    df_result=pd.concat([X_test_pred,Onc_Enc,One_App],axis=1,join = 'outer')\n",
    "\n",
    "    return df_result"
   ]
  },
  {
   "cell_type": "code",
   "execution_count": null,
   "id": "9901879d",
   "metadata": {},
   "outputs": [],
   "source": [
    "Appointment_only_day1=compute_appointment_only_baseline(X_test_pred,Y_test_pred_7,day=-1)\n",
    "Appointment_only_day7=compute_appointment_only_baseline(X_test_pred,Y_test_pred_7,day=-7)"
   ]
  },
  {
   "cell_type": "code",
   "execution_count": null,
   "id": "b6790400",
   "metadata": {},
   "outputs": [],
   "source": [
    "evaluate_subset(Appointment_only_day1,query_str=\"id_physician==id_physician\",day=-1)\n",
    "evaluate_subset(Appointment_only_day7,query_str=\"id_physician==id_physician\",day=-7)"
   ]
  },
  {
   "cell_type": "code",
   "execution_count": null,
   "id": "f59f7e8a",
   "metadata": {},
   "outputs": [],
   "source": [
    "X_train_pred.shape,X_test_pred.shape,Y_train_pred_7.shape,Y_test_pred_7.shape"
   ]
  },
  {
   "cell_type": "code",
   "execution_count": null,
   "id": "90ff0850",
   "metadata": {},
   "outputs": [],
   "source": [
    "#Split into features and target (Encounters)\n",
    "X_train=train.drop(columns=['Encounters',\"EncounterDate\"],)\n",
    "y_train=train['Encounters']\n",
    "X_test=test.drop(columns=['Encounters',\"EncounterDate\"])\n",
    "y_test=test['Encounters']\n",
    "X_train.shape"
   ]
  },
  {
   "cell_type": "code",
   "execution_count": null,
   "id": "4e60f24e",
   "metadata": {},
   "outputs": [],
   "source": [
    "y_train.shape"
   ]
  },
  {
   "cell_type": "code",
   "execution_count": null,
   "id": "5695644e",
   "metadata": {},
   "outputs": [],
   "source": [
    "X_test.shape\n",
    "#X_test.to_csv(\"Testing.csv\",index=False)"
   ]
  },
  {
   "cell_type": "code",
   "execution_count": null,
   "id": "c7d2ea55",
   "metadata": {},
   "outputs": [],
   "source": [
    "#X_train, X_test, y_train, y_test = train_test_split(X, y, test_size = 0.2, random_state = 20)"
   ]
  },
  {
   "cell_type": "code",
   "execution_count": null,
   "id": "af5f5bce",
   "metadata": {},
   "outputs": [],
   "source": [
    "#Linear regression\n",
    "import sklearn\n",
    "from sklearn import linear_model\n",
    "from sklearn.linear_model import LinearRegression\n",
    "from sklearn.tree import DecisionTreeRegressor\n",
    "from sklearn.ensemble import RandomForestRegressor\n",
    "from sklearn.metrics import mean_squared_error, mean_absolute_error,r2_score"
   ]
  },
  {
   "cell_type": "code",
   "execution_count": null,
   "id": "69cb5ed2",
   "metadata": {},
   "outputs": [],
   "source": [
    "df2 = df2[np.isfinite(df2).all(1)]"
   ]
  },
  {
   "cell_type": "code",
   "execution_count": null,
   "id": "ce6e90d7",
   "metadata": {},
   "outputs": [],
   "source": [
    "#df2.replace([np.inf, -np.inf], np.nan, inplace=True)\n",
    "df2[:] = np.nan_to_num(df2)"
   ]
  },
  {
   "cell_type": "code",
   "execution_count": null,
   "id": "b6213ec2",
   "metadata": {},
   "outputs": [],
   "source": [
    "df2.isna().sum()"
   ]
  },
  {
   "cell_type": "code",
   "execution_count": null,
   "id": "89518b3b",
   "metadata": {},
   "outputs": [],
   "source": [
    "lr_model = linear_model.LinearRegression()\n",
    "lr_model.fit(X_train, y_train)\n",
    "y_pred_lr = lr_model.predict(X_test)\n",
    "mse_lr = mean_squared_error(y_test, y_pred_lr)\n",
    "mae_lr = mean_absolute_error(y_test, y_pred_lr)\n",
    "print('Mean squared error from linear regression: ', mse_lr)\n",
    "print('Mean absolute error from linear regression: ', mae_lr)\n",
    "print('R2 score',r2_score(y_test,y_pred_lr))"
   ]
  },
  {
   "cell_type": "code",
   "execution_count": null,
   "id": "a84dd0a0",
   "metadata": {},
   "outputs": [],
   "source": [
    "def MAX_previous_encounter(history,target_days):   \n",
    "    # functions to estimate no of encounters for physicians using same day of the week in the last 4 weeks.\n",
    "    target_physician_ids = set(target_days['id_physician']) \n",
    "    for id_physician_ in target_physician_ids:\n",
    "        days=target_days.query(\"id_physician==@id_physician_\")['EncounterDate_dayofyear']\n",
    "        history_physician=history.query(\"id_physician==@id_physician_\")\n",
    "        for day in days:\n",
    "            history_physician_day=history_physician.copy()\n",
    "            history_physician_day[\"def_days\"]= day-history_physician_day[\"EncounterDate_dayofyear\"]\n",
    "            history_days=history_physician_day.query(\"def_days in[7,14,21,28]\")\n",
    "            if history_days.shape[0]==0:\n",
    "                max_encounter=0\n",
    "            else:\n",
    "                max_encounter=max(history_days[\"Encounters\"])\n",
    "            "
   ]
  },
  {
   "cell_type": "code",
   "execution_count": null,
   "id": "1cb70669",
   "metadata": {},
   "outputs": [],
   "source": [
    "def MAX_previous_encounter(X_test,X_train):   \n",
    "    # functions to estimate no of encounters for physicians using same day of the week in the last 4 weeks.\n",
    "    X_test=X_test.copy()\n",
    "    history=(pd.concat([X_test,X_train])) \n",
    "\n",
    "    for index in X_test.index: \n",
    "        id_physician_=X_test.loc[index,\"id_physician\"]\n",
    "#         EncounterDate_dayofyear_=X_test.loc[index,\"EncounterDate_dayofyear\"]\n",
    "        day=X_test.loc[index,\"EncounterDate_dayofyear\"]\n",
    "        history_physician=history.query(\"id_physician==@id_physician_\")\n",
    "        \n",
    "\n",
    "#         history_physician=history_physician.query(\"EncounterDate_dayofyear==@EncounterDate_dayofyear_\")\n",
    "        \n",
    "#         print(history_physician.shape)\n",
    "\n",
    "        history_physician_day=history_physician.copy()\n",
    "        history_physician_day[\"def_days\"]= day-history_physician_day[\"EncounterDate_dayofyear\"]\n",
    "        history_days=history_physician_day.query(\"def_days in[7,14,21,28]\")\n",
    "        if history_days.shape[0]==0:\n",
    "            max_encounter=0\n",
    "        else:\n",
    "            max_encounter=max(history_days[\"Encounters\"])\n",
    "        X_test.loc[index,\"max_encounter\"]= max_encounter\n",
    "    Output=X_test[\"max_encounter\"]\n",
    "    return Output"
   ]
  },
  {
   "cell_type": "code",
   "execution_count": null,
   "id": "e551bf11",
   "metadata": {},
   "outputs": [],
   "source": [
    "Pred_max=MAX_previous_encounter(X_test=test,X_train=train)\n",
    "Pred_max"
   ]
  },
  {
   "cell_type": "code",
   "execution_count": null,
   "id": "6e21f231",
   "metadata": {
    "scrolled": true
   },
   "outputs": [],
   "source": [
    "df2.head(5)"
   ]
  },
  {
   "cell_type": "code",
   "execution_count": null,
   "id": "b3408fbc",
   "metadata": {},
   "outputs": [],
   "source": [
    "### Decision tree\n",
    "tree = DecisionTreeRegressor()\n",
    "tree.fit(X_train, y_train)\n",
    "y_pred_tree = tree.predict(X_test)\n",
    "\n",
    "mse_dt = mean_squared_error(y_test, y_pred_tree)\n",
    "mae_dt = mean_absolute_error(y_test, y_pred_tree)\n",
    "mse_Max = mean_squared_error(y_test, Pred_max)\n",
    "mae_Max = mean_absolute_error(y_test, Pred_max)\n",
    "print('Mean squared error using decision tree: ', mse_dt)\n",
    "print('Mean absolute error using decision tree: ', mae_dt)\n",
    "print('Mean squared error using MAX Pred: ', mse_Max)\n",
    "print('Mean absolute error using MAX Pred: ', mae_Max)\n",
    "print('R2 score',r2_score(y_test,y_pred_tree))\n",
    "print('R2 score MAX Pred',r2_score(y_test,Pred_max))"
   ]
  },
  {
   "cell_type": "code",
   "execution_count": null,
   "id": "235a9916",
   "metadata": {},
   "outputs": [],
   "source": [
    "#Random forest.\n",
    "#Increase number of trees and see the effect\n",
    "from sklearn.ensemble import RandomForestRegressor\n",
    "model = RandomForestRegressor(n_estimators=100,\n",
    "                              criterion='squared_error',\n",
    "                              random_state=None,\n",
    "                              max_samples= None,\n",
    "                              max_features= 0.8 ,\n",
    "                              max_depth=60)\n",
    "model.fit(X_train, y_train)\n",
    "\n",
    "y_pred_RF = model.predict(X_test)\n",
    "\n",
    "mse_RF = mean_squared_error(y_test, y_pred_RF)\n",
    "mae_RF = mean_absolute_error(y_test, y_pred_RF)\n",
    "print('Mean squared error using Random Forest: ', mse_RF)\n",
    "print('Mean absolute error using Random Forest: ', mae_RF)\n",
    "print('R2 score',r2_score(y_test,y_pred_RF))\n",
    "mse_MAX = mean_squared_error(y_test, Pred_max)\n",
    "mae_MAX = mean_absolute_error(y_test, Pred_max)\n",
    "print('Mean squared error using MAX Pred: ', mse_MAX)\n",
    "print('Mean absolute error using MAX Pred: ', mae_MAX)\n",
    "print('R2 score MAX',r2_score(y_test,Pred_max))"
   ]
  },
  {
   "cell_type": "code",
   "execution_count": null,
   "id": "9dc22798",
   "metadata": {},
   "outputs": [],
   "source": [
    "y_pred_DRF = pd.DataFrame(y_pred_RF)\n",
    "print(type(y_pred_RF))\n",
    "test.shape,y_pred_DRF.shape"
   ]
  },
  {
   "cell_type": "code",
   "execution_count": null,
   "id": "e000c557",
   "metadata": {},
   "outputs": [],
   "source": [
    "y_pred_DRF.reset_index().loc[900:]"
   ]
  },
  {
   "cell_type": "code",
   "execution_count": null,
   "id": "f8b5c3a9",
   "metadata": {},
   "outputs": [],
   "source": [
    "Val=pd.concat([test.reset_index(),y_pred_DRF.reset_index()],axis=1,)\n",
    "Val['Medialength'].describe()"
   ]
  },
  {
   "cell_type": "code",
   "execution_count": null,
   "id": "5c43bf37",
   "metadata": {},
   "outputs": [],
   "source": [
    "Val.to_csv(\"validate.csv\",index=False)"
   ]
  },
  {
   "cell_type": "code",
   "execution_count": null,
   "id": "e1e42c24",
   "metadata": {},
   "outputs": [],
   "source": [
    "Pred_max.describe()"
   ]
  },
  {
   "cell_type": "code",
   "execution_count": null,
   "id": "5bd2f0cf",
   "metadata": {},
   "outputs": [],
   "source": [
    "#print(lr_model.coef_)"
   ]
  },
  {
   "cell_type": "code",
   "execution_count": null,
   "id": "37853235",
   "metadata": {},
   "outputs": [],
   "source": [
    "# print(lr_model.intercept_)"
   ]
  },
  {
   "cell_type": "code",
   "execution_count": null,
   "id": "c95fa037",
   "metadata": {},
   "outputs": [],
   "source": [
    "y_pred_RF=model.predict(X_test)\n",
    "#print(X_test)\n",
    "print(type(y_pred_RF))"
   ]
  },
  {
   "cell_type": "code",
   "execution_count": null,
   "id": "a7310d15",
   "metadata": {},
   "outputs": [],
   "source": [
    "y_pred_RF.shape"
   ]
  },
  {
   "cell_type": "code",
   "execution_count": null,
   "id": "2c535bf9",
   "metadata": {
    "scrolled": true
   },
   "outputs": [],
   "source": [
    "Test=pd.read_csv('Testing.csv')\n",
    "Test.head()\n",
    "Test.shape,y_pred_RF.shape\n",
    "# Oct_Pred=pd.read_excel(\"October_Pred.xlsx\")\n",
    "# Oct_Pred.head()"
   ]
  },
  {
   "cell_type": "code",
   "execution_count": null,
   "id": "67c41249",
   "metadata": {},
   "outputs": [],
   "source": [
    "dframe=pd.DataFrame(y_test,y_pred_RF,Pred_max)\n",
    "dfr=pd.DataFrame({\"Actual Volume\": y_test, \"Predicted Volume\":y_pred_RF ,\"Max Volume\": Pred_max})\n",
    "#print(dfr.head(50))"
   ]
  },
  {
   "cell_type": "code",
   "execution_count": null,
   "id": "a9c597f1",
   "metadata": {
    "scrolled": true
   },
   "outputs": [],
   "source": [
    "# submission=pd.DataFrame()\n",
    "# submission[:]=Test[:]\n",
    "# submission[\"Volume\"]=y_pred_RF\n",
    "# submission.head(50)"
   ]
  },
  {
   "cell_type": "code",
   "execution_count": null,
   "id": "0f35934a",
   "metadata": {},
   "outputs": [],
   "source": [
    "#submission.to_csv(\"my_submission.csv\",index=False)"
   ]
  },
  {
   "cell_type": "code",
   "execution_count": null,
   "id": "becc5861",
   "metadata": {},
   "outputs": [],
   "source": [
    "y_pred_RF.shape,y_test.shape"
   ]
  },
  {
   "cell_type": "code",
   "execution_count": null,
   "id": "29f87a48",
   "metadata": {},
   "outputs": [],
   "source": [
    "plt.show()"
   ]
  },
  {
   "cell_type": "code",
   "execution_count": null,
   "id": "45862e97",
   "metadata": {},
   "outputs": [],
   "source": [
    "plt.plot(y_test, color='blue', label = 'Actual Volume')\n",
    "plt.plot(y_pred_RF, color='green', label='Predicted Volume')\n",
    "plt.title('Actual Volume vs Predicted Volume')\n",
    "plt.xlabel('Number of values')\n",
    "plt.ylabel('Volume')\n",
    "plt.legend()\n"
   ]
  },
  {
   "cell_type": "code",
   "execution_count": null,
   "id": "9bf1c12e",
   "metadata": {},
   "outputs": [],
   "source": [
    "plt.plot(y_test, color='blue', label = 'Actual Volume')\n",
    "plt.plot(Pred_max, color='green', label='Maximum Pred Volume')\n",
    "plt.title('Actual Volume vs Predicted Volume')\n",
    "plt.xlabel('Number of values')\n",
    "plt.ylabel('Volume')\n",
    "plt.legend()\n"
   ]
  },
  {
   "cell_type": "code",
   "execution_count": null,
   "id": "5beb56b0",
   "metadata": {
    "scrolled": true
   },
   "outputs": [],
   "source": [
    "sns.jointplot(data=df2,x=y_test,y=Pred_max)"
   ]
  },
  {
   "cell_type": "code",
   "execution_count": null,
   "id": "dbba9401",
   "metadata": {},
   "outputs": [],
   "source": [
    "sns.distplot(y_pred_RF)"
   ]
  },
  {
   "cell_type": "code",
   "execution_count": null,
   "id": "59934a2c",
   "metadata": {},
   "outputs": [],
   "source": [
    "sns.jointplot(x=y_test, y=predicted)"
   ]
  },
  {
   "cell_type": "code",
   "execution_count": null,
   "id": "0720dcf8",
   "metadata": {},
   "outputs": [],
   "source": [
    "pd.Series(y_pred_RF).describe()"
   ]
  },
  {
   "cell_type": "code",
   "execution_count": null,
   "id": "1740b69c",
   "metadata": {},
   "outputs": [],
   "source": [
    "pd.Series(y_test).describe()"
   ]
  },
  {
   "cell_type": "code",
   "execution_count": null,
   "id": "45a40d09",
   "metadata": {
    "scrolled": false
   },
   "outputs": [],
   "source": [
    "# define the model\n",
    "#Experiment with deeper and wider networks\n",
    "model = Sequential()\n",
    "model.add(Dense(128, input_dim=273, activation='relu'))\n",
    "model.add(Dense(64, activation='relu'))\n",
    "#Output layer\n",
    "model.add(Dense(1, activation='linear'))\n",
    "\n",
    "model.compile(loss='mean_squared_error', optimizer='adam', metrics=['mae'])\n",
    "model.summary()"
   ]
  },
  {
   "cell_type": "code",
   "execution_count": null,
   "id": "6259c878",
   "metadata": {},
   "outputs": [],
   "source": [
    "len(X_train.columns)"
   ]
  },
  {
   "cell_type": "code",
   "execution_count": null,
   "id": "aadd89a8",
   "metadata": {
    "scrolled": false
   },
   "outputs": [],
   "source": [
    "import tensorflow as tf\n",
    "from tensorflow import keras\n",
    "\n",
    "\n",
    "model = keras.Sequential([\n",
    "    keras.layers.Dense(273, input_shape=(273,), activation='relu'),\n",
    "    keras.layers.Dense(15, activation='relu'),\n",
    "    keras.layers.Dense(1, activation='linear')\n",
    "])\n",
    "\n",
    "# opt = keras.optimizers.Adam(learning_rate=0.01)\n",
    "\n",
    "model.compile(optimizer='adam',\n",
    "              loss='mean_squared_error',\n",
    "              metrics=['accuracy'])\n",
    "\n",
    "model.fit(X_train, y_train, epochs=10)"
   ]
  },
  {
   "cell_type": "code",
   "execution_count": null,
   "id": "8c4cc6f2",
   "metadata": {},
   "outputs": [],
   "source": [
    "model.evaluate(X_test, y_test)"
   ]
  },
  {
   "cell_type": "code",
   "execution_count": null,
   "id": "971906fd",
   "metadata": {},
   "outputs": [],
   "source": [
    "############################################\n",
    "#Predict on test data\n",
    "predictions = model.predict(X_test[:5])\n",
    "print(\"Predicted values are: \", predictions)\n",
    "print(\"Real values are: \", y_test[:5])\n",
    "##############################################"
   ]
  }
 ],
 "metadata": {
  "kernelspec": {
   "display_name": "Python 3 (ipykernel)",
   "language": "python",
   "name": "python3"
  },
  "language_info": {
   "codemirror_mode": {
    "name": "ipython",
    "version": 3
   },
   "file_extension": ".py",
   "mimetype": "text/x-python",
   "name": "python",
   "nbconvert_exporter": "python",
   "pygments_lexer": "ipython3",
   "version": "3.9.12"
  }
 },
 "nbformat": 4,
 "nbformat_minor": 5
}
